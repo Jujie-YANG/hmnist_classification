{
 "cells": [
  {
   "cell_type": "code",
   "execution_count": 1,
   "id": "yP993Y2O1zc4",
   "metadata": {
    "colab": {
     "base_uri": "https://localhost:8080/"
    },
    "executionInfo": {
     "elapsed": 776,
     "status": "ok",
     "timestamp": 1660006466370,
     "user": {
      "displayName": "JUJIE YANG",
      "userId": "07067934053918991332"
     },
     "user_tz": -60
    },
    "id": "yP993Y2O1zc4",
    "outputId": "122a9385-ea8f-4b0b-f378-79c7225a3393"
   },
   "outputs": [
    {
     "name": "stdout",
     "output_type": "stream",
     "text": [
      "True\n",
      "1\n",
      "0\n",
      "<torch.cuda.device object at 0x7f98a44af0a0>\n",
      "NVIDIA GeForce RTX 3090\n"
     ]
    }
   ],
   "source": [
    "import torch\n",
    "print(torch.cuda.is_available())\n",
    "print(torch.cuda.device_count())\n",
    "print(torch.cuda.current_device())\n",
    "print(torch.cuda.device(0))\n",
    "print(torch.cuda.get_device_name(0))"
   ]
  },
  {
   "cell_type": "markdown",
   "id": "k1TYGLGzyI4S",
   "metadata": {
    "id": "k1TYGLGzyI4S"
   },
   "source": [
    "'dx' is short for diagnosis (for the patient)\n",
    "- 'nv': 'Melanocytic nevi'\n",
    "- 'mel': 'Melanoma'\n",
    "- 'bkl': 'Benign keratosis-like lesions'\n",
    "- 'bcc': 'Basal cell carcinoma'\n",
    "- 'akiec': 'Actinic keratoses'\n",
    "- 'vasc': 'Vascular lesions'\n",
    "- 'df': 'Dermatofibroma'\n",
    "\n",
    "'dx_type' is how the diagnosis was made. \n",
    "- histo        5340\n",
    "- follow_up    3704\n",
    "- consensus     902\n",
    "- confocal       69"
   ]
  },
  {
   "cell_type": "code",
   "execution_count": 2,
   "id": "toF9u1z-F31H",
   "metadata": {
    "id": "toF9u1z-F31H",
    "outputId": "f98413f2-9d81-4779-e5b0-8cf5dffdc021"
   },
   "outputs": [
    {
     "name": "stdout",
     "output_type": "stream",
     "text": [
      "Requirement already satisfied: timm in /home/jujie/anaconda3/lib/python3.9/site-packages (0.6.7)\r\n",
      "Requirement already satisfied: torch>=1.4 in /home/jujie/anaconda3/lib/python3.9/site-packages (from timm) (1.12.1+cu116)\r\n",
      "Requirement already satisfied: torchvision in /home/jujie/anaconda3/lib/python3.9/site-packages (from timm) (0.13.1+cu116)\r\n",
      "Requirement already satisfied: typing-extensions in /home/jujie/anaconda3/lib/python3.9/site-packages (from torch>=1.4->timm) (4.3.0)\r\n",
      "Requirement already satisfied: pillow!=8.3.*,>=5.3.0 in /home/jujie/anaconda3/lib/python3.9/site-packages (from torchvision->timm) (9.2.0)\r\n",
      "Requirement already satisfied: requests in /home/jujie/anaconda3/lib/python3.9/site-packages (from torchvision->timm) (2.28.1)\r\n",
      "Requirement already satisfied: numpy in /home/jujie/anaconda3/lib/python3.9/site-packages (from torchvision->timm) (1.21.5)\r\n",
      "Requirement already satisfied: certifi>=2017.4.17 in /home/jujie/anaconda3/lib/python3.9/site-packages (from requests->torchvision->timm) (2022.6.15)\r\n",
      "Requirement already satisfied: urllib3<1.27,>=1.21.1 in /home/jujie/anaconda3/lib/python3.9/site-packages (from requests->torchvision->timm) (1.26.11)\r\n",
      "Requirement already satisfied: charset-normalizer<3,>=2 in /home/jujie/anaconda3/lib/python3.9/site-packages (from requests->torchvision->timm) (2.0.4)\r\n",
      "Requirement already satisfied: idna<4,>=2.5 in /home/jujie/anaconda3/lib/python3.9/site-packages (from requests->torchvision->timm) (3.3)\r\n"
     ]
    }
   ],
   "source": [
    "## Now, we import timm, torchvision image models\n",
    "!pip install timm # kaggle doesnt have it installed by default\n",
    "import timm\n",
    "from timm.loss import LabelSmoothingCrossEntropy # This is better than normal nn.CrossEntropyLoss"
   ]
  },
  {
   "cell_type": "code",
   "execution_count": 3,
   "id": "0e078efa",
   "metadata": {
    "id": "0e078efa"
   },
   "outputs": [],
   "source": [
    "import pandas as pd\n",
    "from torch.utils.data import Dataset\n",
    "import torchvision.transforms as transforms\n",
    "import matplotlib.pyplot as plt\n",
    "\n",
    "def disease_to_label(l):\n",
    "    if l == \"akiec\":\n",
    "        return 0\n",
    "    if l == \"bcc\":\n",
    "        return 1\n",
    "    if l == \"bkl\":\n",
    "        return 2\n",
    "    if l == \"df\":\n",
    "        return 3\n",
    "    if l == \"mel\":\n",
    "        return 4\n",
    "    if l == \"nv\":\n",
    "        return 5\n",
    "    if l == \"vasc\":\n",
    "        return 6 \n",
    "\n",
    "class SkinCancerDetection_train(Dataset):\n",
    "    \n",
    "    def __init__(self, train_path, csv, transform=None):\n",
    "        self.train_path = train_path\n",
    "        self.csv_path = csv\n",
    "        self.transform = transform\n",
    "    def __len__(self):\n",
    "        df = pd.read_csv(self.csv_path)\n",
    "        return (len(df.index))\n",
    "    def __getitem__(self, idx):\n",
    "        image_id = \"ISIC_00\" + str(idx+27306)\n",
    "        image_file_name = image_id + \".jpg\"\n",
    "        df = pd.read_csv(self.csv_path)\n",
    "        label = disease_to_label(str(df.loc[df['image_id'] == image_id, 'dx'].item()))\n",
    "        p = os.path.join(self.train_path, image_file_name)\n",
    "\n",
    "        img = plt.imread(p)\n",
    "\n",
    "\n",
    "        if self.transform:\n",
    "            img = self.transform(img)\n",
    "        \n",
    "        return img, label\n",
    "    \n",
    "class SkinCancerDetection_test(Dataset):\n",
    "    \n",
    "    def __init__(self, test_path, csv, transform=None):\n",
    "        self.test_path = test_path\n",
    "        self.csv_path = csv\n",
    "        self.transform = transform\n",
    "    def __len__(self):\n",
    "        df = pd.read_csv(self.csv_path)\n",
    "        return (len(df.index))\n",
    "    def __getitem__(self, idx):\n",
    "        image_id = \"ISIC_00\" + str(idx+24306)\n",
    "        image_file_name = image_id + \".jpg\"\n",
    "        df = pd.read_csv(self.csv_path)\n",
    "        label = disease_to_label(str(df.loc[df['image_id'] == image_id, 'dx'].item()))\n",
    "        \n",
    "        p = os.path.join(self.test_path, image_file_name)\n",
    "        \n",
    "        img = plt.imread(p)\n",
    "            \n",
    "        if self.transform:\n",
    "            img = self.transform(img)\n",
    "        \n",
    "        return img, label"
   ]
  },
  {
   "cell_type": "code",
   "execution_count": 4,
   "id": "57b148ce",
   "metadata": {
    "id": "57b148ce"
   },
   "outputs": [],
   "source": [
    "train_transform = transforms.Compose([\n",
    "            transforms.ToPILImage(),\n",
    "            transforms.RandomHorizontalFlip(),\n",
    "            transforms.RandomVerticalFlip(),\n",
    "            transforms.RandomApply(torch.nn.ModuleList([transforms.ColorJitter()]), p=0.25),\n",
    "            transforms.Resize(256),\n",
    "            transforms.CenterCrop(224),\n",
    "            transforms.ToTensor(),\n",
    "            transforms.Normalize(timm.data.IMAGENET_DEFAULT_MEAN, timm.data.IMAGENET_DEFAULT_STD), # imagenet means\n",
    "            transforms.RandomErasing(p=0.1, value='random')\n",
    "        ])\n",
    "\n",
    "test_transform = transforms.Compose([\n",
    "    transforms.ToPILImage(),\n",
    "    transforms.Resize(256),\n",
    "    transforms.CenterCrop(224),\n",
    "    transforms.ToTensor(),\n",
    "    transforms.Normalize(timm.data.IMAGENET_DEFAULT_MEAN, timm.data.IMAGENET_DEFAULT_STD) # imagenet means\n",
    "])\n",
    "\n",
    "train_ds = SkinCancerDetection_train('../../kaggle/input/HAM10000_images_train','../../kaggle/input/HAM10000_metadata_train.csv',transform=train_transform)\n",
    "val_ds = SkinCancerDetection_test('../../kaggle/input/HAM10000_images_test','../../kaggle/input/HAM10000_metadata_test.csv',transform=test_transform)"
   ]
  },
  {
   "cell_type": "code",
   "execution_count": 5,
   "id": "b6772bc2",
   "metadata": {
    "colab": {
     "base_uri": "https://localhost:8080/"
    },
    "executionInfo": {
     "elapsed": 263,
     "status": "ok",
     "timestamp": 1660006472079,
     "user": {
      "displayName": "JUJIE YANG",
      "userId": "07067934053918991332"
     },
     "user_tz": -60
    },
    "id": "b6772bc2",
    "outputId": "6a99e4b6-660d-4b84-a621-d9035f0ca23e"
   },
   "outputs": [
    {
     "data": {
      "text/plain": [
       "3000"
      ]
     },
     "execution_count": 5,
     "metadata": {},
     "output_type": "execute_result"
    }
   ],
   "source": [
    "len(val_ds)"
   ]
  },
  {
   "cell_type": "markdown",
   "id": "pCsGdkRD4bta",
   "metadata": {
    "id": "pCsGdkRD4bta"
   },
   "source": [
    "## Split train and validation dataset\n",
    "- batch_size = 64\n",
    "\n"
   ]
  },
  {
   "cell_type": "code",
   "execution_count": 6,
   "id": "61470144",
   "metadata": {
    "colab": {
     "base_uri": "https://localhost:8080/",
     "height": 305
    },
    "executionInfo": {
     "elapsed": 14550,
     "status": "ok",
     "timestamp": 1660006486628,
     "user": {
      "displayName": "JUJIE YANG",
      "userId": "07067934053918991332"
     },
     "user_tz": -60
    },
    "id": "61470144",
    "outputId": "af97f90c-01fa-4b07-e768-9376e7aba101"
   },
   "outputs": [
    {
     "name": "stderr",
     "output_type": "stream",
     "text": [
      "Clipping input data to the valid range for imshow with RGB data ([0..1] for floats or [0..255] for integers).\n"
     ]
    },
    {
     "name": "stdout",
     "output_type": "stream",
     "text": [
      "<class 'torch.Tensor'>\n"
     ]
    },
    {
     "data": {
      "image/png": "[encoded data removed]",
      "text/plain": [
       "<Figure size 432x288 with 1 Axes>"
      ]
     },
     "metadata": {
      "needs_background": "light"
     },
     "output_type": "display_data"
    },
    {
     "name": "stdout",
     "output_type": "stream",
     "text": [
      "tensor(5)\n"
     ]
    }
   ],
   "source": [
    "import os\n",
    "import torch\n",
    "import torchvision\n",
    "import tarfile\n",
    "from torchvision.datasets.utils import download_url\n",
    "from torch.utils.data import random_split\n",
    "from torch.utils.data import DataLoader\n",
    "\n",
    "import matplotlib\n",
    "import matplotlib.pyplot as plt\n",
    "%matplotlib inline\n",
    "\n",
    "random_seed = 42\n",
    "torch.manual_seed(random_seed)\n",
    "\n",
    "# batch_size = 128\n",
    "batch_size = 64 \n",
    "\n",
    "train_dl = DataLoader(train_ds, batch_size, shuffle=True, num_workers=2, pin_memory=True)\n",
    "valid_dl = DataLoader(val_ds, batch_size*2, num_workers=2, pin_memory=True)\n",
    "\n",
    "plt.figure()\n",
    "\n",
    "for image, label in train_dl:\n",
    "    plt.imshow(image[0].permute(2, 1, 0))\n",
    "    print(type(image[0]))\n",
    "    plt.show()\n",
    "    print(label[0])\n",
    "    break"
   ]
  },
  {
   "cell_type": "code",
   "execution_count": 7,
   "id": "f48baac7",
   "metadata": {
    "id": "f48baac7"
   },
   "outputs": [],
   "source": [
    "def get_default_device():\n",
    "    \"\"\"Pick GPU if available, else CPU\"\"\"\n",
    "    if torch.cuda.is_available():\n",
    "        return torch.device('cuda')\n",
    "    else:\n",
    "        return torch.device('cpu')\n",
    "    \n",
    "def to_device(data, device):\n",
    "    \"\"\"Move tensor(s) to chosen device\"\"\"\n",
    "    if isinstance(data, (list,tuple)):\n",
    "        return [to_device(x, device) for x in data]\n",
    "    return data.to(device, non_blocking=True)\n",
    "\n",
    "class DeviceDataLoader():\n",
    "    \"\"\"Wrap a dataloader to move data to a device\"\"\"\n",
    "    def __init__(self, dl, device):\n",
    "        self.dl = dl\n",
    "        self.device = device\n",
    "        \n",
    "    def __iter__(self):\n",
    "        \"\"\"Yield a batch of data after moving it to device\"\"\"\n",
    "        for b in self.dl: \n",
    "            yield to_device(b, self.device)\n",
    "\n",
    "    def __len__(self):\n",
    "        \"\"\"Number of batches\"\"\"\n",
    "        return len(self.dl)\n",
    "device = get_default_device()\n",
    "train_dl = DeviceDataLoader(train_dl, device)\n",
    "valid_dl = DeviceDataLoader(valid_dl, device)"
   ]
  },
  {
   "cell_type": "code",
   "execution_count": 8,
   "id": "0e67c020",
   "metadata": {
    "id": "0e67c020"
   },
   "outputs": [],
   "source": [
    "import os\n",
    "import torch\n",
    "import torchvision\n",
    "import tarfile\n",
    "import torch.nn as nn\n",
    "import numpy as np\n",
    "import torch.nn.functional as F\n",
    "from torchvision.datasets.utils import download_url\n",
    "from torchvision.datasets import ImageFolder\n",
    "from torch.utils.data import DataLoader\n",
    "import torchvision.transforms as tt\n",
    "from torch.utils.data import random_split\n",
    "from torchvision.utils import make_grid\n",
    "import matplotlib\n",
    "import matplotlib.pyplot as plt\n",
    "%matplotlib inline\n",
    "\n",
    "def accuracy(outputs, labels):\n",
    "    _, preds = torch.max(outputs, dim=1)\n",
    "    return torch.tensor(torch.sum(preds == labels).item() / len(preds))\n"
   ]
  },
  {
   "cell_type": "code",
   "execution_count": 9,
   "id": "A4oqnxTBytnk",
   "metadata": {
    "colab": {
     "base_uri": "https://localhost:8080/"
    },
    "executionInfo": {
     "elapsed": 6530,
     "status": "ok",
     "timestamp": 1660006493155,
     "user": {
      "displayName": "JUJIE YANG",
      "userId": "07067934053918991332"
     },
     "user_tz": -60
    },
    "id": "A4oqnxTBytnk",
    "outputId": "8bdc53ca-005b-4161-a452-6e986474755d"
   },
   "outputs": [
    {
     "name": "stderr",
     "output_type": "stream",
     "text": [
      "Using cache found in /home/jujie/.cache/torch/hub/SharanSMenon_swin-transformer-hub_main\n",
      "/home/jujie/anaconda3/lib/python3.9/site-packages/torch/functional.py:478: UserWarning: torch.meshgrid: in an upcoming release, it will be required to pass the indexing argument. (Triggered internally at  ../aten/src/ATen/native/TensorShape.cpp:2894.)\n",
      "  return _VF.meshgrid(tensors, **kwargs)  # type: ignore[attr-defined]\n"
     ]
    }
   ],
   "source": [
    "HUB_URL = \"SharanSMenon/swin-transformer-hub:main\"\n",
    "MODEL_NAME = \"swin_tiny_patch4_window7_224\"\n",
    "# check hubconf for more models.\n",
    "swin_tiny_patch4_window7_224 = torch.hub.load(HUB_URL, MODEL_NAME, pretrained=True) # load from torch hub"
   ]
  },
  {
   "cell_type": "code",
   "execution_count": 10,
   "id": "61d8c2b3",
   "metadata": {
    "colab": {
     "base_uri": "https://localhost:8080/"
    },
    "executionInfo": {
     "elapsed": 13,
     "status": "ok",
     "timestamp": 1660006493156,
     "user": {
      "displayName": "JUJIE YANG",
      "userId": "07067934053918991332"
     },
     "user_tz": -60
    },
    "id": "61d8c2b3",
    "outputId": "05c15468-cc9c-4ede-841b-a79e585c925d"
   },
   "outputs": [
    {
     "data": {
      "text/plain": [
       "SwinTransformer(\n",
       "  (patch_embed): PatchEmbed(\n",
       "    (proj): Conv2d(3, 96, kernel_size=(4, 4), stride=(4, 4))\n",
       "    (norm): LayerNorm((96,), eps=1e-05, elementwise_affine=True)\n",
       "  )\n",
       "  (pos_drop): Dropout(p=0.0, inplace=False)\n",
       "  (layers): ModuleList(\n",
       "    (0): BasicLayer(\n",
       "      dim=96, input_resolution=(56, 56), depth=2\n",
       "      (blocks): ModuleList(\n",
       "        (0): SwinTransformerBlock(\n",
       "          dim=96, input_resolution=(56, 56), num_heads=3, window_size=7, shift_size=0, mlp_ratio=4.0\n",
       "          (norm1): LayerNorm((96,), eps=1e-05, elementwise_affine=True)\n",
       "          (attn): WindowAttention(\n",
       "            dim=96, window_size=(7, 7), num_heads=3\n",
       "            (qkv): Linear(in_features=96, out_features=288, bias=True)\n",
       "            (attn_drop): Dropout(p=0.0, inplace=False)\n",
       "            (proj): Linear(in_features=96, out_features=96, bias=True)\n",
       "            (proj_drop): Dropout(p=0.0, inplace=False)\n",
       "            (softmax): Softmax(dim=-1)\n",
       "          )\n",
       "          (drop_path): Identity()\n",
       "          (norm2): LayerNorm((96,), eps=1e-05, elementwise_affine=True)\n",
       "          (mlp): Mlp(\n",
       "            (fc1): Linear(in_features=96, out_features=384, bias=True)\n",
       "            (act): GELU(approximate=none)\n",
       "            (fc2): Linear(in_features=384, out_features=96, bias=True)\n",
       "            (drop): Dropout(p=0.0, inplace=False)\n",
       "          )\n",
       "        )\n",
       "        (1): SwinTransformerBlock(\n",
       "          dim=96, input_resolution=(56, 56), num_heads=3, window_size=7, shift_size=3, mlp_ratio=4.0\n",
       "          (norm1): LayerNorm((96,), eps=1e-05, elementwise_affine=True)\n",
       "          (attn): WindowAttention(\n",
       "            dim=96, window_size=(7, 7), num_heads=3\n",
       "            (qkv): Linear(in_features=96, out_features=288, bias=True)\n",
       "            (attn_drop): Dropout(p=0.0, inplace=False)\n",
       "            (proj): Linear(in_features=96, out_features=96, bias=True)\n",
       "            (proj_drop): Dropout(p=0.0, inplace=False)\n",
       "            (softmax): Softmax(dim=-1)\n",
       "          )\n",
       "          (drop_path): DropPath(drop_prob=0.009)\n",
       "          (norm2): LayerNorm((96,), eps=1e-05, elementwise_affine=True)\n",
       "          (mlp): Mlp(\n",
       "            (fc1): Linear(in_features=96, out_features=384, bias=True)\n",
       "            (act): GELU(approximate=none)\n",
       "            (fc2): Linear(in_features=384, out_features=96, bias=True)\n",
       "            (drop): Dropout(p=0.0, inplace=False)\n",
       "          )\n",
       "        )\n",
       "      )\n",
       "      (downsample): PatchMerging(\n",
       "        input_resolution=(56, 56), dim=96\n",
       "        (reduction): Linear(in_features=384, out_features=192, bias=False)\n",
       "        (norm): LayerNorm((384,), eps=1e-05, elementwise_affine=True)\n",
       "      )\n",
       "    )\n",
       "    (1): BasicLayer(\n",
       "      dim=192, input_resolution=(28, 28), depth=2\n",
       "      (blocks): ModuleList(\n",
       "        (0): SwinTransformerBlock(\n",
       "          dim=192, input_resolution=(28, 28), num_heads=6, window_size=7, shift_size=0, mlp_ratio=4.0\n",
       "          (norm1): LayerNorm((192,), eps=1e-05, elementwise_affine=True)\n",
       "          (attn): WindowAttention(\n",
       "            dim=192, window_size=(7, 7), num_heads=6\n",
       "            (qkv): Linear(in_features=192, out_features=576, bias=True)\n",
       "            (attn_drop): Dropout(p=0.0, inplace=False)\n",
       "            (proj): Linear(in_features=192, out_features=192, bias=True)\n",
       "            (proj_drop): Dropout(p=0.0, inplace=False)\n",
       "            (softmax): Softmax(dim=-1)\n",
       "          )\n",
       "          (drop_path): DropPath(drop_prob=0.018)\n",
       "          (norm2): LayerNorm((192,), eps=1e-05, elementwise_affine=True)\n",
       "          (mlp): Mlp(\n",
       "            (fc1): Linear(in_features=192, out_features=768, bias=True)\n",
       "            (act): GELU(approximate=none)\n",
       "            (fc2): Linear(in_features=768, out_features=192, bias=True)\n",
       "            (drop): Dropout(p=0.0, inplace=False)\n",
       "          )\n",
       "        )\n",
       "        (1): SwinTransformerBlock(\n",
       "          dim=192, input_resolution=(28, 28), num_heads=6, window_size=7, shift_size=3, mlp_ratio=4.0\n",
       "          (norm1): LayerNorm((192,), eps=1e-05, elementwise_affine=True)\n",
       "          (attn): WindowAttention(\n",
       "            dim=192, window_size=(7, 7), num_heads=6\n",
       "            (qkv): Linear(in_features=192, out_features=576, bias=True)\n",
       "            (attn_drop): Dropout(p=0.0, inplace=False)\n",
       "            (proj): Linear(in_features=192, out_features=192, bias=True)\n",
       "            (proj_drop): Dropout(p=0.0, inplace=False)\n",
       "            (softmax): Softmax(dim=-1)\n",
       "          )\n",
       "          (drop_path): DropPath(drop_prob=0.027)\n",
       "          (norm2): LayerNorm((192,), eps=1e-05, elementwise_affine=True)\n",
       "          (mlp): Mlp(\n",
       "            (fc1): Linear(in_features=192, out_features=768, bias=True)\n",
       "            (act): GELU(approximate=none)\n",
       "            (fc2): Linear(in_features=768, out_features=192, bias=True)\n",
       "            (drop): Dropout(p=0.0, inplace=False)\n",
       "          )\n",
       "        )\n",
       "      )\n",
       "      (downsample): PatchMerging(\n",
       "        input_resolution=(28, 28), dim=192\n",
       "        (reduction): Linear(in_features=768, out_features=384, bias=False)\n",
       "        (norm): LayerNorm((768,), eps=1e-05, elementwise_affine=True)\n",
       "      )\n",
       "    )\n",
       "    (2): BasicLayer(\n",
       "      dim=384, input_resolution=(14, 14), depth=6\n",
       "      (blocks): ModuleList(\n",
       "        (0): SwinTransformerBlock(\n",
       "          dim=384, input_resolution=(14, 14), num_heads=12, window_size=7, shift_size=0, mlp_ratio=4.0\n",
       "          (norm1): LayerNorm((384,), eps=1e-05, elementwise_affine=True)\n",
       "          (attn): WindowAttention(\n",
       "            dim=384, window_size=(7, 7), num_heads=12\n",
       "            (qkv): Linear(in_features=384, out_features=1152, bias=True)\n",
       "            (attn_drop): Dropout(p=0.0, inplace=False)\n",
       "            (proj): Linear(in_features=384, out_features=384, bias=True)\n",
       "            (proj_drop): Dropout(p=0.0, inplace=False)\n",
       "            (softmax): Softmax(dim=-1)\n",
       "          )\n",
       "          (drop_path): DropPath(drop_prob=0.036)\n",
       "          (norm2): LayerNorm((384,), eps=1e-05, elementwise_affine=True)\n",
       "          (mlp): Mlp(\n",
       "            (fc1): Linear(in_features=384, out_features=1536, bias=True)\n",
       "            (act): GELU(approximate=none)\n",
       "            (fc2): Linear(in_features=1536, out_features=384, bias=True)\n",
       "            (drop): Dropout(p=0.0, inplace=False)\n",
       "          )\n",
       "        )\n",
       "        (1): SwinTransformerBlock(\n",
       "          dim=384, input_resolution=(14, 14), num_heads=12, window_size=7, shift_size=3, mlp_ratio=4.0\n",
       "          (norm1): LayerNorm((384,), eps=1e-05, elementwise_affine=True)\n",
       "          (attn): WindowAttention(\n",
       "            dim=384, window_size=(7, 7), num_heads=12\n",
       "            (qkv): Linear(in_features=384, out_features=1152, bias=True)\n",
       "            (attn_drop): Dropout(p=0.0, inplace=False)\n",
       "            (proj): Linear(in_features=384, out_features=384, bias=True)\n",
       "            (proj_drop): Dropout(p=0.0, inplace=False)\n",
       "            (softmax): Softmax(dim=-1)\n",
       "          )\n",
       "          (drop_path): DropPath(drop_prob=0.045)\n",
       "          (norm2): LayerNorm((384,), eps=1e-05, elementwise_affine=True)\n",
       "          (mlp): Mlp(\n",
       "            (fc1): Linear(in_features=384, out_features=1536, bias=True)\n",
       "            (act): GELU(approximate=none)\n",
       "            (fc2): Linear(in_features=1536, out_features=384, bias=True)\n",
       "            (drop): Dropout(p=0.0, inplace=False)\n",
       "          )\n",
       "        )\n",
       "        (2): SwinTransformerBlock(\n",
       "          dim=384, input_resolution=(14, 14), num_heads=12, window_size=7, shift_size=0, mlp_ratio=4.0\n",
       "          (norm1): LayerNorm((384,), eps=1e-05, elementwise_affine=True)\n",
       "          (attn): WindowAttention(\n",
       "            dim=384, window_size=(7, 7), num_heads=12\n",
       "            (qkv): Linear(in_features=384, out_features=1152, bias=True)\n",
       "            (attn_drop): Dropout(p=0.0, inplace=False)\n",
       "            (proj): Linear(in_features=384, out_features=384, bias=True)\n",
       "            (proj_drop): Dropout(p=0.0, inplace=False)\n",
       "            (softmax): Softmax(dim=-1)\n",
       "          )\n",
       "          (drop_path): DropPath(drop_prob=0.055)\n",
       "          (norm2): LayerNorm((384,), eps=1e-05, elementwise_affine=True)\n",
       "          (mlp): Mlp(\n",
       "            (fc1): Linear(in_features=384, out_features=1536, bias=True)\n",
       "            (act): GELU(approximate=none)\n",
       "            (fc2): Linear(in_features=1536, out_features=384, bias=True)\n",
       "            (drop): Dropout(p=0.0, inplace=False)\n",
       "          )\n",
       "        )\n",
       "        (3): SwinTransformerBlock(\n",
       "          dim=384, input_resolution=(14, 14), num_heads=12, window_size=7, shift_size=3, mlp_ratio=4.0\n",
       "          (norm1): LayerNorm((384,), eps=1e-05, elementwise_affine=True)\n",
       "          (attn): WindowAttention(\n",
       "            dim=384, window_size=(7, 7), num_heads=12\n",
       "            (qkv): Linear(in_features=384, out_features=1152, bias=True)\n",
       "            (attn_drop): Dropout(p=0.0, inplace=False)\n",
       "            (proj): Linear(in_features=384, out_features=384, bias=True)\n",
       "            (proj_drop): Dropout(p=0.0, inplace=False)\n",
       "            (softmax): Softmax(dim=-1)\n",
       "          )\n",
       "          (drop_path): DropPath(drop_prob=0.064)\n",
       "          (norm2): LayerNorm((384,), eps=1e-05, elementwise_affine=True)\n",
       "          (mlp): Mlp(\n",
       "            (fc1): Linear(in_features=384, out_features=1536, bias=True)\n",
       "            (act): GELU(approximate=none)\n",
       "            (fc2): Linear(in_features=1536, out_features=384, bias=True)\n",
       "            (drop): Dropout(p=0.0, inplace=False)\n",
       "          )\n",
       "        )\n",
       "        (4): SwinTransformerBlock(\n",
       "          dim=384, input_resolution=(14, 14), num_heads=12, window_size=7, shift_size=0, mlp_ratio=4.0\n",
       "          (norm1): LayerNorm((384,), eps=1e-05, elementwise_affine=True)\n",
       "          (attn): WindowAttention(\n",
       "            dim=384, window_size=(7, 7), num_heads=12\n",
       "            (qkv): Linear(in_features=384, out_features=1152, bias=True)\n",
       "            (attn_drop): Dropout(p=0.0, inplace=False)\n",
       "            (proj): Linear(in_features=384, out_features=384, bias=True)\n",
       "            (proj_drop): Dropout(p=0.0, inplace=False)\n",
       "            (softmax): Softmax(dim=-1)\n",
       "          )\n",
       "          (drop_path): DropPath(drop_prob=0.073)\n",
       "          (norm2): LayerNorm((384,), eps=1e-05, elementwise_affine=True)\n",
       "          (mlp): Mlp(\n",
       "            (fc1): Linear(in_features=384, out_features=1536, bias=True)\n",
       "            (act): GELU(approximate=none)\n",
       "            (fc2): Linear(in_features=1536, out_features=384, bias=True)\n",
       "            (drop): Dropout(p=0.0, inplace=False)\n",
       "          )\n",
       "        )\n",
       "        (5): SwinTransformerBlock(\n",
       "          dim=384, input_resolution=(14, 14), num_heads=12, window_size=7, shift_size=3, mlp_ratio=4.0\n",
       "          (norm1): LayerNorm((384,), eps=1e-05, elementwise_affine=True)\n",
       "          (attn): WindowAttention(\n",
       "            dim=384, window_size=(7, 7), num_heads=12\n",
       "            (qkv): Linear(in_features=384, out_features=1152, bias=True)\n",
       "            (attn_drop): Dropout(p=0.0, inplace=False)\n",
       "            (proj): Linear(in_features=384, out_features=384, bias=True)\n",
       "            (proj_drop): Dropout(p=0.0, inplace=False)\n",
       "            (softmax): Softmax(dim=-1)\n",
       "          )\n",
       "          (drop_path): DropPath(drop_prob=0.082)\n",
       "          (norm2): LayerNorm((384,), eps=1e-05, elementwise_affine=True)\n",
       "          (mlp): Mlp(\n",
       "            (fc1): Linear(in_features=384, out_features=1536, bias=True)\n",
       "            (act): GELU(approximate=none)\n",
       "            (fc2): Linear(in_features=1536, out_features=384, bias=True)\n",
       "            (drop): Dropout(p=0.0, inplace=False)\n",
       "          )\n",
       "        )\n",
       "      )\n",
       "      (downsample): PatchMerging(\n",
       "        input_resolution=(14, 14), dim=384\n",
       "        (reduction): Linear(in_features=1536, out_features=768, bias=False)\n",
       "        (norm): LayerNorm((1536,), eps=1e-05, elementwise_affine=True)\n",
       "      )\n",
       "    )\n",
       "    (3): BasicLayer(\n",
       "      dim=768, input_resolution=(7, 7), depth=2\n",
       "      (blocks): ModuleList(\n",
       "        (0): SwinTransformerBlock(\n",
       "          dim=768, input_resolution=(7, 7), num_heads=24, window_size=7, shift_size=0, mlp_ratio=4.0\n",
       "          (norm1): LayerNorm((768,), eps=1e-05, elementwise_affine=True)\n",
       "          (attn): WindowAttention(\n",
       "            dim=768, window_size=(7, 7), num_heads=24\n",
       "            (qkv): Linear(in_features=768, out_features=2304, bias=True)\n",
       "            (attn_drop): Dropout(p=0.0, inplace=False)\n",
       "            (proj): Linear(in_features=768, out_features=768, bias=True)\n",
       "            (proj_drop): Dropout(p=0.0, inplace=False)\n",
       "            (softmax): Softmax(dim=-1)\n",
       "          )\n",
       "          (drop_path): DropPath(drop_prob=0.091)\n",
       "          (norm2): LayerNorm((768,), eps=1e-05, elementwise_affine=True)\n",
       "          (mlp): Mlp(\n",
       "            (fc1): Linear(in_features=768, out_features=3072, bias=True)\n",
       "            (act): GELU(approximate=none)\n",
       "            (fc2): Linear(in_features=3072, out_features=768, bias=True)\n",
       "            (drop): Dropout(p=0.0, inplace=False)\n",
       "          )\n",
       "        )\n",
       "        (1): SwinTransformerBlock(\n",
       "          dim=768, input_resolution=(7, 7), num_heads=24, window_size=7, shift_size=0, mlp_ratio=4.0\n",
       "          (norm1): LayerNorm((768,), eps=1e-05, elementwise_affine=True)\n",
       "          (attn): WindowAttention(\n",
       "            dim=768, window_size=(7, 7), num_heads=24\n",
       "            (qkv): Linear(in_features=768, out_features=2304, bias=True)\n",
       "            (attn_drop): Dropout(p=0.0, inplace=False)\n",
       "            (proj): Linear(in_features=768, out_features=768, bias=True)\n",
       "            (proj_drop): Dropout(p=0.0, inplace=False)\n",
       "            (softmax): Softmax(dim=-1)\n",
       "          )\n",
       "          (drop_path): DropPath(drop_prob=0.100)\n",
       "          (norm2): LayerNorm((768,), eps=1e-05, elementwise_affine=True)\n",
       "          (mlp): Mlp(\n",
       "            (fc1): Linear(in_features=768, out_features=3072, bias=True)\n",
       "            (act): GELU(approximate=none)\n",
       "            (fc2): Linear(in_features=3072, out_features=768, bias=True)\n",
       "            (drop): Dropout(p=0.0, inplace=False)\n",
       "          )\n",
       "        )\n",
       "      )\n",
       "    )\n",
       "  )\n",
       "  (norm): LayerNorm((768,), eps=1e-05, elementwise_affine=True)\n",
       "  (avgpool): AdaptiveAvgPool1d(output_size=1)\n",
       "  (head): Linear(in_features=768, out_features=1000, bias=True)\n",
       ")"
      ]
     },
     "execution_count": 10,
     "metadata": {},
     "output_type": "execute_result"
    }
   ],
   "source": [
    "model = to_device(swin_tiny_patch4_window7_224, device)\n",
    "model"
   ]
  },
  {
   "cell_type": "code",
   "execution_count": 11,
   "id": "3531cbc8",
   "metadata": {
    "id": "3531cbc8"
   },
   "outputs": [],
   "source": [
    "from sklearn.metrics import precision_recall_fscore_support\n",
    "\n",
    "device = torch.device('cuda' if torch.cuda.is_available() else 'cpu')\n",
    "def training_step(criterion, model,batch):\n",
    "    images, labels = batch \n",
    "    out = model(images)                  # Generate predictions\n",
    "    loss = criterion(out, labels)  # criterion is already to device GPU\n",
    "    return loss\n",
    "\n",
    "def validation_step(criterion, model,batch):\n",
    "    images, labels = batch \n",
    "    out = model(images)                    # Generate predictions\n",
    "\n",
    "    loss = criterion(out, labels)   # Calculate loss\n",
    "    \n",
    "#     ---------------- why here acc not to(device)\n",
    "    acc = accuracy(out, labels)           # Calculate accuracy (return a tensor)\n",
    "    \n",
    "#     ------------------- calculate fscore for each batch ----------------\n",
    "\n",
    "    _, y_preds = torch.max(out, dim=1)    \n",
    "    threeMetrics = precision_recall_fscore_support(torch.Tensor.cpu(labels), torch.Tensor.cpu(y_preds), average=None,labels=[i for i in range(7)])\n",
    "    fscore = torch.tensor(threeMetrics[2]) # fscore (return a tensor of a list: tensor([1,2,3]))\n",
    "    \n",
    "    return {'val_loss': loss.detach(), 'val_acc': acc, 'val_fscore': fscore}\n",
    "    \n",
    "def validation_epoch_end(outputs):\n",
    "    batch_losses = [x['val_loss'] for x in outputs] \n",
    "    epoch_loss = torch.stack(batch_losses).mean()   # Combine losses (mean loss for n batches)\n",
    "    \n",
    "    batch_accs = [x['val_acc'] for x in outputs]   # [ each element is a tensor ]\n",
    "    epoch_acc = torch.stack(batch_accs).mean()      # Combine accuracies (mean acc for n batches)\n",
    "    \n",
    "    batch_fscores = [x['val_fscore'] for x in outputs] \n",
    "    epoch_fscore = torch.stack(batch_fscores).mean(0)\n",
    "    \n",
    "    return {'val_loss': epoch_loss.item(), 'val_acc': epoch_acc.item(), 'val_fscore': epoch_fscore.tolist()}\n",
    "\n",
    "def epoch_end(epoch, result):\n",
    "    print(\"Epoch [{}], train_loss: {:.4f}, val_loss: {:.4f}, val_acc: {:.4f}, val_fscore: {} \".format(\n",
    "        epoch, result['train_loss'], result['val_loss'], result['val_acc'], result['val_fscore']))"
   ]
  },
  {
   "cell_type": "code",
   "execution_count": 12,
   "id": "2b37f095",
   "metadata": {
    "id": "2b37f095"
   },
   "outputs": [],
   "source": [
    "# criterion = LabelSmoothingCrossEntropy()\n",
    "criterion = LabelSmoothingCrossEntropy(smoothing=0.1)\n",
    "criterion = criterion.to(device)\n",
    "\n",
    "# optimizer = torch.optim.AdamW(model.parameters(), lr=0.001)\n",
    "optimizer = torch.optim.AdamW(model.parameters(), lr=5e-4, weight_decay=0.05)"
   ]
  },
  {
   "cell_type": "code",
   "execution_count": 13,
   "id": "2c06ebd3",
   "metadata": {
    "id": "2c06ebd3"
   },
   "outputs": [],
   "source": [
    "@torch.no_grad()\n",
    "def evaluate(criterion, model, val_loader):\n",
    "    model.eval()\n",
    "    outputs = [validation_step(criterion, model, batch) for batch in val_loader]\n",
    "    return validation_epoch_end(outputs)\n",
    "\n",
    "def fit_one_cycle(num_epochs, model, train_loader, val_loader, optimizer, criterion):\n",
    "    torch.cuda.empty_cache()\n",
    "    history = []\n",
    "    \n",
    "    # sched = torch.optim.lr_scheduler.StepLR(optimizer, step_size=3, gamma=0.97)\n",
    "    sched = torch.optim.lr_scheduler.CosineAnnealingLR(optimizer, T_max=10, eta_min=5e-6, last_epoch=- 1, verbose=False)\n",
    "    \n",
    "    for epoch in range(num_epochs):\n",
    "        # Training Phase \n",
    "        model.train()\n",
    "        train_losses = []\n",
    "\n",
    "        for batch in train_loader:\n",
    "            loss = training_step(criterion,model,batch)\n",
    "            train_losses.append(loss)\n",
    "            loss.backward()\n",
    "\n",
    "            optimizer.step()\n",
    "            optimizer.zero_grad()\n",
    "            \n",
    "        # Validation phase\n",
    "        result = evaluate(criterion, model, val_loader)\n",
    "        result['train_loss'] = torch.stack(train_losses).mean().item()\n",
    "        epoch_end(epoch, result)\n",
    "        history.append(result)\n",
    "    return history"
   ]
  },
  {
   "cell_type": "code",
   "execution_count": 14,
   "id": "Ew-bhVRXKf-d",
   "metadata": {
    "id": "Ew-bhVRXKf-d"
   },
   "outputs": [],
   "source": [
    "# remove warnings\n",
    "import warnings\n",
    "warnings.filterwarnings(\"ignore\")"
   ]
  },
  {
   "cell_type": "code",
   "execution_count": 15,
   "id": "836a5eed",
   "metadata": {
    "colab": {
     "base_uri": "https://localhost:8080/"
    },
    "executionInfo": {
     "elapsed": 64202,
     "status": "ok",
     "timestamp": 1660006557354,
     "user": {
      "displayName": "JUJIE YANG",
      "userId": "07067934053918991332"
     },
     "user_tz": -60
    },
    "id": "836a5eed",
    "outputId": "2162b92f-d84c-495a-8b1e-6b47cfe7834a"
   },
   "outputs": [
    {
     "data": {
      "text/plain": [
       "[{'val_loss': 6.037652492523193,\n",
       "  'val_acc': 0.0055338540114462376,\n",
       "  'val_fscore': [0.0,\n",
       "   0.0,\n",
       "   0.0,\n",
       "   0.0,\n",
       "   0.006944444444444445,\n",
       "   0.014764199725085254,\n",
       "   0.0]}]"
      ]
     },
     "execution_count": 15,
     "metadata": {},
     "output_type": "execute_result"
    }
   ],
   "source": [
    "history = [evaluate(criterion, model, valid_dl)]\n",
    "history"
   ]
  },
  {
   "cell_type": "code",
   "execution_count": 16,
   "id": "8818ba88",
   "metadata": {
    "id": "8818ba88",
    "outputId": "a768f393-9fef-482f-f398-017d2933b247"
   },
   "outputs": [
    {
     "name": "stdout",
     "output_type": "stream",
     "text": [
      "Epoch [0], train_loss: 1.9846, val_loss: 1.7405, val_acc: 0.7190, val_fscore: [0.0, 0.0, 0.40943666698351344, 0.0, 0.16457479747920925, 0.8523469347693347, 0.0] \n",
      "Epoch [1], train_loss: 1.7877, val_loss: 1.7857, val_acc: 0.6987, val_fscore: [0.1720899470899471, 0.3426820986281968, 0.01851851851851852, 0.0, 0.014467592592592593, 0.8565187558954107, 0.0] \n",
      "Epoch [2], train_loss: 1.7281, val_loss: 1.6824, val_acc: 0.7347, val_fscore: [0.3063388000888001, 0.04047619047619048, 0.3909385574611377, 0.0, 0.2235206238979459, 0.8742355885443246, 0.0] \n",
      "Epoch [3], train_loss: 1.6858, val_loss: 1.6013, val_acc: 0.7620, val_fscore: [0.4446900866018513, 0.4746825114341628, 0.529481910373158, 0.0, 0.27287459952901133, 0.9012783571776314, 0.2222222222222222] \n"
     ]
    }
   ],
   "source": [
    "num_epochs=4\n",
    "history += fit_one_cycle(num_epochs, model, train_dl, valid_dl, optimizer, criterion)"
   ]
  },
  {
   "cell_type": "code",
   "execution_count": 17,
   "id": "b2ee5040",
   "metadata": {
    "id": "b2ee5040",
    "outputId": "7c906d77-c305-4451-fde0-72f8b1d70bcb"
   },
   "outputs": [
    {
     "name": "stdout",
     "output_type": "stream",
     "text": [
      "Epoch [0], train_loss: 1.6376, val_loss: 1.6405, val_acc: 0.7468, val_fscore: [0.35823703801644985, 0.49111441720810406, 0.24388569470343593, 0.0, 0.405239877225386, 0.8845642738836915, 0.31249999999999994] \n",
      "Epoch [1], train_loss: 1.6129, val_loss: 1.5791, val_acc: 0.7913, val_fscore: [0.44329397454397457, 0.641460507801452, 0.48024468723817476, 0.0, 0.3682769303342395, 0.9011714431725343, 0.725] \n",
      "Epoch [2], train_loss: 1.5747, val_loss: 1.5244, val_acc: 0.7925, val_fscore: [0.4673375779993427, 0.6344579696195828, 0.56414023164148, 0.0, 0.50874421249534, 0.9028568426725802, 0.669047619047619] \n",
      "Epoch [3], train_loss: 1.5360, val_loss: 1.5391, val_acc: 0.7920, val_fscore: [0.4906670266867635, 0.7122200880618063, 0.34948959396184803, 0.07916666666666666, 0.43081192015646513, 0.8891720025227983, 0.699537037037037] \n"
     ]
    }
   ],
   "source": [
    "num_epochs=4\n",
    "history += fit_one_cycle(num_epochs, model, train_dl, valid_dl, optimizer, criterion)"
   ]
  },
  {
   "cell_type": "code",
   "execution_count": 18,
   "id": "MiTFAo4PYUib",
   "metadata": {
    "id": "MiTFAo4PYUib"
   },
   "outputs": [
    {
     "name": "stdout",
     "output_type": "stream",
     "text": [
      "Epoch [0], train_loss: 1.5255, val_loss: 1.5029, val_acc: 0.8075, val_fscore: [0.44117673584585354, 0.5971677652570663, 0.6000287048442016, 0.15833333333333333, 0.4380844695988518, 0.9132319391841709, 0.7301587301587301] \n",
      "Epoch [1], train_loss: 1.4873, val_loss: 1.5253, val_acc: 0.7983, val_fscore: [0.4541755949364645, 0.6795354967778916, 0.526299340088971, 0.11666666666666665, 0.3588058258820643, 0.9085775734196545, 0.763888888888889] \n",
      "Epoch [2], train_loss: 1.4526, val_loss: 1.5927, val_acc: 0.7854, val_fscore: [0.33424723424723424, 0.4963782250568007, 0.5654571838458572, 0.020833333333333332, 0.3389176251308605, 0.9137952697334951, 0.5880050505050505] \n",
      "Epoch [3], train_loss: 1.4811, val_loss: 1.5459, val_acc: 0.7874, val_fscore: [0.0, 0.55386614698952, 0.5238541720289908, 0.08333333333333333, 0.5017221996679802, 0.9108877299538586, 0.7922619047619047] \n"
     ]
    }
   ],
   "source": [
    "num_epochs=4\n",
    "history += fit_one_cycle(num_epochs, model, train_dl, valid_dl, optimizer, criterion)"
   ]
  },
  {
   "cell_type": "code",
   "execution_count": 19,
   "id": "auE1K-zMYVL_",
   "metadata": {
    "id": "auE1K-zMYVL_"
   },
   "outputs": [
    {
     "name": "stdout",
     "output_type": "stream",
     "text": [
      "Epoch [0], train_loss: 1.4496, val_loss: 1.4861, val_acc: 0.8132, val_fscore: [0.41379890534302294, 0.706897766091887, 0.5687748337271212, 0.08333333333333333, 0.5575039710234462, 0.9112846698773938, 0.7732142857142859] \n",
      "Epoch [1], train_loss: 1.4066, val_loss: 1.5215, val_acc: 0.8022, val_fscore: [0.5085301396068322, 0.578609329267224, 0.5607184435116596, 0.1773809523809524, 0.4143739153433425, 0.9176757037062518, 0.5643939393939393] \n",
      "Epoch [2], train_loss: 1.4006, val_loss: 1.4927, val_acc: 0.8065, val_fscore: [0.4944030506530506, 0.6948851801792978, 0.5660723469242069, 0.26157407407407407, 0.48594977251157223, 0.9109664588439341, 0.7055555555555554] \n",
      "Epoch [3], train_loss: 1.3611, val_loss: 1.4675, val_acc: 0.8214, val_fscore: [0.6314292676134782, 0.6531937360884729, 0.637132549168693, 0.2883928571428571, 0.5286380699605057, 0.9169466719849756, 0.6972222222222221] \n"
     ]
    }
   ],
   "source": [
    "num_epochs=4\n",
    "history += fit_one_cycle(num_epochs, model, train_dl, valid_dl, optimizer, criterion)"
   ]
  },
  {
   "cell_type": "code",
   "execution_count": 24,
   "id": "c411cd90",
   "metadata": {},
   "outputs": [
    {
     "name": "stdout",
     "output_type": "stream",
     "text": [
      "Epoch [0], train_loss: 1.3663, val_loss: 1.4443, val_acc: 0.8372, val_fscore: [0.5704517765373028, 0.7216995943338654, 0.6087653332400401, 0.15833333333333333, 0.5369982925627191, 0.9236582597717118, 0.7496031746031746] \n",
      "Epoch [1], train_loss: 1.3602, val_loss: 1.5388, val_acc: 0.8129, val_fscore: [0.5435701621363386, 0.6861089298415148, 0.5861375534085939, 0.27559523809523806, 0.2896209525226721, 0.9153212424606624, 0.5166666666666667] \n",
      "Epoch [2], train_loss: 1.3369, val_loss: 1.5260, val_acc: 0.8251, val_fscore: [0.4129525294966472, 0.6286179585521691, 0.6178493245888395, 0.27321428571428574, 0.5261303013722749, 0.9193847790496589, 0.7388888888888889] \n",
      "Epoch [3], train_loss: 1.3121, val_loss: 1.5533, val_acc: 0.8202, val_fscore: [0.47858784733784737, 0.6828727440859793, 0.6478123491074878, 0.2736111111111111, 0.29342591604588514, 0.9164030961398805, 0.7588585434173668] \n"
     ]
    }
   ],
   "source": [
    "num_epochs=4\n",
    "history += fit_one_cycle(num_epochs, model, train_dl, valid_dl, optimizer, criterion)"
   ]
  },
  {
   "cell_type": "code",
   "execution_count": 29,
   "id": "2fb9493a",
   "metadata": {},
   "outputs": [
    {
     "name": "stdout",
     "output_type": "stream",
     "text": [
      "Epoch [0], train_loss: 1.3212, val_loss: 1.4908, val_acc: 0.8285, val_fscore: [0.5499484798826905, 0.7021809125263493, 0.635839547477102, 0.27529761904761907, 0.5717639269508072, 0.9178053845397458, 0.6819444444444445] \n",
      "Epoch [1], train_loss: 1.3094, val_loss: 1.4591, val_acc: 0.8299, val_fscore: [0.5693302952494129, 0.6541711549257988, 0.6286038196767666, 0.09999999999999999, 0.5488142522336725, 0.92895104526401, 0.780485527544351] \n",
      "Epoch [2], train_loss: 1.2835, val_loss: 1.5018, val_acc: 0.8286, val_fscore: [0.5857012268776974, 0.7207449397300824, 0.6391966088923531, 0.2845238095238095, 0.5152690301598993, 0.9215285751404009, 0.7412990196078432] \n",
      "Epoch [3], train_loss: 1.2662, val_loss: 1.4899, val_acc: 0.8232, val_fscore: [0.5546759011542294, 0.7080280481335469, 0.6303218999965137, 0.23124999999999998, 0.47229821315869236, 0.9163272999982621, 0.544949494949495] \n"
     ]
    }
   ],
   "source": [
    "num_epochs=4\n",
    "history += fit_one_cycle(num_epochs, model, train_dl, valid_dl, optimizer, criterion)"
   ]
  },
  {
   "cell_type": "code",
   "execution_count": 30,
   "id": "ddcb09c5",
   "metadata": {
    "id": "ddcb09c5"
   },
   "outputs": [],
   "source": [
    "# torch.save(model.state_dict(), 'deit_tiny_patch16_224.pth')\n",
    "torch.save(model.state_dict(), '../../kaggle/ubuntu_save_model/ubuntu_sourceCode_size73_swin_tiny_patch4_window7_224.pth')"
   ]
  },
  {
   "cell_type": "code",
   "execution_count": 31,
   "id": "be280df2",
   "metadata": {
    "id": "be280df2"
   },
   "outputs": [],
   "source": [
    "def plot_accuracies(history):\n",
    "    accuracies = [x['val_acc'] for x in history]\n",
    "    plt.plot(accuracies, '-x')\n",
    "    plt.xlabel('epoch')\n",
    "    plt.ylabel('accuracy')\n",
    "    plt.title('Accuracy vs. No. of epochs')\n",
    "def plot_losses(history):\n",
    "    train_losses = [x.get('train_loss') for x in history]\n",
    "    val_losses = [x['val_loss'] for x in history]\n",
    "    plt.plot(train_losses, '-bx')\n",
    "    plt.plot(val_losses, '-rx')\n",
    "    plt.xlabel('epoch')\n",
    "    plt.ylabel('loss')\n",
    "    plt.legend(['Training', 'Validation'])\n",
    "    plt.title('Loss vs. No. of epochs')"
   ]
  },
  {
   "cell_type": "code",
   "execution_count": 32,
   "id": "90844238",
   "metadata": {
    "colab": {
     "base_uri": "https://localhost:8080/",
     "height": 295
    },
    "executionInfo": {
     "elapsed": 511,
     "status": "ok",
     "timestamp": 1660011034758,
     "user": {
      "displayName": "JUJIE YANG",
      "userId": "07067934053918991332"
     },
     "user_tz": -60
    },
    "id": "90844238",
    "outputId": "9fddeef6-e0df-4816-daa0-61cc00b6eabb"
   },
   "outputs": [
    {
     "data": {
      "image/png": "[encoded data removed]",
      "text/plain": [
       "<Figure size 432x288 with 1 Axes>"
      ]
     },
     "metadata": {
      "needs_background": "light"
     },
     "output_type": "display_data"
    }
   ],
   "source": [
    "plot_accuracies(history)"
   ]
  },
  {
   "cell_type": "code",
   "execution_count": 33,
   "id": "7056b789",
   "metadata": {
    "colab": {
     "base_uri": "https://localhost:8080/",
     "height": 295
    },
    "executionInfo": {
     "elapsed": 16,
     "status": "ok",
     "timestamp": 1660011034759,
     "user": {
      "displayName": "JUJIE YANG",
      "userId": "07067934053918991332"
     },
     "user_tz": -60
    },
    "id": "7056b789",
    "outputId": "eb9ba2bf-0088-4a19-845e-2730a747c4d5"
   },
   "outputs": [
    {
     "data": {
      "image/png": "[encoded data removed]",
      "text/plain": [
       "<Figure size 432x288 with 1 Axes>"
      ]
     },
     "metadata": {
      "needs_background": "light"
     },
     "output_type": "display_data"
    }
   ],
   "source": [
    "plot_losses(history)"
   ]
  },
  {
   "cell_type": "code",
   "execution_count": null,
   "id": "AcL5DHLOJje0",
   "metadata": {
    "id": "AcL5DHLOJje0"
   },
   "outputs": [],
   "source": []
  }
 ],
 "metadata": {
  "accelerator": "GPU",
  "colab": {
   "collapsed_sections": [],
   "name": "ubuntu_sourceCode_size73_swin_tiny_patch4_window7_224.ipynb",
   "provenance": [
    {
     "file_id": "1bwApTqQr727UA55rWHILoPvxHxId8i2e",
     "timestamp": 1659997934941
    },
    {
     "file_id": "1NcFIoMe4Q5F4jPW8PWv7RY93EF-oi2Me",
     "timestamp": 1658701827649
    }
   ]
  },
  "gpuClass": "standard",
  "kernelspec": {
   "display_name": "Python 3 (ipykernel)",
   "language": "python",
   "name": "python3"
  },
  "language_info": {
   "codemirror_mode": {
    "name": "ipython",
    "version": 3
   },
   "file_extension": ".py",
   "mimetype": "text/x-python",
   "name": "python",
   "nbconvert_exporter": "python",
   "pygments_lexer": "ipython3",
   "version": "3.9.12"
  },
  "papermill": {
   "default_parameters": {},
   "duration": 4365.069848,
   "end_time": "2022-07-11T18:36:24.839486",
   "environment_variables": {},
   "exception": null,
   "input_path": "__notebook__.ipynb",
   "output_path": "__notebook__.ipynb",
   "parameters": {},
   "start_time": "2022-07-11T17:23:39.769638",
   "version": "2.3.4"
  }
 },
 "nbformat": 4,
 "nbformat_minor": 5
}
