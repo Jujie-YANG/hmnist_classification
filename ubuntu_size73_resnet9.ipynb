{
 "cells": [
  {
   "cell_type": "code",
   "execution_count": 1,
   "id": "yP993Y2O1zc4",
   "metadata": {
    "colab": {
     "base_uri": "https://localhost:8080/"
    },
    "executionInfo": {
     "elapsed": 404,
     "status": "ok",
     "timestamp": 1658167134807,
     "user": {
      "displayName": "JUJIE YANG",
      "userId": "07067934053918991332"
     },
     "user_tz": -60
    },
    "id": "yP993Y2O1zc4",
    "outputId": "daf14788-df85-46c8-ed2b-aaaf39888116"
   },
   "outputs": [
    {
     "name": "stdout",
     "output_type": "stream",
     "text": [
      "True\n",
      "1\n",
      "0\n",
      "<torch.cuda.device object at 0x7fb7ef558730>\n",
      "NVIDIA GeForce RTX 3090\n"
     ]
    }
   ],
   "source": [
    "import torch\n",
    "print(torch.cuda.is_available())\n",
    "print(torch.cuda.device_count())\n",
    "print(torch.cuda.current_device())\n",
    "print(torch.cuda.device(0))\n",
    "print(torch.cuda.get_device_name(0))"
   ]
  },
  {
   "cell_type": "code",
   "execution_count": 2,
   "id": "aNgDRMXiQHwM",
   "metadata": {
    "colab": {
     "base_uri": "https://localhost:8080/"
    },
    "executionInfo": {
     "elapsed": 5148,
     "status": "ok",
     "timestamp": 1658167140393,
     "user": {
      "displayName": "JUJIE YANG",
      "userId": "07067934053918991332"
     },
     "user_tz": -60
    },
    "id": "aNgDRMXiQHwM",
    "outputId": "673e9d03-df9f-4c0c-bffb-50e6630e6d91"
   },
   "outputs": [],
   "source": [
    "# from google.colab import drive\n",
    "# drive.mount('/content/drive', force_remount=True)"
   ]
  },
  {
   "cell_type": "code",
   "execution_count": 3,
   "id": "Mhnas8piQeXB",
   "metadata": {
    "colab": {
     "base_uri": "https://localhost:8080/"
    },
    "executionInfo": {
     "elapsed": 29,
     "status": "ok",
     "timestamp": 1658167140394,
     "user": {
      "displayName": "JUJIE YANG",
      "userId": "07067934053918991332"
     },
     "user_tz": -60
    },
    "id": "Mhnas8piQeXB",
    "outputId": "54ecf761-ff25-447c-e5ef-9e8ef043f9f3"
   },
   "outputs": [
    {
     "name": "stdout",
     "output_type": "stream",
     "text": [
      "ls: cannot access '/content/drive/MyDrive/kaggle/input': No such file or directory\r\n"
     ]
    }
   ],
   "source": [
    "!ls /content/drive/MyDrive/kaggle/input"
   ]
  },
  {
   "cell_type": "markdown",
   "id": "k1TYGLGzyI4S",
   "metadata": {
    "id": "k1TYGLGzyI4S"
   },
   "source": [
    "'dx' is short for diagnosis (for the patient)\n",
    "- 'nv': 'Melanocytic nevi'\n",
    "- 'mel': 'Melanoma'\n",
    "- 'bkl': 'Benign keratosis-like lesions'\n",
    "- 'bcc': 'Basal cell carcinoma'\n",
    "- 'akiec': 'Actinic keratoses'\n",
    "- 'vasc': 'Vascular lesions'\n",
    "- 'df': 'Dermatofibroma'\n",
    "\n",
    "'dx_type' is how the diagnosis was made. \n",
    "- histo        5340\n",
    "- follow_up    3704\n",
    "- consensus     902\n",
    "- confocal       69"
   ]
  },
  {
   "cell_type": "code",
   "execution_count": 4,
   "id": "62891232",
   "metadata": {
    "colab": {
     "base_uri": "https://localhost:8080/",
     "height": 206
    },
    "executionInfo": {
     "elapsed": 23,
     "status": "ok",
     "timestamp": 1658167140394,
     "user": {
      "displayName": "JUJIE YANG",
      "userId": "07067934053918991332"
     },
     "user_tz": -60
    },
    "id": "62891232",
    "outputId": "4515ca25-ec27-47a6-aa5b-ccf5847dbea0"
   },
   "outputs": [],
   "source": [
    "# import pandas as pd\n",
    "\n",
    "# # labels_path = \"../input/skin-cancer-mnist-ham10000/HAM10000_metadata.csv\"\n",
    "# labels_path = \"/content/drive/MyDrive/kaggle/input/HAM10000_metadata.csv\"\n",
    "# image_labels_df = pd.read_csv(labels_path)\n",
    "# image_labels_df.head()"
   ]
  },
  {
   "cell_type": "code",
   "execution_count": 5,
   "id": "1bbcf155",
   "metadata": {
    "colab": {
     "base_uri": "https://localhost:8080/",
     "height": 424
    },
    "executionInfo": {
     "elapsed": 21,
     "status": "ok",
     "timestamp": 1658167140394,
     "user": {
      "displayName": "JUJIE YANG",
      "userId": "07067934053918991332"
     },
     "user_tz": -60
    },
    "id": "1bbcf155",
    "outputId": "a167aa36-7163-4cb5-e9bc-92801a7f2b0b"
   },
   "outputs": [],
   "source": [
    "# image_labels_df.sort_values(by=\"image_id\")"
   ]
  },
  {
   "cell_type": "code",
   "execution_count": 6,
   "id": "d5f66cc2",
   "metadata": {
    "colab": {
     "base_uri": "https://localhost:8080/"
    },
    "executionInfo": {
     "elapsed": 21,
     "status": "ok",
     "timestamp": 1658167140394,
     "user": {
      "displayName": "JUJIE YANG",
      "userId": "07067934053918991332"
     },
     "user_tz": -60
    },
    "id": "d5f66cc2",
    "outputId": "947f95f9-ec4e-4d3a-c50b-cc1491683704"
   },
   "outputs": [],
   "source": [
    "# type(image_labels_df[\"image_id\"][0])\n"
   ]
  },
  {
   "cell_type": "code",
   "execution_count": 7,
   "id": "0e078efa",
   "metadata": {
    "id": "0e078efa"
   },
   "outputs": [],
   "source": [
    "import pandas as pd\n",
    "from torch.utils.data import Dataset\n",
    "import torchvision.transforms as transforms\n",
    "import matplotlib.pyplot as plt\n",
    "\n",
    "def disease_to_label(l):\n",
    "    if l == \"akiec\":\n",
    "        return 0\n",
    "    if l == \"bcc\":\n",
    "        return 1\n",
    "    if l == \"bkl\":\n",
    "        return 2\n",
    "    if l == \"df\":\n",
    "        return 3\n",
    "    if l == \"mel\":\n",
    "        return 4\n",
    "    if l == \"nv\":\n",
    "        return 5\n",
    "    if l == \"vasc\":\n",
    "        return 6 \n",
    "\n",
    "class SkinCancerDetection_train(Dataset):\n",
    "    \n",
    "    def __init__(self, train_path, csv, transform=None):\n",
    "        self.train_path = train_path\n",
    "        self.csv_path = csv\n",
    "        self.transform = transform\n",
    "    def __len__(self):\n",
    "        df = pd.read_csv(self.csv_path)\n",
    "        return (len(df.index))\n",
    "    def __getitem__(self, idx):\n",
    "        image_id = \"ISIC_00\" + str(idx+27306)\n",
    "        image_file_name = image_id + \".jpg\"\n",
    "        df = pd.read_csv(self.csv_path)\n",
    "        label = disease_to_label(str(df.loc[df['image_id'] == image_id, 'dx'].item()))\n",
    "        p = os.path.join(self.train_path, image_file_name)\n",
    "\n",
    "        img = plt.imread(p)\n",
    "\n",
    "\n",
    "        if self.transform:\n",
    "            img = self.transform(img)\n",
    "        \n",
    "        return img, label\n",
    "    \n",
    "class SkinCancerDetection_test(Dataset):\n",
    "    \n",
    "    def __init__(self, test_path, csv, transform=None):\n",
    "        self.test_path = test_path\n",
    "        self.csv_path = csv\n",
    "        self.transform = transform\n",
    "    def __len__(self):\n",
    "        df = pd.read_csv(self.csv_path)\n",
    "        return (len(df.index))\n",
    "    def __getitem__(self, idx):\n",
    "        image_id = \"ISIC_00\" + str(idx+24306)\n",
    "        image_file_name = image_id + \".jpg\"\n",
    "        df = pd.read_csv(self.csv_path)\n",
    "        label = disease_to_label(str(df.loc[df['image_id'] == image_id, 'dx'].item()))\n",
    "        \n",
    "        p = os.path.join(self.test_path, image_file_name)\n",
    "        \n",
    "        img = plt.imread(p)\n",
    "            \n",
    "        if self.transform:\n",
    "            img = self.transform(img)\n",
    "        \n",
    "        return img, label"
   ]
  },
  {
   "cell_type": "code",
   "execution_count": 8,
   "id": "57b148ce",
   "metadata": {
    "id": "57b148ce"
   },
   "outputs": [],
   "source": [
    "import timm\n",
    "train_transform = transforms.Compose([\n",
    "            transforms.ToPILImage(),\n",
    "            transforms.RandomHorizontalFlip(),\n",
    "            transforms.RandomVerticalFlip(),\n",
    "            transforms.RandomApply(torch.nn.ModuleList([transforms.ColorJitter()]), p=0.25),\n",
    "#             transforms.Resize(256),\n",
    "#             transforms.CenterCrop(224),\n",
    "            transforms.Resize((32,32)),\n",
    "            transforms.ToTensor(),\n",
    "            transforms.Normalize(timm.data.IMAGENET_DEFAULT_MEAN, timm.data.IMAGENET_DEFAULT_STD), # imagenet means\n",
    "            transforms.RandomErasing(p=0.1, value='random')\n",
    "        ])\n",
    "\n",
    "test_transform = transforms.Compose([\n",
    "    transforms.ToPILImage(),\n",
    "#     transforms.Resize(256),\n",
    "#     transforms.CenterCrop(224),\n",
    "    transforms.Resize((32,32)),\n",
    "    transforms.ToTensor(),\n",
    "    transforms.Normalize(timm.data.IMAGENET_DEFAULT_MEAN, timm.data.IMAGENET_DEFAULT_STD) # imagenet means\n",
    "])\n",
    "\n",
    "train_ds = SkinCancerDetection_train('../../kaggle/input/HAM10000_images_train','../../kaggle/input/HAM10000_metadata_train.csv',transform=train_transform)\n",
    "val_ds = SkinCancerDetection_test('../../kaggle/input/HAM10000_images_test','../../kaggle/input/HAM10000_metadata_test.csv',transform=test_transform)"
   ]
  },
  {
   "cell_type": "code",
   "execution_count": 9,
   "id": "b4b3cee6",
   "metadata": {
    "colab": {
     "base_uri": "https://localhost:8080/",
     "height": 284
    },
    "executionInfo": {
     "elapsed": 20,
     "status": "ok",
     "timestamp": 1658167140395,
     "user": {
      "displayName": "JUJIE YANG",
      "userId": "07067934053918991332"
     },
     "user_tz": -60
    },
    "id": "b4b3cee6",
    "outputId": "5ef30753-b5a0-4eb4-8f9c-cb14ca2278af"
   },
   "outputs": [],
   "source": [
    "# import pandas as pd\n",
    "# import os\n",
    "# idx = 0\n",
    "# image_id = \"ISIC_00\" + str(idx+24306)\n",
    "# image_file_name = image_id + \".jpg\"\n",
    "# # df = pd.read_csv('/kaggle/input/skin-cancer-mnist-ham10000/HAM10000_metadata.csv')\n",
    "# df = pd.read_csv('/content/drive/MyDrive/kaggle/input/HAM10000_metadata.csv')\n",
    "# label = disease_to_label(str(df.loc[df['image_id'] == image_id, 'dx'].item()))\n",
    "# # p1 = os.path.join('/kaggle/input/skin-cancer-mnist-ham10000/HAM10000_images_part_1', image_file_name)\n",
    "# # p2 = os.path.join('/kaggle/input/skin-cancer-mnist-ham10000/HAM10000_images_part_2', image_file_name)\n",
    "# p1 = os.path.join('/content/drive/MyDrive/kaggle/input/HAM10000_images_part_1', image_file_name)\n",
    "# p2 = os.path.join('/content/drive/MyDrive/kaggle/input/HAM10000_images_part_2', image_file_name)\n",
    "# if os.path.isfile(p1):\n",
    "#     img = plt.imread(p1)\n",
    "# if os.path.isfile(p2):\n",
    "#     img = plt.imread(p2)\n",
    "# transform = transforms.ToTensor()\n",
    "# img = transform(img)\n",
    "# transform = transforms.Resize((30, 40))\n",
    "# img = transform(img)\n",
    "\n",
    "# img.shape\n",
    "# plt.figure()\n",
    "# plt.imshow(img.permute(1, 2, 0))"
   ]
  },
  {
   "cell_type": "code",
   "execution_count": 10,
   "id": "b6772bc2",
   "metadata": {
    "colab": {
     "base_uri": "https://localhost:8080/"
    },
    "executionInfo": {
     "elapsed": 18,
     "status": "ok",
     "timestamp": 1658167140395,
     "user": {
      "displayName": "JUJIE YANG",
      "userId": "07067934053918991332"
     },
     "user_tz": -60
    },
    "id": "b6772bc2",
    "outputId": "3d4d701c-9d84-46bd-c913-af4fe9e6fc27"
   },
   "outputs": [
    {
     "data": {
      "text/plain": [
       "7015"
      ]
     },
     "execution_count": 10,
     "metadata": {},
     "output_type": "execute_result"
    }
   ],
   "source": [
    "len(train_ds)"
   ]
  },
  {
   "cell_type": "code",
   "execution_count": 11,
   "id": "61470144",
   "metadata": {
    "colab": {
     "base_uri": "https://localhost:8080/",
     "height": 302
    },
    "executionInfo": {
     "elapsed": 13050,
     "status": "ok",
     "timestamp": 1658167153428,
     "user": {
      "displayName": "JUJIE YANG",
      "userId": "07067934053918991332"
     },
     "user_tz": -60
    },
    "id": "61470144",
    "outputId": "4f510c0c-b9e6-432a-e17c-0392d04ffec2"
   },
   "outputs": [
    {
     "name": "stderr",
     "output_type": "stream",
     "text": [
      "Clipping input data to the valid range for imshow with RGB data ([0..1] for floats or [0..255] for integers).\n"
     ]
    },
    {
     "name": "stdout",
     "output_type": "stream",
     "text": [
      "<class 'torch.Tensor'>\n"
     ]
    },
    {
     "data": {
      "image/png": "[encoded data removed]",
      "text/plain": [
       "<Figure size 432x288 with 1 Axes>"
      ]
     },
     "metadata": {
      "needs_background": "light"
     },
     "output_type": "display_data"
    },
    {
     "name": "stdout",
     "output_type": "stream",
     "text": [
      "tensor(5)\n"
     ]
    }
   ],
   "source": [
    "import os\n",
    "import torch\n",
    "import torchvision\n",
    "import tarfile\n",
    "from torchvision.datasets.utils import download_url\n",
    "from torch.utils.data import random_split\n",
    "from torch.utils.data import DataLoader\n",
    "\n",
    "import matplotlib\n",
    "import matplotlib.pyplot as plt\n",
    "%matplotlib inline\n",
    "\n",
    "random_seed = 42\n",
    "torch.manual_seed(random_seed)\n",
    "\n",
    "batch_size = 128\n",
    "\n",
    "train_dl = DataLoader(train_ds, batch_size, shuffle=True, num_workers=2, pin_memory=True)\n",
    "valid_dl = DataLoader(val_ds, batch_size*2, num_workers=2, pin_memory=True)\n",
    "\n",
    "plt.figure()\n",
    "\n",
    "for image, label in train_dl:\n",
    "    plt.imshow(image[0].permute(2, 1, 0))\n",
    "    print(type(image[0]))\n",
    "    plt.show()\n",
    "    print(label[0])\n",
    "    break"
   ]
  },
  {
   "cell_type": "code",
   "execution_count": 12,
   "id": "f48baac7",
   "metadata": {
    "id": "f48baac7"
   },
   "outputs": [],
   "source": [
    "def get_default_device():\n",
    "    \"\"\"Pick GPU if available, else CPU\"\"\"\n",
    "    if torch.cuda.is_available():\n",
    "        return torch.device('cuda')\n",
    "    else:\n",
    "        return torch.device('cpu')\n",
    "    \n",
    "def to_device(data, device):\n",
    "    \"\"\"Move tensor(s) to chosen device\"\"\"\n",
    "    if isinstance(data, (list,tuple)):\n",
    "        return [to_device(x, device) for x in data]\n",
    "    return data.to(device, non_blocking=True)\n",
    "\n",
    "class DeviceDataLoader():\n",
    "    \"\"\"Wrap a dataloader to move data to a device\"\"\"\n",
    "    def __init__(self, dl, device):\n",
    "        self.dl = dl\n",
    "        self.device = device\n",
    "        \n",
    "    def __iter__(self):\n",
    "        \"\"\"Yield a batch of data after moving it to device\"\"\"\n",
    "        for b in self.dl: \n",
    "            yield to_device(b, self.device)\n",
    "\n",
    "    def __len__(self):\n",
    "        \"\"\"Number of batches\"\"\"\n",
    "        return len(self.dl)\n",
    "device = get_default_device()\n",
    "train_dl = DeviceDataLoader(train_dl, device)\n",
    "valid_dl = DeviceDataLoader(valid_dl, device)"
   ]
  },
  {
   "cell_type": "code",
   "execution_count": 13,
   "id": "0e67c020",
   "metadata": {
    "id": "0e67c020"
   },
   "outputs": [],
   "source": [
    "import os\n",
    "import torch\n",
    "import torchvision\n",
    "import tarfile\n",
    "import torch.nn as nn\n",
    "import numpy as np\n",
    "from sklearn.metrics import precision_recall_fscore_support\n",
    "import torch.nn.functional as F\n",
    "from torchvision.datasets.utils import download_url\n",
    "from torchvision.datasets import ImageFolder\n",
    "from torch.utils.data import DataLoader\n",
    "import torchvision.transforms as tt\n",
    "from torch.utils.data import random_split\n",
    "from torchvision.utils import make_grid\n",
    "import matplotlib\n",
    "import matplotlib.pyplot as plt\n",
    "%matplotlib inline\n",
    "\n",
    "def accuracy(outputs, labels):\n",
    "    _, preds = torch.max(outputs, dim=1)\n",
    "    return torch.tensor(torch.sum(preds == labels).item() / len(preds))\n",
    "\n",
    "class ImageClassificationBase(nn.Module):\n",
    "    def training_step(self, batch):\n",
    "        images, labels = batch \n",
    "        out = self(images)                  # Generate predictions\n",
    "        loss = F.cross_entropy(out, labels) # Calculate loss\n",
    "        return loss\n",
    "    \n",
    "    def validation_step(self, batch):\n",
    "        images, labels = batch \n",
    "        out = self(images)                    # Generate predictions\n",
    "        loss = F.cross_entropy(out, labels)   # Calculate loss\n",
    "        acc = accuracy(out, labels)           # Calculate accuracy\n",
    "        \n",
    "    #     ------------------- calculate fscore for each batch ----------------\n",
    "\n",
    "        _, y_preds = torch.max(out, dim=1)    \n",
    "        threeMetrics = precision_recall_fscore_support(torch.Tensor.cpu(labels), torch.Tensor.cpu(y_preds), average=None,labels=[i for i in range(7)])\n",
    "        fscore = torch.tensor(threeMetrics[2]) # fscore (return a tensor of a list: tensor([1,2,3]))\n",
    "\n",
    "        return {'val_loss': loss.detach(), 'val_acc': acc, 'val_fscore': fscore}\n",
    "        \n",
    "    def validation_epoch_end(self, outputs):\n",
    "        batch_losses = [x['val_loss'] for x in outputs]\n",
    "        epoch_loss = torch.stack(batch_losses).mean()   # Combine losses\n",
    "        batch_accs = [x['val_acc'] for x in outputs]\n",
    "        epoch_acc = torch.stack(batch_accs).mean()      # Combine accuracies\n",
    "        batch_fscores = [x['val_fscore'] for x in outputs] \n",
    "        epoch_fscore = torch.stack(batch_fscores).mean(0)  # Calculate mean fscore\n",
    "        return {'val_loss': epoch_loss.item(), 'val_acc': epoch_acc.item(), 'val_fscore': epoch_fscore.tolist()}\n",
    "    \n",
    "    def epoch_end(self, epoch, result):\n",
    "        print(\"Epoch [{}], last_lr: {:.5f}, train_loss: {:.4f}, val_loss: {:.4f}, val_acc: {:.4f}, val_fscore: {}\".format(\n",
    "            epoch, result['lrs'][-1], result['train_loss'], result['val_loss'], result['val_acc'], result['val_fscore']))"
   ]
  },
  {
   "cell_type": "code",
   "execution_count": 14,
   "id": "f03b4775",
   "metadata": {
    "id": "f03b4775"
   },
   "outputs": [],
   "source": [
    "def conv_block(in_channels, out_channels, pool=False):\n",
    "    layers = [nn.Conv2d(in_channels, out_channels, kernel_size=3, padding=1), \n",
    "              nn.BatchNorm2d(out_channels), \n",
    "              nn.ReLU(inplace=True)]\n",
    "    if pool: layers.append(nn.MaxPool2d(2))\n",
    "    return nn.Sequential(*layers)\n",
    "\n",
    "class ResNet9(ImageClassificationBase):\n",
    "    def __init__(self, in_channels, num_classes):\n",
    "        super().__init__()\n",
    "        \n",
    "        self.conv1 = conv_block(in_channels, 64)\n",
    "        self.conv2 = conv_block(64, 128, pool=True)\n",
    "        self.res1 = nn.Sequential(conv_block(128, 128), conv_block(128, 128))\n",
    "        \n",
    "        self.conv3 = conv_block(128, 256, pool=True)\n",
    "        self.conv4 = conv_block(256, 512, pool=True)\n",
    "        self.res2 = nn.Sequential(conv_block(512, 512), conv_block(512, 512))\n",
    "        \n",
    "        self.classifier = nn.Sequential(nn.MaxPool2d(4), \n",
    "                                        nn.Flatten(), \n",
    "                                        nn.Dropout(0.2),\n",
    "                                        nn.Linear(512, num_classes))\n",
    "        \n",
    "    def forward(self, xb):\n",
    "        out = self.conv1(xb)\n",
    "        out = self.conv2(out)\n",
    "        out = self.res1(out) + out\n",
    "        out = self.conv3(out)\n",
    "        out = self.conv4(out)\n",
    "        out = self.res2(out) + out\n",
    "        out = self.classifier(out)\n",
    "        return out\n"
   ]
  },
  {
   "cell_type": "code",
   "execution_count": 15,
   "id": "61d8c2b3",
   "metadata": {
    "colab": {
     "base_uri": "https://localhost:8080/"
    },
    "executionInfo": {
     "elapsed": 7,
     "status": "ok",
     "timestamp": 1658167153429,
     "user": {
      "displayName": "JUJIE YANG",
      "userId": "07067934053918991332"
     },
     "user_tz": -60
    },
    "id": "61d8c2b3",
    "outputId": "46521d4f-59de-4cec-e7cd-a12b4919da8b"
   },
   "outputs": [
    {
     "data": {
      "text/plain": [
       "ResNet9(\n",
       "  (conv1): Sequential(\n",
       "    (0): Conv2d(3, 64, kernel_size=(3, 3), stride=(1, 1), padding=(1, 1))\n",
       "    (1): BatchNorm2d(64, eps=1e-05, momentum=0.1, affine=True, track_running_stats=True)\n",
       "    (2): ReLU(inplace=True)\n",
       "  )\n",
       "  (conv2): Sequential(\n",
       "    (0): Conv2d(64, 128, kernel_size=(3, 3), stride=(1, 1), padding=(1, 1))\n",
       "    (1): BatchNorm2d(128, eps=1e-05, momentum=0.1, affine=True, track_running_stats=True)\n",
       "    (2): ReLU(inplace=True)\n",
       "    (3): MaxPool2d(kernel_size=2, stride=2, padding=0, dilation=1, ceil_mode=False)\n",
       "  )\n",
       "  (res1): Sequential(\n",
       "    (0): Sequential(\n",
       "      (0): Conv2d(128, 128, kernel_size=(3, 3), stride=(1, 1), padding=(1, 1))\n",
       "      (1): BatchNorm2d(128, eps=1e-05, momentum=0.1, affine=True, track_running_stats=True)\n",
       "      (2): ReLU(inplace=True)\n",
       "    )\n",
       "    (1): Sequential(\n",
       "      (0): Conv2d(128, 128, kernel_size=(3, 3), stride=(1, 1), padding=(1, 1))\n",
       "      (1): BatchNorm2d(128, eps=1e-05, momentum=0.1, affine=True, track_running_stats=True)\n",
       "      (2): ReLU(inplace=True)\n",
       "    )\n",
       "  )\n",
       "  (conv3): Sequential(\n",
       "    (0): Conv2d(128, 256, kernel_size=(3, 3), stride=(1, 1), padding=(1, 1))\n",
       "    (1): BatchNorm2d(256, eps=1e-05, momentum=0.1, affine=True, track_running_stats=True)\n",
       "    (2): ReLU(inplace=True)\n",
       "    (3): MaxPool2d(kernel_size=2, stride=2, padding=0, dilation=1, ceil_mode=False)\n",
       "  )\n",
       "  (conv4): Sequential(\n",
       "    (0): Conv2d(256, 512, kernel_size=(3, 3), stride=(1, 1), padding=(1, 1))\n",
       "    (1): BatchNorm2d(512, eps=1e-05, momentum=0.1, affine=True, track_running_stats=True)\n",
       "    (2): ReLU(inplace=True)\n",
       "    (3): MaxPool2d(kernel_size=2, stride=2, padding=0, dilation=1, ceil_mode=False)\n",
       "  )\n",
       "  (res2): Sequential(\n",
       "    (0): Sequential(\n",
       "      (0): Conv2d(512, 512, kernel_size=(3, 3), stride=(1, 1), padding=(1, 1))\n",
       "      (1): BatchNorm2d(512, eps=1e-05, momentum=0.1, affine=True, track_running_stats=True)\n",
       "      (2): ReLU(inplace=True)\n",
       "    )\n",
       "    (1): Sequential(\n",
       "      (0): Conv2d(512, 512, kernel_size=(3, 3), stride=(1, 1), padding=(1, 1))\n",
       "      (1): BatchNorm2d(512, eps=1e-05, momentum=0.1, affine=True, track_running_stats=True)\n",
       "      (2): ReLU(inplace=True)\n",
       "    )\n",
       "  )\n",
       "  (classifier): Sequential(\n",
       "    (0): MaxPool2d(kernel_size=4, stride=4, padding=0, dilation=1, ceil_mode=False)\n",
       "    (1): Flatten(start_dim=1, end_dim=-1)\n",
       "    (2): Dropout(p=0.2, inplace=False)\n",
       "    (3): Linear(in_features=512, out_features=7, bias=True)\n",
       "  )\n",
       ")"
      ]
     },
     "execution_count": 15,
     "metadata": {},
     "output_type": "execute_result"
    }
   ],
   "source": [
    "model = to_device(ResNet9(3, 7), device)\n",
    "model"
   ]
  },
  {
   "cell_type": "code",
   "execution_count": 16,
   "id": "2c06ebd3",
   "metadata": {
    "id": "2c06ebd3"
   },
   "outputs": [],
   "source": [
    "@torch.no_grad()\n",
    "def evaluate(model, val_loader):\n",
    "    model.eval()\n",
    "    outputs = [model.validation_step(batch) for batch in val_loader]\n",
    "    return model.validation_epoch_end(outputs)\n",
    "\n",
    "def get_lr(optimizer):\n",
    "    for param_group in optimizer.param_groups:\n",
    "        return param_group['lr']\n",
    "\n",
    "def fit_one_cycle(epochs, max_lr, model, train_loader, val_loader, \n",
    "                  weight_decay=0, grad_clip=None, opt_func=torch.optim.SGD):\n",
    "    torch.cuda.empty_cache()\n",
    "    history = []\n",
    "    \n",
    "    # Set up cutom optimizer with weight decay\n",
    "    optimizer = opt_func(model.parameters(), max_lr, weight_decay=weight_decay)\n",
    "    # Set up one-cycle learning rate scheduler\n",
    "    sched = torch.optim.lr_scheduler.OneCycleLR(optimizer, max_lr, epochs=epochs, \n",
    "                                                steps_per_epoch=len(train_loader))\n",
    "    \n",
    "    for epoch in range(epochs):\n",
    "        # Training Phase \n",
    "        model.train()\n",
    "        train_losses = []\n",
    "        lrs = []\n",
    "        for batch in train_loader:\n",
    "            loss = model.training_step(batch)\n",
    "            train_losses.append(loss)\n",
    "            loss.backward()\n",
    "            \n",
    "            # Gradient clipping\n",
    "            if grad_clip: \n",
    "                nn.utils.clip_grad_value_(model.parameters(), grad_clip)\n",
    "            \n",
    "            optimizer.step()\n",
    "            optimizer.zero_grad()\n",
    "            \n",
    "            # Record & update learning rate\n",
    "            lrs.append(get_lr(optimizer))\n",
    "            sched.step()\n",
    "        \n",
    "        # Validation phase\n",
    "        result = evaluate(model, val_loader)\n",
    "        result['train_loss'] = torch.stack(train_losses).mean().item()\n",
    "        result['lrs'] = lrs\n",
    "        model.epoch_end(epoch, result)\n",
    "        history.append(result)\n",
    "    return history"
   ]
  },
  {
   "cell_type": "code",
   "execution_count": 17,
   "id": "0e90ff96",
   "metadata": {},
   "outputs": [],
   "source": [
    "# remove warnings\n",
    "import warnings\n",
    "warnings.filterwarnings(\"ignore\")"
   ]
  },
  {
   "cell_type": "code",
   "execution_count": 18,
   "id": "836a5eed",
   "metadata": {
    "colab": {
     "base_uri": "https://localhost:8080/"
    },
    "executionInfo": {
     "elapsed": 45048,
     "status": "ok",
     "timestamp": 1658167198472,
     "user": {
      "displayName": "JUJIE YANG",
      "userId": "07067934053918991332"
     },
     "user_tz": -60
    },
    "id": "836a5eed",
    "outputId": "c73823ab-c291-4ecc-b644-ff5e33c5904c"
   },
   "outputs": [
    {
     "data": {
      "text/plain": [
       "[{'val_loss': 1.9769690036773682,\n",
       "  'val_acc': 0.01515794824808836,\n",
       "  'val_fscore': [0.0, 0.0, 0.0, 0.0, 0.0, 0.0, 0.029786391505721627]}]"
      ]
     },
     "execution_count": 18,
     "metadata": {},
     "output_type": "execute_result"
    }
   ],
   "source": [
    "history = [evaluate(model, valid_dl)]\n",
    "history"
   ]
  },
  {
   "cell_type": "code",
   "execution_count": 19,
   "id": "1cd01334",
   "metadata": {
    "id": "1cd01334"
   },
   "outputs": [],
   "source": [
    "epochs = 4\n",
    "max_lr = 0.01\n",
    "grad_clip = 0.1\n",
    "weight_decay = 1e-4\n",
    "opt_func = torch.optim.Adam"
   ]
  },
  {
   "cell_type": "code",
   "execution_count": 20,
   "id": "1c610b77",
   "metadata": {
    "colab": {
     "base_uri": "https://localhost:8080/"
    },
    "executionInfo": {
     "elapsed": 1709736,
     "status": "ok",
     "timestamp": 1658168908206,
     "user": {
      "displayName": "JUJIE YANG",
      "userId": "07067934053918991332"
     },
     "user_tz": -60
    },
    "id": "1c610b77",
    "outputId": "ad46fdbb-a652-4b4f-b8c1-f296bd5a8421"
   },
   "outputs": [
    {
     "name": "stdout",
     "output_type": "stream",
     "text": [
      "Epoch [0], last_lr: 0.00934, train_loss: 1.1066, val_loss: 1.6070, val_acc: 0.7019, val_fscore: [0.0, 0.06594516594516595, 0.24374015274139038, 0.0, 0.1847865275793326, 0.836313307217503, 0.0]\n",
      "Epoch [1], last_lr: 0.00812, train_loss: 0.9230, val_loss: 0.9416, val_acc: 0.7240, val_fscore: [0.048005698005698004, 0.036904761904761905, 0.41148501833273543, 0.0, 0.3268803200672792, 0.8705132194595393, 0.0]\n",
      "Epoch [2], last_lr: 0.00283, train_loss: 0.7994, val_loss: 0.7587, val_acc: 0.7115, val_fscore: [0.1896649374590551, 0.4076036540619874, 0.4676576087880518, 0.0, 0.43192941797214685, 0.8651642068809458, 0.3742063492063492]\n",
      "Epoch [3], last_lr: 0.00000, train_loss: 0.7401, val_loss: 0.6731, val_acc: 0.7599, val_fscore: [0.3056830961436225, 0.441457660480502, 0.43099953145867104, 0.0, 0.310644621451078, 0.8914560767330265, 0.7119631185807656]\n",
      "CPU times: user 2.25 s, sys: 578 ms, total: 2.83 s\n",
      "Wall time: 3min 58s\n"
     ]
    }
   ],
   "source": [
    "%%time\n",
    "history += fit_one_cycle(epochs, max_lr, model, train_dl, valid_dl, \n",
    "                             grad_clip=grad_clip, \n",
    "                             weight_decay=weight_decay, \n",
    "                             opt_func=opt_func)"
   ]
  },
  {
   "cell_type": "code",
   "execution_count": 21,
   "id": "1e7f8ee6",
   "metadata": {
    "colab": {
     "base_uri": "https://localhost:8080/"
    },
    "executionInfo": {
     "elapsed": 860540,
     "status": "ok",
     "timestamp": 1658169768731,
     "user": {
      "displayName": "JUJIE YANG",
      "userId": "07067934053918991332"
     },
     "user_tz": -60
    },
    "id": "1e7f8ee6",
    "outputId": "7cc0d4a9-e5de-4b3b-825b-13b3b1161da4"
   },
   "outputs": [
    {
     "name": "stdout",
     "output_type": "stream",
     "text": [
      "Epoch [0], last_lr: 0.00467, train_loss: 0.7755, val_loss: 4.8351, val_acc: 0.6449, val_fscore: [0.0, 0.0, 0.030943847072879328, 0.0, 0.16378192767879318, 0.8084895457708964, 0.05555555555555555]\n",
      "Epoch [1], last_lr: 0.00406, train_loss: 0.8361, val_loss: 0.7031, val_acc: 0.7486, val_fscore: [0.016666666666666666, 0.3681332629358945, 0.46541620793894173, 0.0, 0.26103049686967406, 0.884458181859614, 0.5810515873015873]\n",
      "Epoch [2], last_lr: 0.00142, train_loss: 0.7518, val_loss: 0.6628, val_acc: 0.7578, val_fscore: [0.2727450980392157, 0.47141116292992563, 0.3726205987186206, 0.0, 0.31653105641210855, 0.886633495394291, 0.6492724867724867]\n",
      "Epoch [3], last_lr: 0.00000, train_loss: 0.6812, val_loss: 0.6267, val_acc: 0.7662, val_fscore: [0.3377609862903981, 0.5164970323571929, 0.45220605004281245, 0.0, 0.3563298067291785, 0.8926750783487288, 0.7605742296918767]\n"
     ]
    }
   ],
   "source": [
    "epochs = 4\n",
    "max_lr = 0.005\n",
    "grad_clip = 0.1\n",
    "weight_decay = 1e-4\n",
    "opt_func = torch.optim.Adam\n",
    "\n",
    "history += fit_one_cycle(epochs, max_lr, model, train_dl, valid_dl, \n",
    "                             grad_clip=grad_clip, \n",
    "                             weight_decay=weight_decay, \n",
    "                             opt_func=opt_func)"
   ]
  },
  {
   "cell_type": "code",
   "execution_count": 22,
   "id": "c2fd0826",
   "metadata": {
    "colab": {
     "base_uri": "https://localhost:8080/"
    },
    "executionInfo": {
     "elapsed": 866718,
     "status": "ok",
     "timestamp": 1658170635443,
     "user": {
      "displayName": "JUJIE YANG",
      "userId": "07067934053918991332"
     },
     "user_tz": -60
    },
    "id": "c2fd0826",
    "outputId": "ebc3f8a2-f7e8-452a-a5a3-95ea2047e0d4"
   },
   "outputs": [
    {
     "name": "stdout",
     "output_type": "stream",
     "text": [
      "Epoch [0], last_lr: 0.00093, train_loss: 0.6761, val_loss: 0.6393, val_acc: 0.7647, val_fscore: [0.3186716610192179, 0.4864558978398809, 0.4110146622615281, 0.0, 0.27257038010552387, 0.8917467686851291, 0.6862103174603175]\n",
      "Epoch [1], last_lr: 0.00081, train_loss: 0.6939, val_loss: 0.6315, val_acc: 0.7704, val_fscore: [0.15232683982683984, 0.5128822965635109, 0.4887566431526138, 0.0, 0.35715556057011094, 0.8984978729663015, 0.6197089947089948]\n",
      "Epoch [2], last_lr: 0.00028, train_loss: 0.6721, val_loss: 0.6331, val_acc: 0.7702, val_fscore: [0.11673881673881674, 0.4894625249835807, 0.4303247776652032, 0.0, 0.4098775755473642, 0.897094364923095, 0.7235780423280422]\n",
      "Epoch [3], last_lr: 0.00000, train_loss: 0.6382, val_loss: 0.6022, val_acc: 0.7828, val_fscore: [0.431846429265833, 0.5379500085919865, 0.5002656564284772, 0.09722222222222221, 0.38491046554257885, 0.9007400145610361, 0.7644812789549631]\n"
     ]
    }
   ],
   "source": [
    "epochs = 4\n",
    "max_lr = 0.001\n",
    "grad_clip = 0.1\n",
    "weight_decay = 1e-3\n",
    "opt_func = torch.optim.Adam\n",
    "\n",
    "history += fit_one_cycle(epochs, max_lr, model, train_dl, valid_dl, \n",
    "                             grad_clip=grad_clip, \n",
    "                             weight_decay=weight_decay, \n",
    "                             opt_func=opt_func)"
   ]
  },
  {
   "cell_type": "code",
   "execution_count": 23,
   "id": "6c48928a",
   "metadata": {
    "colab": {
     "base_uri": "https://localhost:8080/"
    },
    "executionInfo": {
     "elapsed": 863614,
     "status": "ok",
     "timestamp": 1658171499043,
     "user": {
      "displayName": "JUJIE YANG",
      "userId": "07067934053918991332"
     },
     "user_tz": -60
    },
    "id": "6c48928a",
    "outputId": "3b3a3dae-c67f-4f57-c001-daecfaf2c8b1"
   },
   "outputs": [
    {
     "name": "stdout",
     "output_type": "stream",
     "text": [
      "Epoch [0], last_lr: 0.00001, train_loss: 0.6257, val_loss: 0.6020, val_acc: 0.7823, val_fscore: [0.42691357132146607, 0.5258514147134737, 0.5037130149040313, 0.09722222222222221, 0.3679707027785726, 0.9018174494770005, 0.7714257233994076]\n",
      "Epoch [1], last_lr: 0.00001, train_loss: 0.6239, val_loss: 0.6007, val_acc: 0.7798, val_fscore: [0.4065540294945329, 0.5219190662801849, 0.5045229608323446, 0.041666666666666664, 0.3624516383226777, 0.8994995358232635, 0.7788331308068149]\n",
      "Epoch [2], last_lr: 0.00000, train_loss: 0.6175, val_loss: 0.6016, val_acc: 0.7807, val_fscore: [0.40564508194875676, 0.5132995567012594, 0.5082873787659422, 0.041666666666666664, 0.37027124768387915, 0.9016994181079462, 0.7788331308068149]\n",
      "Epoch [3], last_lr: 0.00000, train_loss: 0.6180, val_loss: 0.6001, val_acc: 0.7791, val_fscore: [0.3913011905460418, 0.5207984374586542, 0.5039499543892774, 0.041666666666666664, 0.37449106115406244, 0.9010527909403047, 0.7788331308068149]\n"
     ]
    }
   ],
   "source": [
    "epochs = 4\n",
    "max_lr = 0.00001\n",
    "grad_clip = 0.1\n",
    "weight_decay = 1e-3\n",
    "opt_func = torch.optim.Adam\n",
    "\n",
    "history += fit_one_cycle(epochs, max_lr, model, train_dl, valid_dl, \n",
    "                             grad_clip=grad_clip, \n",
    "                             weight_decay=weight_decay, \n",
    "                             opt_func=opt_func)"
   ]
  },
  {
   "cell_type": "code",
   "execution_count": 24,
   "id": "ddcb09c5",
   "metadata": {
    "id": "ddcb09c5"
   },
   "outputs": [],
   "source": [
    "torch.save(model.state_dict(), '../../kaggle/ubuntu_save_model/ubuntu_resnet9.pth')"
   ]
  },
  {
   "cell_type": "code",
   "execution_count": 25,
   "id": "be280df2",
   "metadata": {
    "id": "be280df2"
   },
   "outputs": [],
   "source": [
    "def plot_accuracies(history):\n",
    "    accuracies = [x['val_acc'] for x in history]\n",
    "    plt.plot(accuracies, '-x')\n",
    "    plt.xlabel('epoch')\n",
    "    plt.ylabel('accuracy')\n",
    "    plt.title('Accuracy vs. No. of epochs')\n",
    "def plot_losses(history):\n",
    "    train_losses = [x.get('train_loss') for x in history]\n",
    "    val_losses = [x['val_loss'] for x in history]\n",
    "    plt.plot(train_losses, '-bx')\n",
    "    plt.plot(val_losses, '-rx')\n",
    "    plt.xlabel('epoch')\n",
    "    plt.ylabel('loss')\n",
    "    plt.legend(['Training', 'Validation'])\n",
    "    plt.title('Loss vs. No. of epochs')"
   ]
  },
  {
   "cell_type": "code",
   "execution_count": 26,
   "id": "90844238",
   "metadata": {
    "colab": {
     "base_uri": "https://localhost:8080/",
     "height": 295
    },
    "executionInfo": {
     "elapsed": 13,
     "status": "ok",
     "timestamp": 1658171499044,
     "user": {
      "displayName": "JUJIE YANG",
      "userId": "07067934053918991332"
     },
     "user_tz": -60
    },
    "id": "90844238",
    "outputId": "03da4ee7-b0ad-4217-e79c-272f7f18284e"
   },
   "outputs": [
    {
     "data": {
      "image/png": "[encoded data removed]",
      "text/plain": [
       "<Figure size 432x288 with 1 Axes>"
      ]
     },
     "metadata": {
      "needs_background": "light"
     },
     "output_type": "display_data"
    }
   ],
   "source": [
    "plot_accuracies(history)"
   ]
  },
  {
   "cell_type": "code",
   "execution_count": 27,
   "id": "7056b789",
   "metadata": {
    "colab": {
     "base_uri": "https://localhost:8080/",
     "height": 295
    },
    "executionInfo": {
     "elapsed": 796,
     "status": "ok",
     "timestamp": 1658171499828,
     "user": {
      "displayName": "JUJIE YANG",
      "userId": "07067934053918991332"
     },
     "user_tz": -60
    },
    "id": "7056b789",
    "outputId": "328e4b72-ae94-43b1-d51f-081822a88dc2"
   },
   "outputs": [
    {
     "data": {
      "image/png": "[encoded data removed]",
      "text/plain": [
       "<Figure size 432x288 with 1 Axes>"
      ]
     },
     "metadata": {
      "needs_background": "light"
     },
     "output_type": "display_data"
    }
   ],
   "source": [
    "plot_losses(history)"
   ]
  }
 ],
 "metadata": {
  "accelerator": "GPU",
  "colab": {
   "collapsed_sections": [],
   "name": "resnet9-hmnist-classification.ipynb",
   "provenance": []
  },
  "gpuClass": "standard",
  "kernelspec": {
   "display_name": "Python 3 (ipykernel)",
   "language": "python",
   "name": "python3"
  },
  "language_info": {
   "codemirror_mode": {
    "name": "ipython",
    "version": 3
   },
   "file_extension": ".py",
   "mimetype": "text/x-python",
   "name": "python",
   "nbconvert_exporter": "python",
   "pygments_lexer": "ipython3",
   "version": "3.9.12"
  },
  "papermill": {
   "default_parameters": {},
   "duration": 4365.069848,
   "end_time": "2022-07-11T18:36:24.839486",
   "environment_variables": {},
   "exception": null,
   "input_path": "__notebook__.ipynb",
   "output_path": "__notebook__.ipynb",
   "parameters": {},
   "start_time": "2022-07-11T17:23:39.769638",
   "version": "2.3.4"
  }
 },
 "nbformat": 4,
 "nbformat_minor": 5
}
