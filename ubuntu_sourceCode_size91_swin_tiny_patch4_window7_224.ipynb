{
 "cells": [
  {
   "cell_type": "code",
   "execution_count": 1,
   "id": "yP993Y2O1zc4",
   "metadata": {
    "colab": {
     "base_uri": "https://localhost:8080/"
    },
    "executionInfo": {
     "elapsed": 776,
     "status": "ok",
     "timestamp": 1660006466370,
     "user": {
      "displayName": "JUJIE YANG",
      "userId": "07067934053918991332"
     },
     "user_tz": -60
    },
    "id": "yP993Y2O1zc4",
    "outputId": "122a9385-ea8f-4b0b-f378-79c7225a3393"
   },
   "outputs": [
    {
     "name": "stdout",
     "output_type": "stream",
     "text": [
      "True\n",
      "1\n",
      "0\n",
      "<torch.cuda.device object at 0x7fee882100a0>\n",
      "NVIDIA GeForce RTX 3090\n"
     ]
    }
   ],
   "source": [
    "import torch\n",
    "print(torch.cuda.is_available())\n",
    "print(torch.cuda.device_count())\n",
    "print(torch.cuda.current_device())\n",
    "print(torch.cuda.device(0))\n",
    "print(torch.cuda.get_device_name(0))"
   ]
  },
  {
   "cell_type": "markdown",
   "id": "k1TYGLGzyI4S",
   "metadata": {
    "id": "k1TYGLGzyI4S"
   },
   "source": [
    "'dx' is short for diagnosis (for the patient)\n",
    "- 'nv': 'Melanocytic nevi'\n",
    "- 'mel': 'Melanoma'\n",
    "- 'bkl': 'Benign keratosis-like lesions'\n",
    "- 'bcc': 'Basal cell carcinoma'\n",
    "- 'akiec': 'Actinic keratoses'\n",
    "- 'vasc': 'Vascular lesions'\n",
    "- 'df': 'Dermatofibroma'\n",
    "\n",
    "'dx_type' is how the diagnosis was made. \n",
    "- histo        5340\n",
    "- follow_up    3704\n",
    "- consensus     902\n",
    "- confocal       69"
   ]
  },
  {
   "cell_type": "code",
   "execution_count": 2,
   "id": "toF9u1z-F31H",
   "metadata": {
    "id": "toF9u1z-F31H",
    "outputId": "3066411c-b64d-4a15-c3ae-52dcb8704144"
   },
   "outputs": [
    {
     "name": "stdout",
     "output_type": "stream",
     "text": [
      "Requirement already satisfied: timm in /home/jujie/anaconda3/lib/python3.9/site-packages (0.6.7)\r\n",
      "Requirement already satisfied: torch>=1.4 in /home/jujie/anaconda3/lib/python3.9/site-packages (from timm) (1.12.1+cu116)\r\n",
      "Requirement already satisfied: torchvision in /home/jujie/anaconda3/lib/python3.9/site-packages (from timm) (0.13.1+cu116)\r\n",
      "Requirement already satisfied: typing-extensions in /home/jujie/anaconda3/lib/python3.9/site-packages (from torch>=1.4->timm) (4.3.0)\r\n",
      "Requirement already satisfied: pillow!=8.3.*,>=5.3.0 in /home/jujie/anaconda3/lib/python3.9/site-packages (from torchvision->timm) (9.2.0)\r\n",
      "Requirement already satisfied: requests in /home/jujie/anaconda3/lib/python3.9/site-packages (from torchvision->timm) (2.28.1)\r\n",
      "Requirement already satisfied: numpy in /home/jujie/anaconda3/lib/python3.9/site-packages (from torchvision->timm) (1.21.5)\r\n",
      "Requirement already satisfied: charset-normalizer<3,>=2 in /home/jujie/anaconda3/lib/python3.9/site-packages (from requests->torchvision->timm) (2.0.4)\r\n",
      "Requirement already satisfied: idna<4,>=2.5 in /home/jujie/anaconda3/lib/python3.9/site-packages (from requests->torchvision->timm) (3.3)\r\n",
      "Requirement already satisfied: certifi>=2017.4.17 in /home/jujie/anaconda3/lib/python3.9/site-packages (from requests->torchvision->timm) (2022.6.15)\r\n",
      "Requirement already satisfied: urllib3<1.27,>=1.21.1 in /home/jujie/anaconda3/lib/python3.9/site-packages (from requests->torchvision->timm) (1.26.11)\r\n"
     ]
    }
   ],
   "source": [
    "## Now, we import timm, torchvision image models\n",
    "!pip install timm # kaggle doesnt have it installed by default\n",
    "import timm\n",
    "from timm.loss import LabelSmoothingCrossEntropy # This is better than normal nn.CrossEntropyLoss"
   ]
  },
  {
   "cell_type": "code",
   "execution_count": 3,
   "id": "0e078efa",
   "metadata": {
    "id": "0e078efa"
   },
   "outputs": [],
   "source": [
    "import pandas as pd\n",
    "from torch.utils.data import Dataset\n",
    "import torchvision.transforms as transforms\n",
    "import matplotlib.pyplot as plt\n",
    "\n",
    "def disease_to_label(l):\n",
    "    if l == \"akiec\":\n",
    "        return 0\n",
    "    if l == \"bcc\":\n",
    "        return 1\n",
    "    if l == \"bkl\":\n",
    "        return 2\n",
    "    if l == \"df\":\n",
    "        return 3\n",
    "    if l == \"mel\":\n",
    "        return 4\n",
    "    if l == \"nv\":\n",
    "        return 5\n",
    "    if l == \"vasc\":\n",
    "        return 6 \n",
    "\n",
    "class SkinCancerDetection_train(Dataset):\n",
    "    \n",
    "    def __init__(self, train_path, csv, transform=None):\n",
    "        self.train_path = train_path\n",
    "        self.csv_path = csv\n",
    "        self.transform = transform\n",
    "    def __len__(self):\n",
    "        df = pd.read_csv(self.csv_path)\n",
    "        return (len(df.index))\n",
    "    def __getitem__(self, idx):\n",
    "        image_id = \"ISIC_00\" + str(idx+25306)\n",
    "        image_file_name = image_id + \".jpg\"\n",
    "        df = pd.read_csv(self.csv_path)\n",
    "        label = disease_to_label(str(df.loc[df['image_id'] == image_id, 'dx'].item()))\n",
    "        p = os.path.join(self.train_path, image_file_name)\n",
    "\n",
    "        img = plt.imread(p)\n",
    "\n",
    "\n",
    "        if self.transform:\n",
    "            img = self.transform(img)\n",
    "        \n",
    "        return img, label\n",
    "    \n",
    "class SkinCancerDetection_test(Dataset):\n",
    "    \n",
    "    def __init__(self, test_path, csv, transform=None):\n",
    "        self.test_path = test_path\n",
    "        self.csv_path = csv\n",
    "        self.transform = transform\n",
    "    def __len__(self):\n",
    "        df = pd.read_csv(self.csv_path)\n",
    "        return (len(df.index))\n",
    "    def __getitem__(self, idx):\n",
    "        image_id = \"ISIC_00\" + str(idx+24306)\n",
    "        image_file_name = image_id + \".jpg\"\n",
    "        df = pd.read_csv(self.csv_path)\n",
    "        label = disease_to_label(str(df.loc[df['image_id'] == image_id, 'dx'].item()))\n",
    "        \n",
    "        p = os.path.join(self.test_path, image_file_name)\n",
    "        \n",
    "        img = plt.imread(p)\n",
    "            \n",
    "        if self.transform:\n",
    "            img = self.transform(img)\n",
    "        \n",
    "        return img, label"
   ]
  },
  {
   "cell_type": "code",
   "execution_count": 4,
   "id": "57b148ce",
   "metadata": {
    "id": "57b148ce"
   },
   "outputs": [],
   "source": [
    "train_transform = transforms.Compose([\n",
    "            transforms.ToPILImage(),\n",
    "            transforms.RandomHorizontalFlip(),\n",
    "            transforms.RandomVerticalFlip(),\n",
    "            transforms.RandomApply(torch.nn.ModuleList([transforms.ColorJitter()]), p=0.25),\n",
    "            transforms.Resize(256),\n",
    "            transforms.CenterCrop(224),\n",
    "            transforms.ToTensor(),\n",
    "            transforms.Normalize(timm.data.IMAGENET_DEFAULT_MEAN, timm.data.IMAGENET_DEFAULT_STD), # imagenet means\n",
    "            transforms.RandomErasing(p=0.1, value='random')\n",
    "        ])\n",
    "\n",
    "test_transform = transforms.Compose([\n",
    "    transforms.ToPILImage(),\n",
    "    transforms.Resize(256),\n",
    "    transforms.CenterCrop(224),\n",
    "    transforms.ToTensor(),\n",
    "    transforms.Normalize(timm.data.IMAGENET_DEFAULT_MEAN, timm.data.IMAGENET_DEFAULT_STD) # imagenet means\n",
    "])\n",
    "\n",
    "train_ds = SkinCancerDetection_train('../../kaggle/input/HAM10000_images_train_9000','../../kaggle/input/HAM10000_metadata_train_9000.csv',transform=train_transform)\n",
    "val_ds = SkinCancerDetection_test('../../kaggle/input/HAM10000_images_test_1000','../../kaggle/input/HAM10000_metadata_test_1000.csv',transform=test_transform)"
   ]
  },
  {
   "cell_type": "code",
   "execution_count": 5,
   "id": "b6772bc2",
   "metadata": {
    "colab": {
     "base_uri": "https://localhost:8080/"
    },
    "executionInfo": {
     "elapsed": 263,
     "status": "ok",
     "timestamp": 1660006472079,
     "user": {
      "displayName": "JUJIE YANG",
      "userId": "07067934053918991332"
     },
     "user_tz": -60
    },
    "id": "b6772bc2",
    "outputId": "6a99e4b6-660d-4b84-a621-d9035f0ca23e"
   },
   "outputs": [
    {
     "data": {
      "text/plain": [
       "1000"
      ]
     },
     "execution_count": 5,
     "metadata": {},
     "output_type": "execute_result"
    }
   ],
   "source": [
    "len(val_ds)"
   ]
  },
  {
   "cell_type": "markdown",
   "id": "pCsGdkRD4bta",
   "metadata": {
    "id": "pCsGdkRD4bta"
   },
   "source": [
    "## Split train and validation dataset\n",
    "- batch_size = 128 (train_dl=128; valid_dl=256)\n",
    "\n"
   ]
  },
  {
   "cell_type": "code",
   "execution_count": 6,
   "id": "61470144",
   "metadata": {
    "colab": {
     "base_uri": "https://localhost:8080/",
     "height": 305
    },
    "executionInfo": {
     "elapsed": 14550,
     "status": "ok",
     "timestamp": 1660006486628,
     "user": {
      "displayName": "JUJIE YANG",
      "userId": "07067934053918991332"
     },
     "user_tz": -60
    },
    "id": "61470144",
    "outputId": "af97f90c-01fa-4b07-e768-9376e7aba101"
   },
   "outputs": [
    {
     "name": "stderr",
     "output_type": "stream",
     "text": [
      "Clipping input data to the valid range for imshow with RGB data ([0..1] for floats or [0..255] for integers).\n"
     ]
    },
    {
     "name": "stdout",
     "output_type": "stream",
     "text": [
      "<class 'torch.Tensor'>\n"
     ]
    },
    {
     "data": {
      "image/png": "[encoded data removed]",
      "text/plain": [
       "<Figure size 432x288 with 1 Axes>"
      ]
     },
     "metadata": {
      "needs_background": "light"
     },
     "output_type": "display_data"
    },
    {
     "name": "stdout",
     "output_type": "stream",
     "text": [
      "tensor(5)\n"
     ]
    }
   ],
   "source": [
    "import os\n",
    "import torch\n",
    "import torchvision\n",
    "import tarfile\n",
    "from torchvision.datasets.utils import download_url\n",
    "from torch.utils.data import random_split\n",
    "from torch.utils.data import DataLoader\n",
    "\n",
    "import matplotlib\n",
    "import matplotlib.pyplot as plt\n",
    "%matplotlib inline\n",
    "\n",
    "random_seed = 42\n",
    "torch.manual_seed(random_seed)\n",
    "\n",
    "# batch_size = 128\n",
    "batch_size = 64 \n",
    "\n",
    "train_dl = DataLoader(train_ds, batch_size, shuffle=True, num_workers=2, pin_memory=True)\n",
    "valid_dl = DataLoader(val_ds, batch_size*2, num_workers=2, pin_memory=True)\n",
    "\n",
    "plt.figure()\n",
    "\n",
    "for image, label in train_dl:\n",
    "    plt.imshow(image[0].permute(2, 1, 0))\n",
    "    print(type(image[0]))\n",
    "    plt.show()\n",
    "    print(label[0])\n",
    "    break"
   ]
  },
  {
   "cell_type": "code",
   "execution_count": 7,
   "id": "f48baac7",
   "metadata": {
    "id": "f48baac7"
   },
   "outputs": [],
   "source": [
    "def get_default_device():\n",
    "    \"\"\"Pick GPU if available, else CPU\"\"\"\n",
    "    if torch.cuda.is_available():\n",
    "        return torch.device('cuda')\n",
    "    else:\n",
    "        return torch.device('cpu')\n",
    "    \n",
    "def to_device(data, device):\n",
    "    \"\"\"Move tensor(s) to chosen device\"\"\"\n",
    "    if isinstance(data, (list,tuple)):\n",
    "        return [to_device(x, device) for x in data]\n",
    "    return data.to(device, non_blocking=True)\n",
    "\n",
    "class DeviceDataLoader():\n",
    "    \"\"\"Wrap a dataloader to move data to a device\"\"\"\n",
    "    def __init__(self, dl, device):\n",
    "        self.dl = dl\n",
    "        self.device = device\n",
    "        \n",
    "    def __iter__(self):\n",
    "        \"\"\"Yield a batch of data after moving it to device\"\"\"\n",
    "        for b in self.dl: \n",
    "            yield to_device(b, self.device)\n",
    "\n",
    "    def __len__(self):\n",
    "        \"\"\"Number of batches\"\"\"\n",
    "        return len(self.dl)\n",
    "device = get_default_device()\n",
    "train_dl = DeviceDataLoader(train_dl, device)\n",
    "valid_dl = DeviceDataLoader(valid_dl, device)"
   ]
  },
  {
   "cell_type": "code",
   "execution_count": 8,
   "id": "0e67c020",
   "metadata": {
    "id": "0e67c020"
   },
   "outputs": [],
   "source": [
    "import os\n",
    "import torch\n",
    "import torchvision\n",
    "import tarfile\n",
    "import torch.nn as nn\n",
    "import numpy as np\n",
    "import torch.nn.functional as F\n",
    "from torchvision.datasets.utils import download_url\n",
    "from torchvision.datasets import ImageFolder\n",
    "from torch.utils.data import DataLoader\n",
    "import torchvision.transforms as tt\n",
    "from torch.utils.data import random_split\n",
    "from torchvision.utils import make_grid\n",
    "import matplotlib\n",
    "import matplotlib.pyplot as plt\n",
    "%matplotlib inline\n",
    "\n",
    "def accuracy(outputs, labels):\n",
    "    _, preds = torch.max(outputs, dim=1)\n",
    "    return torch.tensor(torch.sum(preds == labels).item() / len(preds))\n"
   ]
  },
  {
   "cell_type": "code",
   "execution_count": 9,
   "id": "A4oqnxTBytnk",
   "metadata": {
    "colab": {
     "base_uri": "https://localhost:8080/"
    },
    "executionInfo": {
     "elapsed": 6530,
     "status": "ok",
     "timestamp": 1660006493155,
     "user": {
      "displayName": "JUJIE YANG",
      "userId": "07067934053918991332"
     },
     "user_tz": -60
    },
    "id": "A4oqnxTBytnk",
    "outputId": "8bdc53ca-005b-4161-a452-6e986474755d"
   },
   "outputs": [
    {
     "name": "stderr",
     "output_type": "stream",
     "text": [
      "Using cache found in /home/jujie/.cache/torch/hub/SharanSMenon_swin-transformer-hub_main\n",
      "/home/jujie/anaconda3/lib/python3.9/site-packages/torch/functional.py:478: UserWarning: torch.meshgrid: in an upcoming release, it will be required to pass the indexing argument. (Triggered internally at  ../aten/src/ATen/native/TensorShape.cpp:2894.)\n",
      "  return _VF.meshgrid(tensors, **kwargs)  # type: ignore[attr-defined]\n"
     ]
    }
   ],
   "source": [
    "HUB_URL = \"SharanSMenon/swin-transformer-hub:main\"\n",
    "MODEL_NAME = \"swin_tiny_patch4_window7_224\"\n",
    "# check hubconf for more models.\n",
    "swin_tiny_patch4_window7_224 = torch.hub.load(HUB_URL, MODEL_NAME, pretrained=True) # load from torch hub"
   ]
  },
  {
   "cell_type": "code",
   "execution_count": 10,
   "id": "61d8c2b3",
   "metadata": {
    "colab": {
     "base_uri": "https://localhost:8080/"
    },
    "executionInfo": {
     "elapsed": 13,
     "status": "ok",
     "timestamp": 1660006493156,
     "user": {
      "displayName": "JUJIE YANG",
      "userId": "07067934053918991332"
     },
     "user_tz": -60
    },
    "id": "61d8c2b3",
    "outputId": "05c15468-cc9c-4ede-841b-a79e585c925d"
   },
   "outputs": [
    {
     "data": {
      "text/plain": [
       "SwinTransformer(\n",
       "  (patch_embed): PatchEmbed(\n",
       "    (proj): Conv2d(3, 96, kernel_size=(4, 4), stride=(4, 4))\n",
       "    (norm): LayerNorm((96,), eps=1e-05, elementwise_affine=True)\n",
       "  )\n",
       "  (pos_drop): Dropout(p=0.0, inplace=False)\n",
       "  (layers): ModuleList(\n",
       "    (0): BasicLayer(\n",
       "      dim=96, input_resolution=(56, 56), depth=2\n",
       "      (blocks): ModuleList(\n",
       "        (0): SwinTransformerBlock(\n",
       "          dim=96, input_resolution=(56, 56), num_heads=3, window_size=7, shift_size=0, mlp_ratio=4.0\n",
       "          (norm1): LayerNorm((96,), eps=1e-05, elementwise_affine=True)\n",
       "          (attn): WindowAttention(\n",
       "            dim=96, window_size=(7, 7), num_heads=3\n",
       "            (qkv): Linear(in_features=96, out_features=288, bias=True)\n",
       "            (attn_drop): Dropout(p=0.0, inplace=False)\n",
       "            (proj): Linear(in_features=96, out_features=96, bias=True)\n",
       "            (proj_drop): Dropout(p=0.0, inplace=False)\n",
       "            (softmax): Softmax(dim=-1)\n",
       "          )\n",
       "          (drop_path): Identity()\n",
       "          (norm2): LayerNorm((96,), eps=1e-05, elementwise_affine=True)\n",
       "          (mlp): Mlp(\n",
       "            (fc1): Linear(in_features=96, out_features=384, bias=True)\n",
       "            (act): GELU(approximate=none)\n",
       "            (fc2): Linear(in_features=384, out_features=96, bias=True)\n",
       "            (drop): Dropout(p=0.0, inplace=False)\n",
       "          )\n",
       "        )\n",
       "        (1): SwinTransformerBlock(\n",
       "          dim=96, input_resolution=(56, 56), num_heads=3, window_size=7, shift_size=3, mlp_ratio=4.0\n",
       "          (norm1): LayerNorm((96,), eps=1e-05, elementwise_affine=True)\n",
       "          (attn): WindowAttention(\n",
       "            dim=96, window_size=(7, 7), num_heads=3\n",
       "            (qkv): Linear(in_features=96, out_features=288, bias=True)\n",
       "            (attn_drop): Dropout(p=0.0, inplace=False)\n",
       "            (proj): Linear(in_features=96, out_features=96, bias=True)\n",
       "            (proj_drop): Dropout(p=0.0, inplace=False)\n",
       "            (softmax): Softmax(dim=-1)\n",
       "          )\n",
       "          (drop_path): DropPath(drop_prob=0.009)\n",
       "          (norm2): LayerNorm((96,), eps=1e-05, elementwise_affine=True)\n",
       "          (mlp): Mlp(\n",
       "            (fc1): Linear(in_features=96, out_features=384, bias=True)\n",
       "            (act): GELU(approximate=none)\n",
       "            (fc2): Linear(in_features=384, out_features=96, bias=True)\n",
       "            (drop): Dropout(p=0.0, inplace=False)\n",
       "          )\n",
       "        )\n",
       "      )\n",
       "      (downsample): PatchMerging(\n",
       "        input_resolution=(56, 56), dim=96\n",
       "        (reduction): Linear(in_features=384, out_features=192, bias=False)\n",
       "        (norm): LayerNorm((384,), eps=1e-05, elementwise_affine=True)\n",
       "      )\n",
       "    )\n",
       "    (1): BasicLayer(\n",
       "      dim=192, input_resolution=(28, 28), depth=2\n",
       "      (blocks): ModuleList(\n",
       "        (0): SwinTransformerBlock(\n",
       "          dim=192, input_resolution=(28, 28), num_heads=6, window_size=7, shift_size=0, mlp_ratio=4.0\n",
       "          (norm1): LayerNorm((192,), eps=1e-05, elementwise_affine=True)\n",
       "          (attn): WindowAttention(\n",
       "            dim=192, window_size=(7, 7), num_heads=6\n",
       "            (qkv): Linear(in_features=192, out_features=576, bias=True)\n",
       "            (attn_drop): Dropout(p=0.0, inplace=False)\n",
       "            (proj): Linear(in_features=192, out_features=192, bias=True)\n",
       "            (proj_drop): Dropout(p=0.0, inplace=False)\n",
       "            (softmax): Softmax(dim=-1)\n",
       "          )\n",
       "          (drop_path): DropPath(drop_prob=0.018)\n",
       "          (norm2): LayerNorm((192,), eps=1e-05, elementwise_affine=True)\n",
       "          (mlp): Mlp(\n",
       "            (fc1): Linear(in_features=192, out_features=768, bias=True)\n",
       "            (act): GELU(approximate=none)\n",
       "            (fc2): Linear(in_features=768, out_features=192, bias=True)\n",
       "            (drop): Dropout(p=0.0, inplace=False)\n",
       "          )\n",
       "        )\n",
       "        (1): SwinTransformerBlock(\n",
       "          dim=192, input_resolution=(28, 28), num_heads=6, window_size=7, shift_size=3, mlp_ratio=4.0\n",
       "          (norm1): LayerNorm((192,), eps=1e-05, elementwise_affine=True)\n",
       "          (attn): WindowAttention(\n",
       "            dim=192, window_size=(7, 7), num_heads=6\n",
       "            (qkv): Linear(in_features=192, out_features=576, bias=True)\n",
       "            (attn_drop): Dropout(p=0.0, inplace=False)\n",
       "            (proj): Linear(in_features=192, out_features=192, bias=True)\n",
       "            (proj_drop): Dropout(p=0.0, inplace=False)\n",
       "            (softmax): Softmax(dim=-1)\n",
       "          )\n",
       "          (drop_path): DropPath(drop_prob=0.027)\n",
       "          (norm2): LayerNorm((192,), eps=1e-05, elementwise_affine=True)\n",
       "          (mlp): Mlp(\n",
       "            (fc1): Linear(in_features=192, out_features=768, bias=True)\n",
       "            (act): GELU(approximate=none)\n",
       "            (fc2): Linear(in_features=768, out_features=192, bias=True)\n",
       "            (drop): Dropout(p=0.0, inplace=False)\n",
       "          )\n",
       "        )\n",
       "      )\n",
       "      (downsample): PatchMerging(\n",
       "        input_resolution=(28, 28), dim=192\n",
       "        (reduction): Linear(in_features=768, out_features=384, bias=False)\n",
       "        (norm): LayerNorm((768,), eps=1e-05, elementwise_affine=True)\n",
       "      )\n",
       "    )\n",
       "    (2): BasicLayer(\n",
       "      dim=384, input_resolution=(14, 14), depth=6\n",
       "      (blocks): ModuleList(\n",
       "        (0): SwinTransformerBlock(\n",
       "          dim=384, input_resolution=(14, 14), num_heads=12, window_size=7, shift_size=0, mlp_ratio=4.0\n",
       "          (norm1): LayerNorm((384,), eps=1e-05, elementwise_affine=True)\n",
       "          (attn): WindowAttention(\n",
       "            dim=384, window_size=(7, 7), num_heads=12\n",
       "            (qkv): Linear(in_features=384, out_features=1152, bias=True)\n",
       "            (attn_drop): Dropout(p=0.0, inplace=False)\n",
       "            (proj): Linear(in_features=384, out_features=384, bias=True)\n",
       "            (proj_drop): Dropout(p=0.0, inplace=False)\n",
       "            (softmax): Softmax(dim=-1)\n",
       "          )\n",
       "          (drop_path): DropPath(drop_prob=0.036)\n",
       "          (norm2): LayerNorm((384,), eps=1e-05, elementwise_affine=True)\n",
       "          (mlp): Mlp(\n",
       "            (fc1): Linear(in_features=384, out_features=1536, bias=True)\n",
       "            (act): GELU(approximate=none)\n",
       "            (fc2): Linear(in_features=1536, out_features=384, bias=True)\n",
       "            (drop): Dropout(p=0.0, inplace=False)\n",
       "          )\n",
       "        )\n",
       "        (1): SwinTransformerBlock(\n",
       "          dim=384, input_resolution=(14, 14), num_heads=12, window_size=7, shift_size=3, mlp_ratio=4.0\n",
       "          (norm1): LayerNorm((384,), eps=1e-05, elementwise_affine=True)\n",
       "          (attn): WindowAttention(\n",
       "            dim=384, window_size=(7, 7), num_heads=12\n",
       "            (qkv): Linear(in_features=384, out_features=1152, bias=True)\n",
       "            (attn_drop): Dropout(p=0.0, inplace=False)\n",
       "            (proj): Linear(in_features=384, out_features=384, bias=True)\n",
       "            (proj_drop): Dropout(p=0.0, inplace=False)\n",
       "            (softmax): Softmax(dim=-1)\n",
       "          )\n",
       "          (drop_path): DropPath(drop_prob=0.045)\n",
       "          (norm2): LayerNorm((384,), eps=1e-05, elementwise_affine=True)\n",
       "          (mlp): Mlp(\n",
       "            (fc1): Linear(in_features=384, out_features=1536, bias=True)\n",
       "            (act): GELU(approximate=none)\n",
       "            (fc2): Linear(in_features=1536, out_features=384, bias=True)\n",
       "            (drop): Dropout(p=0.0, inplace=False)\n",
       "          )\n",
       "        )\n",
       "        (2): SwinTransformerBlock(\n",
       "          dim=384, input_resolution=(14, 14), num_heads=12, window_size=7, shift_size=0, mlp_ratio=4.0\n",
       "          (norm1): LayerNorm((384,), eps=1e-05, elementwise_affine=True)\n",
       "          (attn): WindowAttention(\n",
       "            dim=384, window_size=(7, 7), num_heads=12\n",
       "            (qkv): Linear(in_features=384, out_features=1152, bias=True)\n",
       "            (attn_drop): Dropout(p=0.0, inplace=False)\n",
       "            (proj): Linear(in_features=384, out_features=384, bias=True)\n",
       "            (proj_drop): Dropout(p=0.0, inplace=False)\n",
       "            (softmax): Softmax(dim=-1)\n",
       "          )\n",
       "          (drop_path): DropPath(drop_prob=0.055)\n",
       "          (norm2): LayerNorm((384,), eps=1e-05, elementwise_affine=True)\n",
       "          (mlp): Mlp(\n",
       "            (fc1): Linear(in_features=384, out_features=1536, bias=True)\n",
       "            (act): GELU(approximate=none)\n",
       "            (fc2): Linear(in_features=1536, out_features=384, bias=True)\n",
       "            (drop): Dropout(p=0.0, inplace=False)\n",
       "          )\n",
       "        )\n",
       "        (3): SwinTransformerBlock(\n",
       "          dim=384, input_resolution=(14, 14), num_heads=12, window_size=7, shift_size=3, mlp_ratio=4.0\n",
       "          (norm1): LayerNorm((384,), eps=1e-05, elementwise_affine=True)\n",
       "          (attn): WindowAttention(\n",
       "            dim=384, window_size=(7, 7), num_heads=12\n",
       "            (qkv): Linear(in_features=384, out_features=1152, bias=True)\n",
       "            (attn_drop): Dropout(p=0.0, inplace=False)\n",
       "            (proj): Linear(in_features=384, out_features=384, bias=True)\n",
       "            (proj_drop): Dropout(p=0.0, inplace=False)\n",
       "            (softmax): Softmax(dim=-1)\n",
       "          )\n",
       "          (drop_path): DropPath(drop_prob=0.064)\n",
       "          (norm2): LayerNorm((384,), eps=1e-05, elementwise_affine=True)\n",
       "          (mlp): Mlp(\n",
       "            (fc1): Linear(in_features=384, out_features=1536, bias=True)\n",
       "            (act): GELU(approximate=none)\n",
       "            (fc2): Linear(in_features=1536, out_features=384, bias=True)\n",
       "            (drop): Dropout(p=0.0, inplace=False)\n",
       "          )\n",
       "        )\n",
       "        (4): SwinTransformerBlock(\n",
       "          dim=384, input_resolution=(14, 14), num_heads=12, window_size=7, shift_size=0, mlp_ratio=4.0\n",
       "          (norm1): LayerNorm((384,), eps=1e-05, elementwise_affine=True)\n",
       "          (attn): WindowAttention(\n",
       "            dim=384, window_size=(7, 7), num_heads=12\n",
       "            (qkv): Linear(in_features=384, out_features=1152, bias=True)\n",
       "            (attn_drop): Dropout(p=0.0, inplace=False)\n",
       "            (proj): Linear(in_features=384, out_features=384, bias=True)\n",
       "            (proj_drop): Dropout(p=0.0, inplace=False)\n",
       "            (softmax): Softmax(dim=-1)\n",
       "          )\n",
       "          (drop_path): DropPath(drop_prob=0.073)\n",
       "          (norm2): LayerNorm((384,), eps=1e-05, elementwise_affine=True)\n",
       "          (mlp): Mlp(\n",
       "            (fc1): Linear(in_features=384, out_features=1536, bias=True)\n",
       "            (act): GELU(approximate=none)\n",
       "            (fc2): Linear(in_features=1536, out_features=384, bias=True)\n",
       "            (drop): Dropout(p=0.0, inplace=False)\n",
       "          )\n",
       "        )\n",
       "        (5): SwinTransformerBlock(\n",
       "          dim=384, input_resolution=(14, 14), num_heads=12, window_size=7, shift_size=3, mlp_ratio=4.0\n",
       "          (norm1): LayerNorm((384,), eps=1e-05, elementwise_affine=True)\n",
       "          (attn): WindowAttention(\n",
       "            dim=384, window_size=(7, 7), num_heads=12\n",
       "            (qkv): Linear(in_features=384, out_features=1152, bias=True)\n",
       "            (attn_drop): Dropout(p=0.0, inplace=False)\n",
       "            (proj): Linear(in_features=384, out_features=384, bias=True)\n",
       "            (proj_drop): Dropout(p=0.0, inplace=False)\n",
       "            (softmax): Softmax(dim=-1)\n",
       "          )\n",
       "          (drop_path): DropPath(drop_prob=0.082)\n",
       "          (norm2): LayerNorm((384,), eps=1e-05, elementwise_affine=True)\n",
       "          (mlp): Mlp(\n",
       "            (fc1): Linear(in_features=384, out_features=1536, bias=True)\n",
       "            (act): GELU(approximate=none)\n",
       "            (fc2): Linear(in_features=1536, out_features=384, bias=True)\n",
       "            (drop): Dropout(p=0.0, inplace=False)\n",
       "          )\n",
       "        )\n",
       "      )\n",
       "      (downsample): PatchMerging(\n",
       "        input_resolution=(14, 14), dim=384\n",
       "        (reduction): Linear(in_features=1536, out_features=768, bias=False)\n",
       "        (norm): LayerNorm((1536,), eps=1e-05, elementwise_affine=True)\n",
       "      )\n",
       "    )\n",
       "    (3): BasicLayer(\n",
       "      dim=768, input_resolution=(7, 7), depth=2\n",
       "      (blocks): ModuleList(\n",
       "        (0): SwinTransformerBlock(\n",
       "          dim=768, input_resolution=(7, 7), num_heads=24, window_size=7, shift_size=0, mlp_ratio=4.0\n",
       "          (norm1): LayerNorm((768,), eps=1e-05, elementwise_affine=True)\n",
       "          (attn): WindowAttention(\n",
       "            dim=768, window_size=(7, 7), num_heads=24\n",
       "            (qkv): Linear(in_features=768, out_features=2304, bias=True)\n",
       "            (attn_drop): Dropout(p=0.0, inplace=False)\n",
       "            (proj): Linear(in_features=768, out_features=768, bias=True)\n",
       "            (proj_drop): Dropout(p=0.0, inplace=False)\n",
       "            (softmax): Softmax(dim=-1)\n",
       "          )\n",
       "          (drop_path): DropPath(drop_prob=0.091)\n",
       "          (norm2): LayerNorm((768,), eps=1e-05, elementwise_affine=True)\n",
       "          (mlp): Mlp(\n",
       "            (fc1): Linear(in_features=768, out_features=3072, bias=True)\n",
       "            (act): GELU(approximate=none)\n",
       "            (fc2): Linear(in_features=3072, out_features=768, bias=True)\n",
       "            (drop): Dropout(p=0.0, inplace=False)\n",
       "          )\n",
       "        )\n",
       "        (1): SwinTransformerBlock(\n",
       "          dim=768, input_resolution=(7, 7), num_heads=24, window_size=7, shift_size=0, mlp_ratio=4.0\n",
       "          (norm1): LayerNorm((768,), eps=1e-05, elementwise_affine=True)\n",
       "          (attn): WindowAttention(\n",
       "            dim=768, window_size=(7, 7), num_heads=24\n",
       "            (qkv): Linear(in_features=768, out_features=2304, bias=True)\n",
       "            (attn_drop): Dropout(p=0.0, inplace=False)\n",
       "            (proj): Linear(in_features=768, out_features=768, bias=True)\n",
       "            (proj_drop): Dropout(p=0.0, inplace=False)\n",
       "            (softmax): Softmax(dim=-1)\n",
       "          )\n",
       "          (drop_path): DropPath(drop_prob=0.100)\n",
       "          (norm2): LayerNorm((768,), eps=1e-05, elementwise_affine=True)\n",
       "          (mlp): Mlp(\n",
       "            (fc1): Linear(in_features=768, out_features=3072, bias=True)\n",
       "            (act): GELU(approximate=none)\n",
       "            (fc2): Linear(in_features=3072, out_features=768, bias=True)\n",
       "            (drop): Dropout(p=0.0, inplace=False)\n",
       "          )\n",
       "        )\n",
       "      )\n",
       "    )\n",
       "  )\n",
       "  (norm): LayerNorm((768,), eps=1e-05, elementwise_affine=True)\n",
       "  (avgpool): AdaptiveAvgPool1d(output_size=1)\n",
       "  (head): Linear(in_features=768, out_features=1000, bias=True)\n",
       ")"
      ]
     },
     "execution_count": 10,
     "metadata": {},
     "output_type": "execute_result"
    }
   ],
   "source": [
    "model = to_device(swin_tiny_patch4_window7_224, device)\n",
    "model"
   ]
  },
  {
   "cell_type": "code",
   "execution_count": 11,
   "id": "3531cbc8",
   "metadata": {
    "id": "3531cbc8"
   },
   "outputs": [],
   "source": [
    "from sklearn.metrics import precision_recall_fscore_support\n",
    "\n",
    "device = torch.device('cuda' if torch.cuda.is_available() else 'cpu')\n",
    "def training_step(criterion, model,batch):\n",
    "    images, labels = batch \n",
    "    out = model(images)                  # Generate predictions\n",
    "    loss = criterion(out, labels)  # criterion is already to device GPU\n",
    "    return loss\n",
    "\n",
    "def validation_step(criterion, model,batch):\n",
    "    images, labels = batch \n",
    "    out = model(images)                    # Generate predictions\n",
    "    loss = criterion(out, labels)   # Calculate loss\n",
    "    \n",
    "#     ---------------- why here acc not to(device)\n",
    "    acc = accuracy(out, labels)           # Calculate accuracy (return a tensor)\n",
    "    \n",
    "#     ------------------- calculate fscore for each batch ----------------\n",
    "    _, y_preds = torch.max(out, dim=1)    \n",
    "    threeMetrics = precision_recall_fscore_support(torch.Tensor.cpu(labels), torch.Tensor.cpu(y_preds), average=None,labels=[i for i in range(7)])\n",
    "    fscore = torch.tensor(threeMetrics[2]) # fscore (return a tensor of a list: tensor([1,2,3]))\n",
    "    \n",
    "    return {'val_loss': loss.detach(), 'val_acc': acc, 'val_fscore': fscore}\n",
    "    \n",
    "def validation_epoch_end(outputs):\n",
    "    batch_losses = [x['val_loss'] for x in outputs] \n",
    "    epoch_loss = torch.stack(batch_losses).mean()   # Combine losses (mean loss for n batches)\n",
    "    \n",
    "    batch_accs = [x['val_acc'] for x in outputs]   # [ each element is a tensor ]\n",
    "    epoch_acc = torch.stack(batch_accs).mean()      # Combine accuracies (mean acc for n batches)\n",
    "    \n",
    "    batch_fscores = [x['val_fscore'] for x in outputs] \n",
    "    epoch_fscore = torch.stack(batch_fscores).mean(0)\n",
    "    \n",
    "    return {'val_loss': epoch_loss.item(), 'val_acc': epoch_acc.item(), 'val_fscore': epoch_fscore.tolist()}\n",
    "\n",
    "def epoch_end(epoch, result):\n",
    "    print(\"Epoch [{}], train_loss: {:.4f}, val_loss: {:.4f}, val_acc: {:.4f}, val_fscore: {} \".format(\n",
    "        epoch, result['train_loss'], result['val_loss'], result['val_acc'], result['val_fscore']))"
   ]
  },
  {
   "cell_type": "code",
   "execution_count": 12,
   "id": "2b37f095",
   "metadata": {
    "id": "2b37f095"
   },
   "outputs": [],
   "source": [
    "criterion = LabelSmoothingCrossEntropy(smoothing=0.1)\n",
    "criterion = criterion.to(device)\n",
    "# optimizer = torch.optim.AdamW(model.parameters(), lr=0.001)\n",
    "optimizer = torch.optim.AdamW(model.parameters(), lr=5e-4, weight_decay=0.05)"
   ]
  },
  {
   "cell_type": "code",
   "execution_count": 13,
   "id": "2c06ebd3",
   "metadata": {
    "id": "2c06ebd3"
   },
   "outputs": [],
   "source": [
    "@torch.no_grad()\n",
    "def evaluate(criterion, model, val_loader):\n",
    "    model.eval()\n",
    "    outputs = [validation_step(criterion, model, batch) for batch in val_loader]\n",
    "    return validation_epoch_end(outputs)\n",
    "\n",
    "def fit_one_cycle(num_epochs, model, train_loader, val_loader, optimizer, criterion):\n",
    "    torch.cuda.empty_cache()\n",
    "    history = []\n",
    "  \n",
    "\n",
    "\n",
    "    # sched = torch.optim.lr_scheduler.StepLR(optimizer, step_size=3, gamma=0.97)\n",
    "    sched = torch.optim.lr_scheduler.CosineAnnealingLR(optimizer, T_max=10, eta_min=5e-6, last_epoch=- 1, verbose=False)\n",
    "    \n",
    "    for epoch in range(num_epochs):\n",
    "        # Training Phase \n",
    "        model.train()\n",
    "        train_losses = []\n",
    "        for batch in train_loader:\n",
    "            loss = training_step(criterion,model,batch)\n",
    "            train_losses.append(loss)\n",
    "            loss.backward()\n",
    "            \n",
    "#             # Gradient clipping\n",
    "#             if grad_clip: \n",
    "#                 nn.utils.clip_grad_value_(model.parameters(), grad_clip)\n",
    "            \n",
    "            optimizer.step()\n",
    "            optimizer.zero_grad()\n",
    "            \n",
    "        # Validation phase\n",
    "        result = evaluate(criterion, model, val_loader)\n",
    "        result['train_loss'] = torch.stack(train_losses).mean().item()\n",
    "        epoch_end(epoch, result)\n",
    "        history.append(result)\n",
    "    return history"
   ]
  },
  {
   "cell_type": "code",
   "execution_count": 14,
   "id": "Ew-bhVRXKf-d",
   "metadata": {
    "id": "Ew-bhVRXKf-d"
   },
   "outputs": [],
   "source": [
    "# remove warnings\n",
    "import warnings\n",
    "warnings.filterwarnings(\"ignore\")"
   ]
  },
  {
   "cell_type": "code",
   "execution_count": 15,
   "id": "836a5eed",
   "metadata": {
    "colab": {
     "base_uri": "https://localhost:8080/"
    },
    "executionInfo": {
     "elapsed": 64202,
     "status": "ok",
     "timestamp": 1660006557354,
     "user": {
      "displayName": "JUJIE YANG",
      "userId": "07067934053918991332"
     },
     "user_tz": -60
    },
    "id": "836a5eed",
    "outputId": "2162b92f-d84c-495a-8b1e-6b47cfe7834a"
   },
   "outputs": [
    {
     "data": {
      "text/plain": [
       "[{'val_loss': 6.018776893615723,\n",
       "  'val_acc': 0.008037860505282879,\n",
       "  'val_fscore': [0.0, 0.0, 0.0, 0.0, 0.0, 0.022915805634593882, 0.0]}]"
      ]
     },
     "execution_count": 15,
     "metadata": {},
     "output_type": "execute_result"
    }
   ],
   "source": [
    "history = [evaluate(criterion, model, valid_dl)]\n",
    "history"
   ]
  },
  {
   "cell_type": "code",
   "execution_count": 16,
   "id": "8818ba88",
   "metadata": {
    "id": "8818ba88",
    "outputId": "71308509-38fc-4932-9fba-507c53d0a2c2"
   },
   "outputs": [
    {
     "name": "stdout",
     "output_type": "stream",
     "text": [
      "Epoch [0], train_loss: 1.9932, val_loss: 1.7090, val_acc: 0.7212, val_fscore: [0.0, 0.0, 0.40546120546120545, 0.0, 0.125, 0.8519531186423686, 0.0] \n",
      "Epoch [1], train_loss: 1.7809, val_loss: 1.7068, val_acc: 0.7271, val_fscore: [0.09642857142857145, 0.3676767676767677, 0.42368400989428034, 0.0, 0.39846951435661115, 0.8723854507089229, 0.0] \n",
      "Epoch [2], train_loss: 1.6943, val_loss: 1.6291, val_acc: 0.7714, val_fscore: [0.4264159451659452, 0.6181818181818182, 0.4951789483696917, 0.0, 0.15326266870384517, 0.8881299397212172, 0.0] \n",
      "Epoch [3], train_loss: 1.6480, val_loss: 1.5797, val_acc: 0.7714, val_fscore: [0.18392857142857144, 0.5863607883344726, 0.4792995746943115, 0.0, 0.3713612943270367, 0.8799580220363352, 0.16666666666666666] \n"
     ]
    }
   ],
   "source": [
    "num_epochs=4\n",
    "history += fit_one_cycle(num_epochs, model, train_dl, valid_dl, optimizer, criterion)"
   ]
  },
  {
   "cell_type": "code",
   "execution_count": 23,
   "id": "b2ee5040",
   "metadata": {
    "id": "b2ee5040",
    "outputId": "909eef2d-be5a-4624-b744-56d8f6ac42d9"
   },
   "outputs": [
    {
     "name": "stdout",
     "output_type": "stream",
     "text": [
      "Epoch [0], train_loss: 1.5966, val_loss: 1.5279, val_acc: 0.7920, val_fscore: [0.41986832611832614, 0.5947838345864662, 0.5498793768955059, 0.0, 0.49197989510489504, 0.9083892768620327, 0.5166666666666666] \n",
      "Epoch [1], train_loss: 1.5516, val_loss: 1.5518, val_acc: 0.7909, val_fscore: [0.23194444444444445, 0.6687770562770563, 0.541719887464102, 0.21666666666666667, 0.08269230769230769, 0.8995371974728011, 0.6416666666666666] \n",
      "Epoch [2], train_loss: 1.5229, val_loss: 1.5069, val_acc: 0.7936, val_fscore: [0.35000000000000003, 0.6787448662448662, 0.5458188819744884, 0.08333333333333333, 0.2210196666079019, 0.9015351757256048, 0.6821428571428572] \n",
      "Epoch [3], train_loss: 1.5055, val_loss: 1.5238, val_acc: 0.8029, val_fscore: [0.45211038961038963, 0.4797008547008547, 0.5928684771083226, 0.0, 0.3865744087783562, 0.8990627646888427, 0.6583333333333333] \n"
     ]
    }
   ],
   "source": [
    "num_epochs=4\n",
    "history += fit_one_cycle(num_epochs, model, train_dl, valid_dl, optimizer, criterion)"
   ]
  },
  {
   "cell_type": "code",
   "execution_count": 24,
   "id": "7f51a38f",
   "metadata": {
    "id": "7f51a38f",
    "outputId": "69bc61f9-69b5-4fdb-c35f-6816f249a4eb"
   },
   "outputs": [
    {
     "name": "stdout",
     "output_type": "stream",
     "text": [
      "Epoch [0], train_loss: 1.4892, val_loss: 1.4329, val_acc: 0.8229, val_fscore: [0.5369047619047619, 0.7040334665334664, 0.5884721169634963, 0.44047619047619047, 0.4763034067381894, 0.9199782930559192, 0.6666666666666666] \n",
      "Epoch [1], train_loss: 1.4493, val_loss: 1.4865, val_acc: 0.8185, val_fscore: [0.2755952380952381, 0.696199552081905, 0.5471780695150261, 0.5863095238095237, 0.5261695316333608, 0.9200998200148296, 0.6875] \n",
      "Epoch [2], train_loss: 1.4636, val_loss: 1.4506, val_acc: 0.8260, val_fscore: [0.37678571428571433, 0.7357637620265497, 0.6402000712565727, 0.31547619047619047, 0.26194718271924156, 0.9226962352117398, 0.725] \n",
      "Epoch [3], train_loss: 1.4219, val_loss: 1.4980, val_acc: 0.8043, val_fscore: [0.17500000000000004, 0.6994365928189458, 0.43475218710672675, 0.29166666666666663, 0.41479786422578185, 0.9106354224783724, 0.7208333333333333] \n"
     ]
    }
   ],
   "source": [
    "num_epochs=4\n",
    "history += fit_one_cycle(num_epochs, model, train_dl, valid_dl, optimizer, criterion)"
   ]
  },
  {
   "cell_type": "code",
   "execution_count": 25,
   "id": "f81901cf",
   "metadata": {},
   "outputs": [
    {
     "name": "stdout",
     "output_type": "stream",
     "text": [
      "Epoch [0], train_loss: 1.4072, val_loss: 1.4555, val_acc: 0.8093, val_fscore: [0.12142857142857144, 0.6946969696969697, 0.6209588928584138, 0.44791666666666663, 0.5512418178366454, 0.9162722747307509, 0.6833333333333333] \n",
      "Epoch [1], train_loss: 1.3884, val_loss: 1.4343, val_acc: 0.8492, val_fscore: [0.35925324675324677, 0.7010599055675784, 0.6877909836970629, 0.31547619047619047, 0.633298060146608, 0.9312014212897701, 0.6583333333333333] \n",
      "Epoch [2], train_loss: 1.3751, val_loss: 1.5193, val_acc: 0.8080, val_fscore: [0.46249999999999997, 0.6741341991341991, 0.5447426842163684, 0.2738095238095238, 0.2620360644257703, 0.9052975750134501, 0.6666666666666666] \n",
      "Epoch [3], train_loss: 1.3691, val_loss: 1.5065, val_acc: 0.8056, val_fscore: [0.39355158730158735, 0.4557720057720058, 0.6121714249712751, 0.3694444444444444, 0.4628755503755504, 0.9160723335338048, 0.6875] \n"
     ]
    }
   ],
   "source": [
    "num_epochs=4\n",
    "history += fit_one_cycle(num_epochs, model, train_dl, valid_dl, optimizer, criterion)"
   ]
  },
  {
   "cell_type": "code",
   "execution_count": 26,
   "id": "72fdc3b5",
   "metadata": {},
   "outputs": [
    {
     "name": "stdout",
     "output_type": "stream",
     "text": [
      "Epoch [0], train_loss: 1.3535, val_loss: 1.4244, val_acc: 0.8276, val_fscore: [0.4912927350427351, 0.6919817927170869, 0.6173028987957002, 0.31547619047619047, 0.42527188359568224, 0.9222567410112417, 0.6416666666666666] \n",
      "Epoch [1], train_loss: 1.3429, val_loss: 1.4488, val_acc: 0.8305, val_fscore: [0.29972943722943723, 0.7397528077376476, 0.6220195814529431, 0.175, 0.4520467277820219, 0.9181857039906678, 0.6125] \n"
     ]
    }
   ],
   "source": [
    "num_epochs=2\n",
    "history += fit_one_cycle(num_epochs, model, train_dl, valid_dl, optimizer, criterion)"
   ]
  },
  {
   "cell_type": "code",
   "execution_count": 27,
   "id": "bc81d8eb",
   "metadata": {},
   "outputs": [
    {
     "name": "stdout",
     "output_type": "stream",
     "text": [
      "Epoch [0], train_loss: 1.3225, val_loss: 1.4268, val_acc: 0.8321, val_fscore: [0.478968253968254, 0.6983088558216436, 0.6547764205234494, 0.3902777777777777, 0.4458610123891454, 0.9212816331475863, 0.7041666666666666] \n",
      "Epoch [1], train_loss: 1.3178, val_loss: 1.4735, val_acc: 0.8212, val_fscore: [0.2785714285714286, 0.645076098365572, 0.5856977789722355, 0.28125, 0.5448757954478778, 0.9222223615282554, 0.6208333333333333] \n"
     ]
    }
   ],
   "source": [
    "num_epochs=2\n",
    "history += fit_one_cycle(num_epochs, model, train_dl, valid_dl, optimizer, criterion)"
   ]
  },
  {
   "cell_type": "code",
   "execution_count": 28,
   "id": "ddcb09c5",
   "metadata": {
    "id": "ddcb09c5"
   },
   "outputs": [],
   "source": [
    "# torch.save(model.state_dict(), 'deit_tiny_patch16_224.pth')\n",
    "torch.save(model.state_dict(), '../../kaggle/ubuntu_save_model/ubuntu_sourceCode_size91_swin_tiny_patch4_window7_224.pth')"
   ]
  },
  {
   "cell_type": "code",
   "execution_count": 29,
   "id": "be280df2",
   "metadata": {
    "id": "be280df2"
   },
   "outputs": [],
   "source": [
    "def plot_accuracies(history):\n",
    "    accuracies = [x['val_acc'] for x in history]\n",
    "    plt.plot(accuracies, '-x')\n",
    "    plt.xlabel('epoch')\n",
    "    plt.ylabel('accuracy')\n",
    "    plt.title('Accuracy vs. No. of epochs')\n",
    "def plot_losses(history):\n",
    "    train_losses = [x.get('train_loss') for x in history]\n",
    "    val_losses = [x['val_loss'] for x in history]\n",
    "    plt.plot(train_losses, '-bx')\n",
    "    plt.plot(val_losses, '-rx')\n",
    "    plt.xlabel('epoch')\n",
    "    plt.ylabel('loss')\n",
    "    plt.legend(['Training', 'Validation'])\n",
    "    plt.title('Loss vs. No. of epochs')"
   ]
  },
  {
   "cell_type": "code",
   "execution_count": 30,
   "id": "90844238",
   "metadata": {
    "colab": {
     "base_uri": "https://localhost:8080/",
     "height": 295
    },
    "executionInfo": {
     "elapsed": 511,
     "status": "ok",
     "timestamp": 1660011034758,
     "user": {
      "displayName": "JUJIE YANG",
      "userId": "07067934053918991332"
     },
     "user_tz": -60
    },
    "id": "90844238",
    "outputId": "9fddeef6-e0df-4816-daa0-61cc00b6eabb"
   },
   "outputs": [
    {
     "data": {
      "image/png": "[encoded data removed]",
      "text/plain": [
       "<Figure size 432x288 with 1 Axes>"
      ]
     },
     "metadata": {
      "needs_background": "light"
     },
     "output_type": "display_data"
    }
   ],
   "source": [
    "plot_accuracies(history)"
   ]
  },
  {
   "cell_type": "code",
   "execution_count": 31,
   "id": "7056b789",
   "metadata": {
    "colab": {
     "base_uri": "https://localhost:8080/",
     "height": 295
    },
    "executionInfo": {
     "elapsed": 16,
     "status": "ok",
     "timestamp": 1660011034759,
     "user": {
      "displayName": "JUJIE YANG",
      "userId": "07067934053918991332"
     },
     "user_tz": -60
    },
    "id": "7056b789",
    "outputId": "eb9ba2bf-0088-4a19-845e-2730a747c4d5"
   },
   "outputs": [
    {
     "data": {
      "image/png": "[encoded data removed]",
      "text/plain": [
       "<Figure size 432x288 with 1 Axes>"
      ]
     },
     "metadata": {
      "needs_background": "light"
     },
     "output_type": "display_data"
    }
   ],
   "source": [
    "plot_losses(history)"
   ]
  },
  {
   "cell_type": "code",
   "execution_count": null,
   "id": "AcL5DHLOJje0",
   "metadata": {
    "id": "AcL5DHLOJje0"
   },
   "outputs": [],
   "source": []
  }
 ],
 "metadata": {
  "accelerator": "GPU",
  "colab": {
   "collapsed_sections": [],
   "name": "ubuntu_sourceCode_size91_swin_tiny_patch4_window7_224.ipynb",
   "provenance": [
    {
     "file_id": "1bwApTqQr727UA55rWHILoPvxHxId8i2e",
     "timestamp": 1659997934941
    },
    {
     "file_id": "1NcFIoMe4Q5F4jPW8PWv7RY93EF-oi2Me",
     "timestamp": 1658701827649
    }
   ]
  },
  "gpuClass": "standard",
  "kernelspec": {
   "display_name": "Python 3 (ipykernel)",
   "language": "python",
   "name": "python3"
  },
  "language_info": {
   "codemirror_mode": {
    "name": "ipython",
    "version": 3
   },
   "file_extension": ".py",
   "mimetype": "text/x-python",
   "name": "python",
   "nbconvert_exporter": "python",
   "pygments_lexer": "ipython3",
   "version": "3.9.12"
  },
  "papermill": {
   "default_parameters": {},
   "duration": 4365.069848,
   "end_time": "2022-07-11T18:36:24.839486",
   "environment_variables": {},
   "exception": null,
   "input_path": "__notebook__.ipynb",
   "output_path": "__notebook__.ipynb",
   "parameters": {},
   "start_time": "2022-07-11T17:23:39.769638",
   "version": "2.3.4"
  }
 },
 "nbformat": 4,
 "nbformat_minor": 5
}
