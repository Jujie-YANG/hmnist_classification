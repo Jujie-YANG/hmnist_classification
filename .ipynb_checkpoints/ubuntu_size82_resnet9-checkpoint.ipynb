{
 "cells": [
  {
   "cell_type": "code",
   "execution_count": 1,
   "id": "yP993Y2O1zc4",
   "metadata": {
    "colab": {
     "base_uri": "https://localhost:8080/"
    },
    "executionInfo": {
     "elapsed": 404,
     "status": "ok",
     "timestamp": 1658167134807,
     "user": {
      "displayName": "JUJIE YANG",
      "userId": "07067934053918991332"
     },
     "user_tz": -60
    },
    "id": "yP993Y2O1zc4",
    "outputId": "daf14788-df85-46c8-ed2b-aaaf39888116"
   },
   "outputs": [
    {
     "name": "stdout",
     "output_type": "stream",
     "text": [
      "True\n",
      "1\n",
      "0\n",
      "<torch.cuda.device object at 0x7efed86b90a0>\n",
      "NVIDIA GeForce RTX 3090\n"
     ]
    }
   ],
   "source": [
    "import torch\n",
    "print(torch.cuda.is_available())\n",
    "print(torch.cuda.device_count())\n",
    "print(torch.cuda.current_device())\n",
    "print(torch.cuda.device(0))\n",
    "print(torch.cuda.get_device_name(0))"
   ]
  },
  {
   "cell_type": "code",
   "execution_count": 2,
   "id": "aNgDRMXiQHwM",
   "metadata": {
    "colab": {
     "base_uri": "https://localhost:8080/"
    },
    "executionInfo": {
     "elapsed": 5148,
     "status": "ok",
     "timestamp": 1658167140393,
     "user": {
      "displayName": "JUJIE YANG",
      "userId": "07067934053918991332"
     },
     "user_tz": -60
    },
    "id": "aNgDRMXiQHwM",
    "outputId": "673e9d03-df9f-4c0c-bffb-50e6630e6d91"
   },
   "outputs": [],
   "source": [
    "# from google.colab import drive\n",
    "# drive.mount('/content/drive', force_remount=True)"
   ]
  },
  {
   "cell_type": "code",
   "execution_count": 3,
   "id": "Mhnas8piQeXB",
   "metadata": {
    "colab": {
     "base_uri": "https://localhost:8080/"
    },
    "executionInfo": {
     "elapsed": 29,
     "status": "ok",
     "timestamp": 1658167140394,
     "user": {
      "displayName": "JUJIE YANG",
      "userId": "07067934053918991332"
     },
     "user_tz": -60
    },
    "id": "Mhnas8piQeXB",
    "outputId": "54ecf761-ff25-447c-e5ef-9e8ef043f9f3"
   },
   "outputs": [
    {
     "name": "stdout",
     "output_type": "stream",
     "text": [
      "ls: cannot access '/content/drive/MyDrive/kaggle/input': No such file or directory\r\n"
     ]
    }
   ],
   "source": [
    "!ls /content/drive/MyDrive/kaggle/input"
   ]
  },
  {
   "cell_type": "markdown",
   "id": "k1TYGLGzyI4S",
   "metadata": {
    "id": "k1TYGLGzyI4S"
   },
   "source": [
    "'dx' is short for diagnosis (for the patient)\n",
    "- 'nv': 'Melanocytic nevi'\n",
    "- 'mel': 'Melanoma'\n",
    "- 'bkl': 'Benign keratosis-like lesions'\n",
    "- 'bcc': 'Basal cell carcinoma'\n",
    "- 'akiec': 'Actinic keratoses'\n",
    "- 'vasc': 'Vascular lesions'\n",
    "- 'df': 'Dermatofibroma'\n",
    "\n",
    "'dx_type' is how the diagnosis was made. \n",
    "- histo        5340\n",
    "- follow_up    3704\n",
    "- consensus     902\n",
    "- confocal       69"
   ]
  },
  {
   "cell_type": "code",
   "execution_count": 4,
   "id": "62891232",
   "metadata": {
    "colab": {
     "base_uri": "https://localhost:8080/",
     "height": 206
    },
    "executionInfo": {
     "elapsed": 23,
     "status": "ok",
     "timestamp": 1658167140394,
     "user": {
      "displayName": "JUJIE YANG",
      "userId": "07067934053918991332"
     },
     "user_tz": -60
    },
    "id": "62891232",
    "outputId": "4515ca25-ec27-47a6-aa5b-ccf5847dbea0"
   },
   "outputs": [],
   "source": [
    "# import pandas as pd\n",
    "\n",
    "# # labels_path = \"../input/skin-cancer-mnist-ham10000/HAM10000_metadata.csv\"\n",
    "# labels_path = \"/content/drive/MyDrive/kaggle/input/HAM10000_metadata.csv\"\n",
    "# image_labels_df = pd.read_csv(labels_path)\n",
    "# image_labels_df.head()"
   ]
  },
  {
   "cell_type": "code",
   "execution_count": 5,
   "id": "1bbcf155",
   "metadata": {
    "colab": {
     "base_uri": "https://localhost:8080/",
     "height": 424
    },
    "executionInfo": {
     "elapsed": 21,
     "status": "ok",
     "timestamp": 1658167140394,
     "user": {
      "displayName": "JUJIE YANG",
      "userId": "07067934053918991332"
     },
     "user_tz": -60
    },
    "id": "1bbcf155",
    "outputId": "a167aa36-7163-4cb5-e9bc-92801a7f2b0b"
   },
   "outputs": [],
   "source": [
    "# image_labels_df.sort_values(by=\"image_id\")"
   ]
  },
  {
   "cell_type": "code",
   "execution_count": 6,
   "id": "d5f66cc2",
   "metadata": {
    "colab": {
     "base_uri": "https://localhost:8080/"
    },
    "executionInfo": {
     "elapsed": 21,
     "status": "ok",
     "timestamp": 1658167140394,
     "user": {
      "displayName": "JUJIE YANG",
      "userId": "07067934053918991332"
     },
     "user_tz": -60
    },
    "id": "d5f66cc2",
    "outputId": "947f95f9-ec4e-4d3a-c50b-cc1491683704"
   },
   "outputs": [],
   "source": [
    "# type(image_labels_df[\"image_id\"][0])\n"
   ]
  },
  {
   "cell_type": "code",
   "execution_count": 7,
   "id": "0e078efa",
   "metadata": {
    "id": "0e078efa"
   },
   "outputs": [],
   "source": [
    "import pandas as pd\n",
    "from torch.utils.data import Dataset\n",
    "import torchvision.transforms as transforms\n",
    "import matplotlib.pyplot as plt\n",
    "\n",
    "def disease_to_label(l):\n",
    "    if l == \"akiec\":\n",
    "        return 0\n",
    "    if l == \"bcc\":\n",
    "        return 1\n",
    "    if l == \"bkl\":\n",
    "        return 2\n",
    "    if l == \"df\":\n",
    "        return 3\n",
    "    if l == \"mel\":\n",
    "        return 4\n",
    "    if l == \"nv\":\n",
    "        return 5\n",
    "    if l == \"vasc\":\n",
    "        return 6 \n",
    "\n",
    "class SkinCancerDetection_train(Dataset):\n",
    "    \n",
    "    def __init__(self, train_path, csv, transform=None):\n",
    "        self.train_path = train_path\n",
    "        self.csv_path = csv\n",
    "        self.transform = transform\n",
    "    def __len__(self):\n",
    "        df = pd.read_csv(self.csv_path)\n",
    "        return (len(df.index))\n",
    "    def __getitem__(self, idx):\n",
    "        image_id = \"ISIC_00\" + str(idx+26306)\n",
    "        image_file_name = image_id + \".jpg\"\n",
    "        df = pd.read_csv(self.csv_path)\n",
    "        label = disease_to_label(str(df.loc[df['image_id'] == image_id, 'dx'].item()))\n",
    "        p = os.path.join(self.train_path, image_file_name)\n",
    "\n",
    "        img = plt.imread(p)\n",
    "\n",
    "\n",
    "        if self.transform:\n",
    "            img = self.transform(img)\n",
    "        \n",
    "        return img, label\n",
    "    \n",
    "class SkinCancerDetection_test(Dataset):\n",
    "    \n",
    "    def __init__(self, test_path, csv, transform=None):\n",
    "        self.test_path = test_path\n",
    "        self.csv_path = csv\n",
    "        self.transform = transform\n",
    "    def __len__(self):\n",
    "        df = pd.read_csv(self.csv_path)\n",
    "        return (len(df.index))\n",
    "    def __getitem__(self, idx):\n",
    "        image_id = \"ISIC_00\" + str(idx+24306)\n",
    "        image_file_name = image_id + \".jpg\"\n",
    "        df = pd.read_csv(self.csv_path)\n",
    "        label = disease_to_label(str(df.loc[df['image_id'] == image_id, 'dx'].item()))\n",
    "        \n",
    "        p = os.path.join(self.test_path, image_file_name)\n",
    "        \n",
    "        img = plt.imread(p)\n",
    "            \n",
    "        if self.transform:\n",
    "            img = self.transform(img)\n",
    "        \n",
    "        return img, label"
   ]
  },
  {
   "cell_type": "code",
   "execution_count": 8,
   "id": "57b148ce",
   "metadata": {
    "id": "57b148ce"
   },
   "outputs": [],
   "source": [
    "import timm\n",
    "train_transform = transforms.Compose([\n",
    "            transforms.ToPILImage(),\n",
    "            transforms.RandomHorizontalFlip(),\n",
    "            transforms.RandomVerticalFlip(),\n",
    "            transforms.RandomApply(torch.nn.ModuleList([transforms.ColorJitter()]), p=0.25),\n",
    "#             transforms.Resize(256),\n",
    "#             transforms.CenterCrop(224),\n",
    "            transforms.Resize((32,32)),\n",
    "            transforms.ToTensor(),\n",
    "            transforms.Normalize(timm.data.IMAGENET_DEFAULT_MEAN, timm.data.IMAGENET_DEFAULT_STD), # imagenet means\n",
    "            transforms.RandomErasing(p=0.1, value='random')\n",
    "        ])\n",
    "\n",
    "test_transform = transforms.Compose([\n",
    "    transforms.ToPILImage(),\n",
    "#     transforms.Resize(256),\n",
    "#     transforms.CenterCrop(224),\n",
    "    transforms.Resize((32,32)),\n",
    "    transforms.ToTensor(),\n",
    "    transforms.Normalize(timm.data.IMAGENET_DEFAULT_MEAN, timm.data.IMAGENET_DEFAULT_STD) # imagenet means\n",
    "])\n",
    "\n",
    "train_ds = SkinCancerDetection_train('../../kaggle/input/HAM10000_images_train_8000','../../kaggle/input/HAM10000_metadata_train_8000.csv',transform=train_transform)\n",
    "val_ds = SkinCancerDetection_test('../../kaggle/input/HAM10000_images_test_2000','../../kaggle/input/HAM10000_metadata_test_2000.csv',transform=test_transform)"
   ]
  },
  {
   "cell_type": "code",
   "execution_count": 9,
   "id": "b4b3cee6",
   "metadata": {
    "colab": {
     "base_uri": "https://localhost:8080/",
     "height": 284
    },
    "executionInfo": {
     "elapsed": 20,
     "status": "ok",
     "timestamp": 1658167140395,
     "user": {
      "displayName": "JUJIE YANG",
      "userId": "07067934053918991332"
     },
     "user_tz": -60
    },
    "id": "b4b3cee6",
    "outputId": "5ef30753-b5a0-4eb4-8f9c-cb14ca2278af"
   },
   "outputs": [],
   "source": [
    "# import pandas as pd\n",
    "# import os\n",
    "# idx = 0\n",
    "# image_id = \"ISIC_00\" + str(idx+24306)\n",
    "# image_file_name = image_id + \".jpg\"\n",
    "# # df = pd.read_csv('/kaggle/input/skin-cancer-mnist-ham10000/HAM10000_metadata.csv')\n",
    "# df = pd.read_csv('/content/drive/MyDrive/kaggle/input/HAM10000_metadata.csv')\n",
    "# label = disease_to_label(str(df.loc[df['image_id'] == image_id, 'dx'].item()))\n",
    "# # p1 = os.path.join('/kaggle/input/skin-cancer-mnist-ham10000/HAM10000_images_part_1', image_file_name)\n",
    "# # p2 = os.path.join('/kaggle/input/skin-cancer-mnist-ham10000/HAM10000_images_part_2', image_file_name)\n",
    "# p1 = os.path.join('/content/drive/MyDrive/kaggle/input/HAM10000_images_part_1', image_file_name)\n",
    "# p2 = os.path.join('/content/drive/MyDrive/kaggle/input/HAM10000_images_part_2', image_file_name)\n",
    "# if os.path.isfile(p1):\n",
    "#     img = plt.imread(p1)\n",
    "# if os.path.isfile(p2):\n",
    "#     img = plt.imread(p2)\n",
    "# transform = transforms.ToTensor()\n",
    "# img = transform(img)\n",
    "# transform = transforms.Resize((30, 40))\n",
    "# img = transform(img)\n",
    "\n",
    "# img.shape\n",
    "# plt.figure()\n",
    "# plt.imshow(img.permute(1, 2, 0))"
   ]
  },
  {
   "cell_type": "code",
   "execution_count": 10,
   "id": "b6772bc2",
   "metadata": {
    "colab": {
     "base_uri": "https://localhost:8080/"
    },
    "executionInfo": {
     "elapsed": 18,
     "status": "ok",
     "timestamp": 1658167140395,
     "user": {
      "displayName": "JUJIE YANG",
      "userId": "07067934053918991332"
     },
     "user_tz": -60
    },
    "id": "b6772bc2",
    "outputId": "3d4d701c-9d84-46bd-c913-af4fe9e6fc27"
   },
   "outputs": [
    {
     "data": {
      "text/plain": [
       "8015"
      ]
     },
     "execution_count": 10,
     "metadata": {},
     "output_type": "execute_result"
    }
   ],
   "source": [
    "len(train_ds)"
   ]
  },
  {
   "cell_type": "code",
   "execution_count": 11,
   "id": "61470144",
   "metadata": {
    "colab": {
     "base_uri": "https://localhost:8080/",
     "height": 302
    },
    "executionInfo": {
     "elapsed": 13050,
     "status": "ok",
     "timestamp": 1658167153428,
     "user": {
      "displayName": "JUJIE YANG",
      "userId": "07067934053918991332"
     },
     "user_tz": -60
    },
    "id": "61470144",
    "outputId": "4f510c0c-b9e6-432a-e17c-0392d04ffec2"
   },
   "outputs": [
    {
     "name": "stderr",
     "output_type": "stream",
     "text": [
      "Clipping input data to the valid range for imshow with RGB data ([0..1] for floats or [0..255] for integers).\n"
     ]
    },
    {
     "name": "stdout",
     "output_type": "stream",
     "text": [
      "<class 'torch.Tensor'>\n"
     ]
    },
    {
     "data": {
      "image/png": "[encoded data removed]",
      "text/plain": [
       "<Figure size 432x288 with 1 Axes>"
      ]
     },
     "metadata": {
      "needs_background": "light"
     },
     "output_type": "display_data"
    },
    {
     "name": "stdout",
     "output_type": "stream",
     "text": [
      "tensor(4)\n"
     ]
    }
   ],
   "source": [
    "import os\n",
    "import torch\n",
    "import torchvision\n",
    "import tarfile\n",
    "from torchvision.datasets.utils import download_url\n",
    "from torch.utils.data import random_split\n",
    "from torch.utils.data import DataLoader\n",
    "\n",
    "import matplotlib\n",
    "import matplotlib.pyplot as plt\n",
    "%matplotlib inline\n",
    "\n",
    "random_seed = 42\n",
    "torch.manual_seed(random_seed)\n",
    "\n",
    "batch_size = 128\n",
    "\n",
    "train_dl = DataLoader(train_ds, batch_size, shuffle=True, num_workers=2, pin_memory=True)\n",
    "valid_dl = DataLoader(val_ds, batch_size*2, num_workers=2, pin_memory=True)\n",
    "\n",
    "plt.figure()\n",
    "\n",
    "for image, label in train_dl:\n",
    "    plt.imshow(image[0].permute(2, 1, 0))\n",
    "    print(type(image[0]))\n",
    "    plt.show()\n",
    "    print(label[0])\n",
    "    break"
   ]
  },
  {
   "cell_type": "code",
   "execution_count": 12,
   "id": "f48baac7",
   "metadata": {
    "id": "f48baac7"
   },
   "outputs": [],
   "source": [
    "def get_default_device():\n",
    "    \"\"\"Pick GPU if available, else CPU\"\"\"\n",
    "    if torch.cuda.is_available():\n",
    "        return torch.device('cuda')\n",
    "    else:\n",
    "        return torch.device('cpu')\n",
    "    \n",
    "def to_device(data, device):\n",
    "    \"\"\"Move tensor(s) to chosen device\"\"\"\n",
    "    if isinstance(data, (list,tuple)):\n",
    "        return [to_device(x, device) for x in data]\n",
    "    return data.to(device, non_blocking=True)\n",
    "\n",
    "class DeviceDataLoader():\n",
    "    \"\"\"Wrap a dataloader to move data to a device\"\"\"\n",
    "    def __init__(self, dl, device):\n",
    "        self.dl = dl\n",
    "        self.device = device\n",
    "        \n",
    "    def __iter__(self):\n",
    "        \"\"\"Yield a batch of data after moving it to device\"\"\"\n",
    "        for b in self.dl: \n",
    "            yield to_device(b, self.device)\n",
    "\n",
    "    def __len__(self):\n",
    "        \"\"\"Number of batches\"\"\"\n",
    "        return len(self.dl)\n",
    "device = get_default_device()\n",
    "train_dl = DeviceDataLoader(train_dl, device)\n",
    "valid_dl = DeviceDataLoader(valid_dl, device)"
   ]
  },
  {
   "cell_type": "code",
   "execution_count": 13,
   "id": "0e67c020",
   "metadata": {
    "id": "0e67c020"
   },
   "outputs": [],
   "source": [
    "import os\n",
    "import torch\n",
    "import torchvision\n",
    "import tarfile\n",
    "import torch.nn as nn\n",
    "import numpy as np\n",
    "from sklearn.metrics import precision_recall_fscore_support\n",
    "import torch.nn.functional as F\n",
    "from torchvision.datasets.utils import download_url\n",
    "from torchvision.datasets import ImageFolder\n",
    "from torch.utils.data import DataLoader\n",
    "import torchvision.transforms as tt\n",
    "from torch.utils.data import random_split\n",
    "from torchvision.utils import make_grid\n",
    "import matplotlib\n",
    "import matplotlib.pyplot as plt\n",
    "%matplotlib inline\n",
    "\n",
    "def accuracy(outputs, labels):\n",
    "    _, preds = torch.max(outputs, dim=1)\n",
    "    return torch.tensor(torch.sum(preds == labels).item() / len(preds))\n",
    "\n",
    "class ImageClassificationBase(nn.Module):\n",
    "    def training_step(self, batch):\n",
    "        images, labels = batch \n",
    "        out = self(images)                  # Generate predictions\n",
    "        loss = F.cross_entropy(out, labels) # Calculate loss\n",
    "        return loss\n",
    "    \n",
    "    def validation_step(self, batch):\n",
    "        images, labels = batch \n",
    "        out = self(images)                    # Generate predictions\n",
    "        loss = F.cross_entropy(out, labels)   # Calculate loss\n",
    "        acc = accuracy(out, labels)           # Calculate accuracy\n",
    "        \n",
    "    #     ------------------- calculate fscore for each batch ----------------\n",
    "\n",
    "        _, y_preds = torch.max(out, dim=1)    \n",
    "        threeMetrics = precision_recall_fscore_support(torch.Tensor.cpu(labels), torch.Tensor.cpu(y_preds), average=None,labels=[i for i in range(7)])\n",
    "        fscore = torch.tensor(threeMetrics[2]) # fscore (return a tensor of a list: tensor([1,2,3]))\n",
    "\n",
    "        return {'val_loss': loss.detach(), 'val_acc': acc, 'val_fscore': fscore}\n",
    "        \n",
    "    def validation_epoch_end(self, outputs):\n",
    "        batch_losses = [x['val_loss'] for x in outputs]\n",
    "        epoch_loss = torch.stack(batch_losses).mean()   # Combine losses\n",
    "        batch_accs = [x['val_acc'] for x in outputs]\n",
    "        epoch_acc = torch.stack(batch_accs).mean()      # Combine accuracies\n",
    "        batch_fscores = [x['val_fscore'] for x in outputs] \n",
    "        epoch_fscore = torch.stack(batch_fscores).mean(0)  # Calculate mean fscore\n",
    "        return {'val_loss': epoch_loss.item(), 'val_acc': epoch_acc.item(), 'val_fscore': epoch_fscore.tolist()}\n",
    "    \n",
    "    def epoch_end(self, epoch, result):\n",
    "        print(\"Epoch [{}], last_lr: {:.5f}, train_loss: {:.4f}, val_loss: {:.4f}, val_acc: {:.4f}, val_fscore: {}\".format(\n",
    "            epoch, result['lrs'][-1], result['train_loss'], result['val_loss'], result['val_acc'], result['val_fscore']))"
   ]
  },
  {
   "cell_type": "code",
   "execution_count": 14,
   "id": "f03b4775",
   "metadata": {
    "id": "f03b4775"
   },
   "outputs": [],
   "source": [
    "def conv_block(in_channels, out_channels, pool=False):\n",
    "    layers = [nn.Conv2d(in_channels, out_channels, kernel_size=3, padding=1), \n",
    "              nn.BatchNorm2d(out_channels), \n",
    "              nn.ReLU(inplace=True)]\n",
    "    if pool: layers.append(nn.MaxPool2d(2))\n",
    "    return nn.Sequential(*layers)\n",
    "\n",
    "class ResNet9(ImageClassificationBase):\n",
    "    def __init__(self, in_channels, num_classes):\n",
    "        super().__init__()\n",
    "        \n",
    "        self.conv1 = conv_block(in_channels, 64)\n",
    "        self.conv2 = conv_block(64, 128, pool=True)\n",
    "        self.res1 = nn.Sequential(conv_block(128, 128), conv_block(128, 128))\n",
    "        \n",
    "        self.conv3 = conv_block(128, 256, pool=True)\n",
    "        self.conv4 = conv_block(256, 512, pool=True)\n",
    "        self.res2 = nn.Sequential(conv_block(512, 512), conv_block(512, 512))\n",
    "        \n",
    "        self.classifier = nn.Sequential(nn.MaxPool2d(4), \n",
    "                                        nn.Flatten(), \n",
    "                                        nn.Dropout(0.2),\n",
    "                                        nn.Linear(512, num_classes))\n",
    "        \n",
    "    def forward(self, xb):\n",
    "        out = self.conv1(xb)\n",
    "        out = self.conv2(out)\n",
    "        out = self.res1(out) + out\n",
    "        out = self.conv3(out)\n",
    "        out = self.conv4(out)\n",
    "        out = self.res2(out) + out\n",
    "        out = self.classifier(out)\n",
    "        return out\n"
   ]
  },
  {
   "cell_type": "code",
   "execution_count": 15,
   "id": "61d8c2b3",
   "metadata": {
    "colab": {
     "base_uri": "https://localhost:8080/"
    },
    "executionInfo": {
     "elapsed": 7,
     "status": "ok",
     "timestamp": 1658167153429,
     "user": {
      "displayName": "JUJIE YANG",
      "userId": "07067934053918991332"
     },
     "user_tz": -60
    },
    "id": "61d8c2b3",
    "outputId": "46521d4f-59de-4cec-e7cd-a12b4919da8b"
   },
   "outputs": [
    {
     "data": {
      "text/plain": [
       "ResNet9(\n",
       "  (conv1): Sequential(\n",
       "    (0): Conv2d(3, 64, kernel_size=(3, 3), stride=(1, 1), padding=(1, 1))\n",
       "    (1): BatchNorm2d(64, eps=1e-05, momentum=0.1, affine=True, track_running_stats=True)\n",
       "    (2): ReLU(inplace=True)\n",
       "  )\n",
       "  (conv2): Sequential(\n",
       "    (0): Conv2d(64, 128, kernel_size=(3, 3), stride=(1, 1), padding=(1, 1))\n",
       "    (1): BatchNorm2d(128, eps=1e-05, momentum=0.1, affine=True, track_running_stats=True)\n",
       "    (2): ReLU(inplace=True)\n",
       "    (3): MaxPool2d(kernel_size=2, stride=2, padding=0, dilation=1, ceil_mode=False)\n",
       "  )\n",
       "  (res1): Sequential(\n",
       "    (0): Sequential(\n",
       "      (0): Conv2d(128, 128, kernel_size=(3, 3), stride=(1, 1), padding=(1, 1))\n",
       "      (1): BatchNorm2d(128, eps=1e-05, momentum=0.1, affine=True, track_running_stats=True)\n",
       "      (2): ReLU(inplace=True)\n",
       "    )\n",
       "    (1): Sequential(\n",
       "      (0): Conv2d(128, 128, kernel_size=(3, 3), stride=(1, 1), padding=(1, 1))\n",
       "      (1): BatchNorm2d(128, eps=1e-05, momentum=0.1, affine=True, track_running_stats=True)\n",
       "      (2): ReLU(inplace=True)\n",
       "    )\n",
       "  )\n",
       "  (conv3): Sequential(\n",
       "    (0): Conv2d(128, 256, kernel_size=(3, 3), stride=(1, 1), padding=(1, 1))\n",
       "    (1): BatchNorm2d(256, eps=1e-05, momentum=0.1, affine=True, track_running_stats=True)\n",
       "    (2): ReLU(inplace=True)\n",
       "    (3): MaxPool2d(kernel_size=2, stride=2, padding=0, dilation=1, ceil_mode=False)\n",
       "  )\n",
       "  (conv4): Sequential(\n",
       "    (0): Conv2d(256, 512, kernel_size=(3, 3), stride=(1, 1), padding=(1, 1))\n",
       "    (1): BatchNorm2d(512, eps=1e-05, momentum=0.1, affine=True, track_running_stats=True)\n",
       "    (2): ReLU(inplace=True)\n",
       "    (3): MaxPool2d(kernel_size=2, stride=2, padding=0, dilation=1, ceil_mode=False)\n",
       "  )\n",
       "  (res2): Sequential(\n",
       "    (0): Sequential(\n",
       "      (0): Conv2d(512, 512, kernel_size=(3, 3), stride=(1, 1), padding=(1, 1))\n",
       "      (1): BatchNorm2d(512, eps=1e-05, momentum=0.1, affine=True, track_running_stats=True)\n",
       "      (2): ReLU(inplace=True)\n",
       "    )\n",
       "    (1): Sequential(\n",
       "      (0): Conv2d(512, 512, kernel_size=(3, 3), stride=(1, 1), padding=(1, 1))\n",
       "      (1): BatchNorm2d(512, eps=1e-05, momentum=0.1, affine=True, track_running_stats=True)\n",
       "      (2): ReLU(inplace=True)\n",
       "    )\n",
       "  )\n",
       "  (classifier): Sequential(\n",
       "    (0): MaxPool2d(kernel_size=4, stride=4, padding=0, dilation=1, ceil_mode=False)\n",
       "    (1): Flatten(start_dim=1, end_dim=-1)\n",
       "    (2): Dropout(p=0.2, inplace=False)\n",
       "    (3): Linear(in_features=512, out_features=7, bias=True)\n",
       "  )\n",
       ")"
      ]
     },
     "execution_count": 15,
     "metadata": {},
     "output_type": "execute_result"
    }
   ],
   "source": [
    "model = to_device(ResNet9(3, 7), device)\n",
    "model"
   ]
  },
  {
   "cell_type": "code",
   "execution_count": 16,
   "id": "2c06ebd3",
   "metadata": {
    "id": "2c06ebd3"
   },
   "outputs": [],
   "source": [
    "@torch.no_grad()\n",
    "def evaluate(model, val_loader):\n",
    "    model.eval()\n",
    "    outputs = [model.validation_step(batch) for batch in val_loader]\n",
    "    return model.validation_epoch_end(outputs)\n",
    "\n",
    "def get_lr(optimizer):\n",
    "    for param_group in optimizer.param_groups:\n",
    "        return param_group['lr']\n",
    "\n",
    "def fit_one_cycle(epochs, max_lr, model, train_loader, val_loader, \n",
    "                  weight_decay=0, grad_clip=None, opt_func=torch.optim.SGD):\n",
    "    torch.cuda.empty_cache()\n",
    "    history = []\n",
    "    \n",
    "    # Set up cutom optimizer with weight decay\n",
    "    optimizer = opt_func(model.parameters(), max_lr, weight_decay=weight_decay)\n",
    "    # Set up one-cycle learning rate scheduler\n",
    "    sched = torch.optim.lr_scheduler.OneCycleLR(optimizer, max_lr, epochs=epochs, \n",
    "                                                steps_per_epoch=len(train_loader))\n",
    "    \n",
    "    for epoch in range(epochs):\n",
    "        # Training Phase \n",
    "        model.train()\n",
    "        train_losses = []\n",
    "        lrs = []\n",
    "        for batch in train_loader:\n",
    "            loss = model.training_step(batch)\n",
    "            train_losses.append(loss)\n",
    "            loss.backward()\n",
    "            \n",
    "            # Gradient clipping\n",
    "            if grad_clip: \n",
    "                nn.utils.clip_grad_value_(model.parameters(), grad_clip)\n",
    "            \n",
    "            optimizer.step()\n",
    "            optimizer.zero_grad()\n",
    "            \n",
    "            # Record & update learning rate\n",
    "            lrs.append(get_lr(optimizer))\n",
    "            sched.step()\n",
    "        \n",
    "        # Validation phase\n",
    "        result = evaluate(model, val_loader)\n",
    "        result['train_loss'] = torch.stack(train_losses).mean().item()\n",
    "        result['lrs'] = lrs\n",
    "        model.epoch_end(epoch, result)\n",
    "        history.append(result)\n",
    "    return history"
   ]
  },
  {
   "cell_type": "code",
   "execution_count": 17,
   "id": "0e90ff96",
   "metadata": {},
   "outputs": [],
   "source": [
    "# remove warnings\n",
    "import warnings\n",
    "warnings.filterwarnings(\"ignore\")"
   ]
  },
  {
   "cell_type": "code",
   "execution_count": 18,
   "id": "836a5eed",
   "metadata": {
    "colab": {
     "base_uri": "https://localhost:8080/"
    },
    "executionInfo": {
     "elapsed": 45048,
     "status": "ok",
     "timestamp": 1658167198472,
     "user": {
      "displayName": "JUJIE YANG",
      "userId": "07067934053918991332"
     },
     "user_tz": -60
    },
    "id": "836a5eed",
    "outputId": "c73823ab-c291-4ecc-b644-ff5e33c5904c"
   },
   "outputs": [
    {
     "data": {
      "text/plain": [
       "[{'val_loss': 1.977494239807129,\n",
       "  'val_acc': 0.015737680718302727,\n",
       "  'val_fscore': [0.0, 0.0, 0.0, 0.0, 0.0, 0.0, 0.03089848366695698]}]"
      ]
     },
     "execution_count": 18,
     "metadata": {},
     "output_type": "execute_result"
    }
   ],
   "source": [
    "history = [evaluate(model, valid_dl)]\n",
    "history"
   ]
  },
  {
   "cell_type": "code",
   "execution_count": 19,
   "id": "1cd01334",
   "metadata": {
    "id": "1cd01334"
   },
   "outputs": [],
   "source": [
    "epochs = 4\n",
    "max_lr = 0.01\n",
    "grad_clip = 0.1\n",
    "weight_decay = 1e-4\n",
    "opt_func = torch.optim.Adam"
   ]
  },
  {
   "cell_type": "code",
   "execution_count": 20,
   "id": "1c610b77",
   "metadata": {
    "colab": {
     "base_uri": "https://localhost:8080/"
    },
    "executionInfo": {
     "elapsed": 1709736,
     "status": "ok",
     "timestamp": 1658168908206,
     "user": {
      "displayName": "JUJIE YANG",
      "userId": "07067934053918991332"
     },
     "user_tz": -60
    },
    "id": "1c610b77",
    "outputId": "ad46fdbb-a652-4b4f-b8c1-f296bd5a8421"
   },
   "outputs": [
    {
     "name": "stdout",
     "output_type": "stream",
     "text": [
      "Epoch [0], last_lr: 0.00934, train_loss: 1.0700, val_loss: 1.1628, val_acc: 0.7061, val_fscore: [0.0, 0.0, 0.300783767535221, 0.0, 0.15773573200992555, 0.8350019767798864, 0.0]\n",
      "Epoch [1], last_lr: 0.00812, train_loss: 0.9770, val_loss: 0.8585, val_acc: 0.7086, val_fscore: [0.3025434482671325, 0.27756114436034346, 0.0, 0.0, 0.1720995117414555, 0.8553350620063177, 0.0]\n",
      "Epoch [2], last_lr: 0.00283, train_loss: 0.8292, val_loss: 0.7351, val_acc: 0.7232, val_fscore: [0.0, 0.3602000248097014, 0.44172051780747434, 0.0, 0.34402634874583093, 0.8720116817049468, 0.45550595238095243]\n",
      "Epoch [3], last_lr: 0.00000, train_loss: 0.7403, val_loss: 0.6793, val_acc: 0.7565, val_fscore: [0.31834693084693083, 0.3917601564838282, 0.47727568842156565, 0.0, 0.18970761721236104, 0.8912351979326817, 0.6052083333333333]\n",
      "CPU times: user 2.19 s, sys: 568 ms, total: 2.76 s\n",
      "Wall time: 4min 9s\n"
     ]
    }
   ],
   "source": [
    "%%time\n",
    "history += fit_one_cycle(epochs, max_lr, model, train_dl, valid_dl, \n",
    "                             grad_clip=grad_clip, \n",
    "                             weight_decay=weight_decay, \n",
    "                             opt_func=opt_func)"
   ]
  },
  {
   "cell_type": "code",
   "execution_count": 21,
   "id": "1e7f8ee6",
   "metadata": {
    "colab": {
     "base_uri": "https://localhost:8080/"
    },
    "executionInfo": {
     "elapsed": 860540,
     "status": "ok",
     "timestamp": 1658169768731,
     "user": {
      "displayName": "JUJIE YANG",
      "userId": "07067934053918991332"
     },
     "user_tz": -60
    },
    "id": "1e7f8ee6",
    "outputId": "7cc0d4a9-e5de-4b3b-825b-13b3b1161da4"
   },
   "outputs": [
    {
     "name": "stdout",
     "output_type": "stream",
     "text": [
      "Epoch [0], last_lr: 0.00467, train_loss: 0.7855, val_loss: 0.9061, val_acc: 0.7233, val_fscore: [0.0, 0.12804838668010024, 0.24667620985386615, 0.2, 0.2456921395399233, 0.8541693144047899, 0.6074404761904763]\n",
      "Epoch [1], last_lr: 0.00406, train_loss: 0.7985, val_loss: 0.8086, val_acc: 0.6613, val_fscore: [0.40138994787545423, 0.37610366216708174, 0.4547462542983546, 0.0, 0.36514839841186886, 0.8259702278290095, 0.6375270562770563]\n",
      "Epoch [2], last_lr: 0.00142, train_loss: 0.7543, val_loss: 0.6925, val_acc: 0.7509, val_fscore: [0.23763964793376557, 0.4695255267296125, 0.34603533157501704, 0.04166666666666667, 0.143872530725979, 0.8809035978815827, 0.6595734126984127]\n",
      "Epoch [3], last_lr: 0.00000, train_loss: 0.6947, val_loss: 0.6198, val_acc: 0.7657, val_fscore: [0.38829539913131245, 0.5119417388167388, 0.43990824910417725, 0.0, 0.2950873719801915, 0.8920797083878583, 0.7613095238095238]\n"
     ]
    }
   ],
   "source": [
    "epochs = 4\n",
    "max_lr = 0.005\n",
    "grad_clip = 0.1\n",
    "weight_decay = 1e-4\n",
    "opt_func = torch.optim.Adam\n",
    "\n",
    "history += fit_one_cycle(epochs, max_lr, model, train_dl, valid_dl, \n",
    "                             grad_clip=grad_clip, \n",
    "                             weight_decay=weight_decay, \n",
    "                             opt_func=opt_func)"
   ]
  },
  {
   "cell_type": "code",
   "execution_count": 22,
   "id": "c2fd0826",
   "metadata": {
    "colab": {
     "base_uri": "https://localhost:8080/"
    },
    "executionInfo": {
     "elapsed": 866718,
     "status": "ok",
     "timestamp": 1658170635443,
     "user": {
      "displayName": "JUJIE YANG",
      "userId": "07067934053918991332"
     },
     "user_tz": -60
    },
    "id": "c2fd0826",
    "outputId": "ebc3f8a2-f7e8-452a-a5a3-95ea2047e0d4"
   },
   "outputs": [
    {
     "name": "stdout",
     "output_type": "stream",
     "text": [
      "Epoch [0], last_lr: 0.00093, train_loss: 0.6806, val_loss: 0.6355, val_acc: 0.7708, val_fscore: [0.29032577329790954, 0.5062692012288785, 0.5164085885577521, 0.0, 0.1592253150178623, 0.9009161386229776, 0.7557539682539682]\n",
      "Epoch [1], last_lr: 0.00081, train_loss: 0.7051, val_loss: 0.6383, val_acc: 0.7761, val_fscore: [0.3855375618533513, 0.5129726023677637, 0.48962232212232204, 0.04166666666666667, 0.1961490592740593, 0.8945022213916699, 0.7279761904761906]\n",
      "Epoch [2], last_lr: 0.00028, train_loss: 0.6780, val_loss: 0.6049, val_acc: 0.7792, val_fscore: [0.37254287679984277, 0.5416076378558847, 0.5021661774859809, 0.04166666666666667, 0.34338094603521097, 0.8950369981472133, 0.7746527777777779]\n",
      "Epoch [3], last_lr: 0.00000, train_loss: 0.6374, val_loss: 0.5908, val_acc: 0.7748, val_fscore: [0.39948832189880784, 0.5012396838054732, 0.47391298819577515, 0.0, 0.3663595695004863, 0.8973913789155705, 0.7818139097744361]\n"
     ]
    }
   ],
   "source": [
    "epochs = 4\n",
    "max_lr = 0.001\n",
    "grad_clip = 0.1\n",
    "weight_decay = 1e-3\n",
    "opt_func = torch.optim.Adam\n",
    "\n",
    "history += fit_one_cycle(epochs, max_lr, model, train_dl, valid_dl, \n",
    "                             grad_clip=grad_clip, \n",
    "                             weight_decay=weight_decay, \n",
    "                             opt_func=opt_func)"
   ]
  },
  {
   "cell_type": "code",
   "execution_count": 23,
   "id": "6c48928a",
   "metadata": {
    "colab": {
     "base_uri": "https://localhost:8080/"
    },
    "executionInfo": {
     "elapsed": 863614,
     "status": "ok",
     "timestamp": 1658171499043,
     "user": {
      "displayName": "JUJIE YANG",
      "userId": "07067934053918991332"
     },
     "user_tz": -60
    },
    "id": "6c48928a",
    "outputId": "3b3a3dae-c67f-4f57-c001-daecfaf2c8b1"
   },
   "outputs": [
    {
     "name": "stdout",
     "output_type": "stream",
     "text": [
      "Epoch [0], last_lr: 0.00001, train_loss: 0.6318, val_loss: 0.5914, val_acc: 0.7800, val_fscore: [0.41299588731813797, 0.5171973725789648, 0.48855494469624905, 0.0, 0.3731027241067786, 0.8980830332651779, 0.7941154970760234]\n",
      "Epoch [1], last_lr: 0.00001, train_loss: 0.6316, val_loss: 0.5909, val_acc: 0.7812, val_fscore: [0.4164741481877032, 0.541421042193101, 0.5062323716690009, 0.0, 0.327842782153127, 0.8982311971581463, 0.7941154970760234]\n",
      "Epoch [2], last_lr: 0.00000, train_loss: 0.6319, val_loss: 0.5888, val_acc: 0.7793, val_fscore: [0.4256814264167205, 0.5404056360306361, 0.5018054816910125, 0.0, 0.3064465756433797, 0.8974682837360779, 0.7941154970760234]\n",
      "Epoch [3], last_lr: 0.00000, train_loss: 0.6217, val_loss: 0.5875, val_acc: 0.7808, val_fscore: [0.4212818404953955, 0.5236303888025822, 0.5056171765410502, 0.0, 0.3251617726387173, 0.8987797279091561, 0.7941154970760234]\n"
     ]
    }
   ],
   "source": [
    "epochs = 4\n",
    "max_lr = 0.00001\n",
    "grad_clip = 0.1\n",
    "weight_decay = 1e-3\n",
    "opt_func = torch.optim.Adam\n",
    "\n",
    "history += fit_one_cycle(epochs, max_lr, model, train_dl, valid_dl, \n",
    "                             grad_clip=grad_clip, \n",
    "                             weight_decay=weight_decay, \n",
    "                             opt_func=opt_func)"
   ]
  },
  {
   "cell_type": "code",
   "execution_count": 28,
   "id": "aed0fd9c",
   "metadata": {},
   "outputs": [
    {
     "name": "stdout",
     "output_type": "stream",
     "text": [
      "Epoch [0], last_lr: 0.00001, train_loss: 0.6268, val_loss: 0.5884, val_acc: 0.7787, val_fscore: [0.42424626737286586, 0.5254345827023642, 0.4995296268452778, 0.0, 0.3263777327590156, 0.8973450673028578, 0.7941154970760234]\n",
      "Epoch [1], last_lr: 0.00000, train_loss: 0.6262, val_loss: 0.5876, val_acc: 0.7798, val_fscore: [0.4212818404953955, 0.529222568203078, 0.5045629921727607, 0.05, 0.32484678590131677, 0.8974002668551129, 0.7941154970760234]\n"
     ]
    }
   ],
   "source": [
    "epochs = 2\n",
    "max_lr = 0.00001\n",
    "grad_clip = 0.1\n",
    "weight_decay = 1e-3\n",
    "opt_func = torch.optim.Adam\n",
    "\n",
    "history += fit_one_cycle(epochs, max_lr, model, train_dl, valid_dl, \n",
    "                             grad_clip=grad_clip, \n",
    "                             weight_decay=weight_decay, \n",
    "                             opt_func=opt_func)"
   ]
  },
  {
   "cell_type": "code",
   "execution_count": 29,
   "id": "ddcb09c5",
   "metadata": {
    "id": "ddcb09c5"
   },
   "outputs": [],
   "source": [
    "torch.save(model.state_dict(), '../../kaggle/ubuntu_save_model/ubuntu_size82_resnet9.pth')"
   ]
  },
  {
   "cell_type": "code",
   "execution_count": 30,
   "id": "be280df2",
   "metadata": {
    "id": "be280df2"
   },
   "outputs": [],
   "source": [
    "def plot_accuracies(history):\n",
    "    accuracies = [x['val_acc'] for x in history]\n",
    "    plt.plot(accuracies, '-x')\n",
    "    plt.xlabel('epoch')\n",
    "    plt.ylabel('accuracy')\n",
    "    plt.title('Accuracy vs. No. of epochs')\n",
    "def plot_losses(history):\n",
    "    train_losses = [x.get('train_loss') for x in history]\n",
    "    val_losses = [x['val_loss'] for x in history]\n",
    "    plt.plot(train_losses, '-bx')\n",
    "    plt.plot(val_losses, '-rx')\n",
    "    plt.xlabel('epoch')\n",
    "    plt.ylabel('loss')\n",
    "    plt.legend(['Training', 'Validation'])\n",
    "    plt.title('Loss vs. No. of epochs')"
   ]
  },
  {
   "cell_type": "code",
   "execution_count": 31,
   "id": "90844238",
   "metadata": {
    "colab": {
     "base_uri": "https://localhost:8080/",
     "height": 295
    },
    "executionInfo": {
     "elapsed": 13,
     "status": "ok",
     "timestamp": 1658171499044,
     "user": {
      "displayName": "JUJIE YANG",
      "userId": "07067934053918991332"
     },
     "user_tz": -60
    },
    "id": "90844238",
    "outputId": "03da4ee7-b0ad-4217-e79c-272f7f18284e"
   },
   "outputs": [
    {
     "data": {
      "image/png": "[encoded data removed]",
      "text/plain": [
       "<Figure size 432x288 with 1 Axes>"
      ]
     },
     "metadata": {
      "needs_background": "light"
     },
     "output_type": "display_data"
    }
   ],
   "source": [
    "plot_accuracies(history)"
   ]
  },
  {
   "cell_type": "code",
   "execution_count": 32,
   "id": "7056b789",
   "metadata": {
    "colab": {
     "base_uri": "https://localhost:8080/",
     "height": 295
    },
    "executionInfo": {
     "elapsed": 796,
     "status": "ok",
     "timestamp": 1658171499828,
     "user": {
      "displayName": "JUJIE YANG",
      "userId": "07067934053918991332"
     },
     "user_tz": -60
    },
    "id": "7056b789",
    "outputId": "328e4b72-ae94-43b1-d51f-081822a88dc2"
   },
   "outputs": [
    {
     "data": {
      "image/png": "[encoded data removed]",
      "text/plain": [
       "<Figure size 432x288 with 1 Axes>"
      ]
     },
     "metadata": {
      "needs_background": "light"
     },
     "output_type": "display_data"
    }
   ],
   "source": [
    "plot_losses(history)"
   ]
  }
 ],
 "metadata": {
  "accelerator": "GPU",
  "colab": {
   "collapsed_sections": [],
   "name": "resnet9-hmnist-classification.ipynb",
   "provenance": []
  },
  "gpuClass": "standard",
  "kernelspec": {
   "display_name": "Python 3",
   "language": "python",
   "name": "python3"
  },
  "language_info": {
   "codemirror_mode": {
    "name": "ipython",
    "version": 3
   },
   "file_extension": ".py",
   "mimetype": "text/x-python",
   "name": "python",
   "nbconvert_exporter": "python",
   "pygments_lexer": "ipython3",
   "version": "3.8.8"
  },
  "papermill": {
   "default_parameters": {},
   "duration": 4365.069848,
   "end_time": "2022-07-11T18:36:24.839486",
   "environment_variables": {},
   "exception": null,
   "input_path": "__notebook__.ipynb",
   "output_path": "__notebook__.ipynb",
   "parameters": {},
   "start_time": "2022-07-11T17:23:39.769638",
   "version": "2.3.4"
  }
 },
 "nbformat": 4,
 "nbformat_minor": 5
}
