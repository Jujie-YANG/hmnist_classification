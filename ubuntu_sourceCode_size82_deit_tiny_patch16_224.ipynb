{
 "cells": [
  {
   "cell_type": "code",
   "execution_count": 1,
   "id": "fb608384",
   "metadata": {
    "colab": {
     "base_uri": "https://localhost:8080/"
    },
    "executionInfo": {
     "elapsed": 2772,
     "status": "ok",
     "timestamp": 1659976822899,
     "user": {
      "displayName": "JUJIE YANG",
      "userId": "07067934053918991332"
     },
     "user_tz": -60
    },
    "id": "fb608384",
    "outputId": "962eeee6-ecd8-4260-83ec-13fa019f3a59"
   },
   "outputs": [
    {
     "name": "stdout",
     "output_type": "stream",
     "text": [
      "True\n",
      "1\n",
      "0\n",
      "<torch.cuda.device object at 0x7faa782cc070>\n",
      "NVIDIA GeForce RTX 3090\n"
     ]
    }
   ],
   "source": [
    "import torch\n",
    "print(torch.cuda.is_available())\n",
    "print(torch.cuda.device_count())\n",
    "print(torch.cuda.current_device())\n",
    "print(torch.cuda.device(0))\n",
    "print(torch.cuda.get_device_name(0))"
   ]
  },
  {
   "cell_type": "code",
   "execution_count": 2,
   "id": "ea2eb92a",
   "metadata": {
    "id": "ea2eb92a",
    "outputId": "42f65257-2a55-42d8-ff32-cc0085346ad6"
   },
   "outputs": [
    {
     "name": "stdout",
     "output_type": "stream",
     "text": [
      "ls: cannot access '../../kaggle/ubantu_save_model': No such file or directory\r\n"
     ]
    }
   ],
   "source": [
    "! ls ../../kaggle/ubantu_save_model"
   ]
  },
  {
   "cell_type": "markdown",
   "id": "k1TYGLGzyI4S",
   "metadata": {
    "id": "k1TYGLGzyI4S"
   },
   "source": [
    "'dx' is short for diagnosis (for the patient)\n",
    "- 'nv': 'Melanocytic nevi'\n",
    "- 'mel': 'Melanoma'\n",
    "- 'bkl': 'Benign keratosis-like lesions'\n",
    "- 'bcc': 'Basal cell carcinoma'\n",
    "- 'akiec': 'Actinic keratoses'\n",
    "- 'vasc': 'Vascular lesions'\n",
    "- 'df': 'Dermatofibroma'\n",
    "\n",
    "'dx_type' is how the diagnosis was made. \n",
    "- histo        5340\n",
    "- follow_up    3704\n",
    "- consensus     902\n",
    "- confocal       69"
   ]
  },
  {
   "cell_type": "code",
   "execution_count": 3,
   "id": "62891232",
   "metadata": {
    "colab": {
     "base_uri": "https://localhost:8080/",
     "height": 206
    },
    "executionInfo": {
     "elapsed": 836,
     "status": "ok",
     "timestamp": 1659976846877,
     "user": {
      "displayName": "JUJIE YANG",
      "userId": "07067934053918991332"
     },
     "user_tz": -60
    },
    "id": "62891232",
    "outputId": "2227379f-6e1e-43b2-fb94-aa1908d918d3"
   },
   "outputs": [
    {
     "data": {
      "text/html": [
       "<div>\n",
       "<style scoped>\n",
       "    .dataframe tbody tr th:only-of-type {\n",
       "        vertical-align: middle;\n",
       "    }\n",
       "\n",
       "    .dataframe tbody tr th {\n",
       "        vertical-align: top;\n",
       "    }\n",
       "\n",
       "    .dataframe thead th {\n",
       "        text-align: right;\n",
       "    }\n",
       "</style>\n",
       "<table border=\"1\" class=\"dataframe\">\n",
       "  <thead>\n",
       "    <tr style=\"text-align: right;\">\n",
       "      <th></th>\n",
       "      <th>lesion_id</th>\n",
       "      <th>image_id</th>\n",
       "      <th>dx</th>\n",
       "      <th>dx_type</th>\n",
       "      <th>age</th>\n",
       "      <th>sex</th>\n",
       "      <th>localization</th>\n",
       "    </tr>\n",
       "  </thead>\n",
       "  <tbody>\n",
       "    <tr>\n",
       "      <th>0</th>\n",
       "      <td>HAM_0000118</td>\n",
       "      <td>ISIC_0027419</td>\n",
       "      <td>bkl</td>\n",
       "      <td>histo</td>\n",
       "      <td>80.0</td>\n",
       "      <td>male</td>\n",
       "      <td>scalp</td>\n",
       "    </tr>\n",
       "    <tr>\n",
       "      <th>1</th>\n",
       "      <td>HAM_0000118</td>\n",
       "      <td>ISIC_0025030</td>\n",
       "      <td>bkl</td>\n",
       "      <td>histo</td>\n",
       "      <td>80.0</td>\n",
       "      <td>male</td>\n",
       "      <td>scalp</td>\n",
       "    </tr>\n",
       "    <tr>\n",
       "      <th>2</th>\n",
       "      <td>HAM_0002730</td>\n",
       "      <td>ISIC_0026769</td>\n",
       "      <td>bkl</td>\n",
       "      <td>histo</td>\n",
       "      <td>80.0</td>\n",
       "      <td>male</td>\n",
       "      <td>scalp</td>\n",
       "    </tr>\n",
       "    <tr>\n",
       "      <th>3</th>\n",
       "      <td>HAM_0002730</td>\n",
       "      <td>ISIC_0025661</td>\n",
       "      <td>bkl</td>\n",
       "      <td>histo</td>\n",
       "      <td>80.0</td>\n",
       "      <td>male</td>\n",
       "      <td>scalp</td>\n",
       "    </tr>\n",
       "    <tr>\n",
       "      <th>4</th>\n",
       "      <td>HAM_0001466</td>\n",
       "      <td>ISIC_0031633</td>\n",
       "      <td>bkl</td>\n",
       "      <td>histo</td>\n",
       "      <td>75.0</td>\n",
       "      <td>male</td>\n",
       "      <td>ear</td>\n",
       "    </tr>\n",
       "  </tbody>\n",
       "</table>\n",
       "</div>"
      ],
      "text/plain": [
       "     lesion_id      image_id   dx dx_type   age   sex localization\n",
       "0  HAM_0000118  ISIC_0027419  bkl   histo  80.0  male        scalp\n",
       "1  HAM_0000118  ISIC_0025030  bkl   histo  80.0  male        scalp\n",
       "2  HAM_0002730  ISIC_0026769  bkl   histo  80.0  male        scalp\n",
       "3  HAM_0002730  ISIC_0025661  bkl   histo  80.0  male        scalp\n",
       "4  HAM_0001466  ISIC_0031633  bkl   histo  75.0  male          ear"
      ]
     },
     "execution_count": 3,
     "metadata": {},
     "output_type": "execute_result"
    }
   ],
   "source": [
    "import pandas as pd\n",
    "\n",
    "labels_path = \"../../kaggle/input/HAM10000_metadata.csv\"\n",
    "image_labels_df = pd.read_csv(labels_path)\n",
    "image_labels_df.head()"
   ]
  },
  {
   "cell_type": "code",
   "execution_count": 4,
   "id": "1bbcf155",
   "metadata": {
    "colab": {
     "base_uri": "https://localhost:8080/",
     "height": 424
    },
    "executionInfo": {
     "elapsed": 7,
     "status": "ok",
     "timestamp": 1659976846878,
     "user": {
      "displayName": "JUJIE YANG",
      "userId": "07067934053918991332"
     },
     "user_tz": -60
    },
    "id": "1bbcf155",
    "outputId": "8234cf3a-78dd-4306-f6b1-60ce90f8da84"
   },
   "outputs": [
    {
     "data": {
      "text/html": [
       "<div>\n",
       "<style scoped>\n",
       "    .dataframe tbody tr th:only-of-type {\n",
       "        vertical-align: middle;\n",
       "    }\n",
       "\n",
       "    .dataframe tbody tr th {\n",
       "        vertical-align: top;\n",
       "    }\n",
       "\n",
       "    .dataframe thead th {\n",
       "        text-align: right;\n",
       "    }\n",
       "</style>\n",
       "<table border=\"1\" class=\"dataframe\">\n",
       "  <thead>\n",
       "    <tr style=\"text-align: right;\">\n",
       "      <th></th>\n",
       "      <th>lesion_id</th>\n",
       "      <th>image_id</th>\n",
       "      <th>dx</th>\n",
       "      <th>dx_type</th>\n",
       "      <th>age</th>\n",
       "      <th>sex</th>\n",
       "      <th>localization</th>\n",
       "    </tr>\n",
       "  </thead>\n",
       "  <tbody>\n",
       "    <tr>\n",
       "      <th>4349</th>\n",
       "      <td>HAM_0000550</td>\n",
       "      <td>ISIC_0024306</td>\n",
       "      <td>nv</td>\n",
       "      <td>follow_up</td>\n",
       "      <td>45.0</td>\n",
       "      <td>male</td>\n",
       "      <td>trunk</td>\n",
       "    </tr>\n",
       "    <tr>\n",
       "      <th>4263</th>\n",
       "      <td>HAM_0003577</td>\n",
       "      <td>ISIC_0024307</td>\n",
       "      <td>nv</td>\n",
       "      <td>follow_up</td>\n",
       "      <td>50.0</td>\n",
       "      <td>male</td>\n",
       "      <td>lower extremity</td>\n",
       "    </tr>\n",
       "    <tr>\n",
       "      <th>4217</th>\n",
       "      <td>HAM_0001477</td>\n",
       "      <td>ISIC_0024308</td>\n",
       "      <td>nv</td>\n",
       "      <td>follow_up</td>\n",
       "      <td>55.0</td>\n",
       "      <td>female</td>\n",
       "      <td>trunk</td>\n",
       "    </tr>\n",
       "    <tr>\n",
       "      <th>3587</th>\n",
       "      <td>HAM_0000484</td>\n",
       "      <td>ISIC_0024309</td>\n",
       "      <td>nv</td>\n",
       "      <td>follow_up</td>\n",
       "      <td>40.0</td>\n",
       "      <td>male</td>\n",
       "      <td>trunk</td>\n",
       "    </tr>\n",
       "    <tr>\n",
       "      <th>1451</th>\n",
       "      <td>HAM_0003350</td>\n",
       "      <td>ISIC_0024310</td>\n",
       "      <td>mel</td>\n",
       "      <td>histo</td>\n",
       "      <td>60.0</td>\n",
       "      <td>male</td>\n",
       "      <td>chest</td>\n",
       "    </tr>\n",
       "    <tr>\n",
       "      <th>...</th>\n",
       "      <td>...</td>\n",
       "      <td>...</td>\n",
       "      <td>...</td>\n",
       "      <td>...</td>\n",
       "      <td>...</td>\n",
       "      <td>...</td>\n",
       "      <td>...</td>\n",
       "    </tr>\n",
       "    <tr>\n",
       "      <th>1721</th>\n",
       "      <td>HAM_0004304</td>\n",
       "      <td>ISIC_0034316</td>\n",
       "      <td>mel</td>\n",
       "      <td>histo</td>\n",
       "      <td>85.0</td>\n",
       "      <td>male</td>\n",
       "      <td>upper extremity</td>\n",
       "    </tr>\n",
       "    <tr>\n",
       "      <th>1888</th>\n",
       "      <td>HAM_0006376</td>\n",
       "      <td>ISIC_0034317</td>\n",
       "      <td>mel</td>\n",
       "      <td>histo</td>\n",
       "      <td>70.0</td>\n",
       "      <td>female</td>\n",
       "      <td>lower extremity</td>\n",
       "    </tr>\n",
       "    <tr>\n",
       "      <th>121</th>\n",
       "      <td>HAM_0000344</td>\n",
       "      <td>ISIC_0034318</td>\n",
       "      <td>bkl</td>\n",
       "      <td>histo</td>\n",
       "      <td>55.0</td>\n",
       "      <td>male</td>\n",
       "      <td>trunk</td>\n",
       "    </tr>\n",
       "    <tr>\n",
       "      <th>7440</th>\n",
       "      <td>HAM_0000747</td>\n",
       "      <td>ISIC_0034319</td>\n",
       "      <td>nv</td>\n",
       "      <td>histo</td>\n",
       "      <td>30.0</td>\n",
       "      <td>male</td>\n",
       "      <td>trunk</td>\n",
       "    </tr>\n",
       "    <tr>\n",
       "      <th>7363</th>\n",
       "      <td>HAM_0002244</td>\n",
       "      <td>ISIC_0034320</td>\n",
       "      <td>nv</td>\n",
       "      <td>histo</td>\n",
       "      <td>25.0</td>\n",
       "      <td>female</td>\n",
       "      <td>chest</td>\n",
       "    </tr>\n",
       "  </tbody>\n",
       "</table>\n",
       "<p>10015 rows × 7 columns</p>\n",
       "</div>"
      ],
      "text/plain": [
       "        lesion_id      image_id   dx    dx_type   age     sex     localization\n",
       "4349  HAM_0000550  ISIC_0024306   nv  follow_up  45.0    male            trunk\n",
       "4263  HAM_0003577  ISIC_0024307   nv  follow_up  50.0    male  lower extremity\n",
       "4217  HAM_0001477  ISIC_0024308   nv  follow_up  55.0  female            trunk\n",
       "3587  HAM_0000484  ISIC_0024309   nv  follow_up  40.0    male            trunk\n",
       "1451  HAM_0003350  ISIC_0024310  mel      histo  60.0    male            chest\n",
       "...           ...           ...  ...        ...   ...     ...              ...\n",
       "1721  HAM_0004304  ISIC_0034316  mel      histo  85.0    male  upper extremity\n",
       "1888  HAM_0006376  ISIC_0034317  mel      histo  70.0  female  lower extremity\n",
       "121   HAM_0000344  ISIC_0034318  bkl      histo  55.0    male            trunk\n",
       "7440  HAM_0000747  ISIC_0034319   nv      histo  30.0    male            trunk\n",
       "7363  HAM_0002244  ISIC_0034320   nv      histo  25.0  female            chest\n",
       "\n",
       "[10015 rows x 7 columns]"
      ]
     },
     "execution_count": 4,
     "metadata": {},
     "output_type": "execute_result"
    }
   ],
   "source": [
    "image_labels_df.sort_values(by=\"image_id\")"
   ]
  },
  {
   "cell_type": "code",
   "execution_count": 5,
   "id": "toF9u1z-F31H",
   "metadata": {
    "colab": {
     "base_uri": "https://localhost:8080/"
    },
    "executionInfo": {
     "elapsed": 4797,
     "status": "ok",
     "timestamp": 1659976851671,
     "user": {
      "displayName": "JUJIE YANG",
      "userId": "07067934053918991332"
     },
     "user_tz": -60
    },
    "id": "toF9u1z-F31H",
    "outputId": "d8ba3c80-3564-4dd5-d410-1e8a0a191db5"
   },
   "outputs": [
    {
     "name": "stdout",
     "output_type": "stream",
     "text": [
      "Requirement already satisfied: timm in /home/jujie/anaconda3/lib/python3.9/site-packages (0.6.7)\r\n",
      "Requirement already satisfied: torchvision in /home/jujie/anaconda3/lib/python3.9/site-packages (from timm) (0.13.1+cu116)\r\n",
      "Requirement already satisfied: torch>=1.4 in /home/jujie/anaconda3/lib/python3.9/site-packages (from timm) (1.12.1+cu116)\r\n",
      "Requirement already satisfied: typing-extensions in /home/jujie/anaconda3/lib/python3.9/site-packages (from torch>=1.4->timm) (4.3.0)\r\n",
      "Requirement already satisfied: pillow!=8.3.*,>=5.3.0 in /home/jujie/anaconda3/lib/python3.9/site-packages (from torchvision->timm) (9.2.0)\r\n",
      "Requirement already satisfied: requests in /home/jujie/anaconda3/lib/python3.9/site-packages (from torchvision->timm) (2.28.1)\r\n",
      "Requirement already satisfied: numpy in /home/jujie/anaconda3/lib/python3.9/site-packages (from torchvision->timm) (1.21.5)\r\n",
      "Requirement already satisfied: certifi>=2017.4.17 in /home/jujie/anaconda3/lib/python3.9/site-packages (from requests->torchvision->timm) (2022.6.15)\r\n",
      "Requirement already satisfied: idna<4,>=2.5 in /home/jujie/anaconda3/lib/python3.9/site-packages (from requests->torchvision->timm) (3.3)\r\n",
      "Requirement already satisfied: urllib3<1.27,>=1.21.1 in /home/jujie/anaconda3/lib/python3.9/site-packages (from requests->torchvision->timm) (1.26.11)\r\n",
      "Requirement already satisfied: charset-normalizer<3,>=2 in /home/jujie/anaconda3/lib/python3.9/site-packages (from requests->torchvision->timm) (2.0.4)\r\n"
     ]
    }
   ],
   "source": [
    "## Now, we import timm, torchvision image models\n",
    "!pip install timm # kaggle doesnt have it installed by default\n",
    "import timm\n",
    "from timm.loss import LabelSmoothingCrossEntropy # This is better than normal nn.CrossEntropyLoss"
   ]
  },
  {
   "cell_type": "code",
   "execution_count": 6,
   "id": "0e078efa",
   "metadata": {
    "id": "0e078efa"
   },
   "outputs": [],
   "source": [
    "from torch.utils.data import Dataset\n",
    "import torchvision.transforms as transforms\n",
    "import matplotlib.pyplot as plt\n",
    "import os\n",
    "\n",
    "def disease_to_label(l):\n",
    "    if l == \"akiec\":\n",
    "        return 0\n",
    "    if l == \"bcc\":\n",
    "        return 1\n",
    "    if l == \"bkl\":\n",
    "        return 2\n",
    "    if l == \"df\":\n",
    "        return 3\n",
    "    if l == \"mel\":\n",
    "        return 4\n",
    "    if l == \"nv\":\n",
    "        return 5\n",
    "    if l == \"vasc\":\n",
    "        return 6 \n"
   ]
  },
  {
   "cell_type": "code",
   "execution_count": 7,
   "id": "5c6e5453",
   "metadata": {
    "id": "5c6e5453"
   },
   "outputs": [],
   "source": [
    "class SkinCancerDetection_train(Dataset):\n",
    "    \n",
    "    def __init__(self, train_path, csv, transform=None):\n",
    "        self.train_path = train_path\n",
    "        self.csv_path = csv\n",
    "        self.transform = transform\n",
    "    def __len__(self):\n",
    "        df = pd.read_csv(self.csv_path)\n",
    "        return (len(df.index))\n",
    "    def __getitem__(self, idx):\n",
    "        image_id = \"ISIC_00\" + str(idx+26306)\n",
    "        image_file_name = image_id + \".jpg\"\n",
    "        df = pd.read_csv(self.csv_path)\n",
    "        label = disease_to_label(str(df.loc[df['image_id'] == image_id, 'dx'].item()))\n",
    "        p = os.path.join(self.train_path, image_file_name)\n",
    "\n",
    "        img = plt.imread(p)\n",
    "\n",
    "\n",
    "        if self.transform:\n",
    "            img = self.transform(img)\n",
    "        \n",
    "        return img, label\n",
    "    \n",
    "class SkinCancerDetection_test(Dataset):\n",
    "    \n",
    "    def __init__(self, test_path, csv, transform=None):\n",
    "        self.test_path = test_path\n",
    "        self.csv_path = csv\n",
    "        self.transform = transform\n",
    "    def __len__(self):\n",
    "        df = pd.read_csv(self.csv_path)\n",
    "        return (len(df.index))\n",
    "    def __getitem__(self, idx):\n",
    "        image_id = \"ISIC_00\" + str(idx+24306)\n",
    "        image_file_name = image_id + \".jpg\"\n",
    "        df = pd.read_csv(self.csv_path)\n",
    "        label = disease_to_label(str(df.loc[df['image_id'] == image_id, 'dx'].item()))\n",
    "        \n",
    "        p = os.path.join(self.test_path, image_file_name)\n",
    "        \n",
    "        img = plt.imread(p)\n",
    "            \n",
    "        if self.transform:\n",
    "            img = self.transform(img)\n",
    "        \n",
    "        return img, label"
   ]
  },
  {
   "cell_type": "code",
   "execution_count": 8,
   "id": "f4b7bce6",
   "metadata": {
    "id": "f4b7bce6"
   },
   "outputs": [],
   "source": [
    "train_transform = transforms.Compose([\n",
    "            transforms.ToPILImage(),\n",
    "            transforms.RandomHorizontalFlip(),\n",
    "            transforms.RandomVerticalFlip(),\n",
    "            transforms.RandomApply(torch.nn.ModuleList([transforms.ColorJitter()]), p=0.25),\n",
    "            transforms.Resize(256),\n",
    "            transforms.CenterCrop(224),\n",
    "            transforms.ToTensor(),\n",
    "            transforms.Normalize(timm.data.IMAGENET_DEFAULT_MEAN, timm.data.IMAGENET_DEFAULT_STD), # imagenet means\n",
    "            transforms.RandomErasing(p=0.1, value='random')\n",
    "        ])\n",
    "\n",
    "test_transform = transforms.Compose([\n",
    "    transforms.ToPILImage(),\n",
    "    transforms.Resize(256),\n",
    "    transforms.CenterCrop(224),\n",
    "    transforms.ToTensor(),\n",
    "    transforms.Normalize(timm.data.IMAGENET_DEFAULT_MEAN, timm.data.IMAGENET_DEFAULT_STD) # imagenet means\n",
    "])\n",
    "\n",
    "train_ds = SkinCancerDetection_train('../../kaggle/input/HAM10000_images_train_8000','../../kaggle/input/HAM10000_metadata_train_8000.csv',transform=train_transform)\n",
    "val_ds = SkinCancerDetection_test('../../kaggle/input/HAM10000_images_test_2000','../../kaggle/input/HAM10000_metadata_test_2000.csv',transform=test_transform)"
   ]
  },
  {
   "cell_type": "markdown",
   "id": "pCsGdkRD4bta",
   "metadata": {
    "id": "pCsGdkRD4bta"
   },
   "source": [
    "## Split train and validation dataset\n",
    "- batch_size = 128 (train_dl=128; valid_dl=256)\n",
    "\n"
   ]
  },
  {
   "cell_type": "code",
   "execution_count": 9,
   "id": "61470144",
   "metadata": {
    "colab": {
     "base_uri": "https://localhost:8080/",
     "height": 305
    },
    "executionInfo": {
     "elapsed": 66945,
     "status": "ok",
     "timestamp": 1659976933932,
     "user": {
      "displayName": "JUJIE YANG",
      "userId": "07067934053918991332"
     },
     "user_tz": -60
    },
    "id": "61470144",
    "outputId": "5dcd0f44-cfc8-4abe-d2ce-1c57b5dd4249"
   },
   "outputs": [
    {
     "name": "stderr",
     "output_type": "stream",
     "text": [
      "Clipping input data to the valid range for imshow with RGB data ([0..1] for floats or [0..255] for integers).\n"
     ]
    },
    {
     "name": "stdout",
     "output_type": "stream",
     "text": [
      "<class 'torch.Tensor'>\n"
     ]
    },
    {
     "data": {
      "image/png": "[encoded data removed]",
      "text/plain": [
       "<Figure size 432x288 with 1 Axes>"
      ]
     },
     "metadata": {
      "needs_background": "light"
     },
     "output_type": "display_data"
    },
    {
     "name": "stdout",
     "output_type": "stream",
     "text": [
      "tensor(4)\n"
     ]
    }
   ],
   "source": [
    "import os\n",
    "import torch\n",
    "import torchvision\n",
    "import tarfile\n",
    "from torchvision.datasets.utils import download_url\n",
    "from torch.utils.data import random_split\n",
    "from torch.utils.data import DataLoader\n",
    "\n",
    "import matplotlib\n",
    "import matplotlib.pyplot as plt\n",
    "%matplotlib inline\n",
    "\n",
    "random_seed = 42\n",
    "torch.manual_seed(random_seed)\n",
    "\n",
    "# batch_size = 128\n",
    "batch_size = 64\n",
    "\n",
    "# val_size = int(0.2*len(dataset))\n",
    "# train_size = len(dataset) - val_size\n",
    "\n",
    "# train_ds, val_ds = random_split(dataset, [train_size, val_size])\n",
    "# len(train_ds), len(val_ds)\n",
    "\n",
    "train_dl = DataLoader(train_ds, batch_size, shuffle=True, num_workers=2, pin_memory=True)\n",
    "valid_dl = DataLoader(val_ds, batch_size*2, num_workers=2, pin_memory=True)\n",
    "\n",
    "plt.figure()\n",
    "\n",
    "for image, label in train_dl:\n",
    "    plt.imshow(image[0].permute(2, 1, 0))\n",
    "    print(type(image[0]))\n",
    "    plt.show()\n",
    "    print(label[0])\n",
    "    break"
   ]
  },
  {
   "cell_type": "code",
   "execution_count": 10,
   "id": "f48baac7",
   "metadata": {
    "id": "f48baac7"
   },
   "outputs": [],
   "source": [
    "def get_default_device():\n",
    "    \"\"\"Pick GPU if available, else CPU\"\"\"\n",
    "    if torch.cuda.is_available():\n",
    "        return torch.device('cuda')\n",
    "    else:\n",
    "        return torch.device('cpu')\n",
    "    \n",
    "def to_device(data, device):\n",
    "    \"\"\"Move tensor(s) to chosen device\"\"\"\n",
    "    if isinstance(data, (list,tuple)):\n",
    "        return [to_device(x, device) for x in data]\n",
    "    return data.to(device, non_blocking=True)\n",
    "\n",
    "class DeviceDataLoader():\n",
    "    \"\"\"Wrap a dataloader to move data to a device\"\"\"\n",
    "    def __init__(self, dl, device):\n",
    "        self.dl = dl\n",
    "        self.device = device\n",
    "        \n",
    "    def __iter__(self):\n",
    "        \"\"\"Yield a batch of data after moving it to device\"\"\"\n",
    "        for b in self.dl: \n",
    "            yield to_device(b, self.device)\n",
    "\n",
    "    def __len__(self):\n",
    "        \"\"\"Number of batches\"\"\"\n",
    "        return len(self.dl)\n",
    "device = get_default_device()\n",
    "train_dl = DeviceDataLoader(train_dl, device)\n",
    "valid_dl = DeviceDataLoader(valid_dl, device)"
   ]
  },
  {
   "cell_type": "code",
   "execution_count": 11,
   "id": "0e67c020",
   "metadata": {
    "id": "0e67c020"
   },
   "outputs": [],
   "source": [
    "import os\n",
    "import torch\n",
    "import torchvision\n",
    "import tarfile\n",
    "import torch.nn as nn\n",
    "import numpy as np\n",
    "import torch.nn.functional as F\n",
    "from torchvision.datasets.utils import download_url\n",
    "from torchvision.datasets import ImageFolder\n",
    "from torch.utils.data import DataLoader\n",
    "import torchvision.transforms as tt\n",
    "from torch.utils.data import random_split\n",
    "from torchvision.utils import make_grid\n",
    "import matplotlib\n",
    "import matplotlib.pyplot as plt\n",
    "%matplotlib inline\n",
    "\n",
    "def accuracy(outputs, labels):\n",
    "    _, preds = torch.max(outputs, dim=1)\n",
    "    return torch.tensor(torch.sum(preds == labels).item() / len(preds))\n",
    "\n"
   ]
  },
  {
   "cell_type": "code",
   "execution_count": 12,
   "id": "ChVCMaU6I5IL",
   "metadata": {
    "colab": {
     "base_uri": "https://localhost:8080/",
     "height": 105,
     "referenced_widgets": [
      "8359d77ede744ca99cb9bc6341c814b9",
      "d7dd04e34d7b4caf9067b525a36beff1",
      "3553af12e98e4002a14b92dc83e437f1",
      "d1b4ed7261304f8d91382ecae82c10d3",
      "6125da89ca7b425f9efff9157bad3101",
      "5ef6465adba34049b214f6ad9b831e9b",
      "1242b62da14e4f45b1ad7796554a5b69",
      "9d23bd0a57e74edfac0d8e04ed8efce3",
      "6520689c1d804babac65d0e93d5c55ab",
      "ba322e8a29a94b8b838a7c09e79feebc",
      "5778a789ba9547d18d6d2c228d9fbb54"
     ]
    },
    "executionInfo": {
     "elapsed": 1823,
     "status": "ok",
     "timestamp": 1659976936070,
     "user": {
      "displayName": "JUJIE YANG",
      "userId": "07067934053918991332"
     },
     "user_tz": -60
    },
    "id": "ChVCMaU6I5IL",
    "outputId": "836a459c-24e8-49c4-c376-897b294df0b2"
   },
   "outputs": [
    {
     "name": "stderr",
     "output_type": "stream",
     "text": [
      "Using cache found in /home/jujie/.cache/torch/hub/facebookresearch_deit_main\n"
     ]
    }
   ],
   "source": [
    "deit_tiny_patch16_224 = torch.hub.load('facebookresearch/deit:main', 'deit_tiny_patch16_224', pretrained=True)"
   ]
  },
  {
   "cell_type": "code",
   "execution_count": 13,
   "id": "61d8c2b3",
   "metadata": {
    "colab": {
     "base_uri": "https://localhost:8080/"
    },
    "executionInfo": {
     "elapsed": 426,
     "status": "ok",
     "timestamp": 1659976936493,
     "user": {
      "displayName": "JUJIE YANG",
      "userId": "07067934053918991332"
     },
     "user_tz": -60
    },
    "id": "61d8c2b3",
    "outputId": "6af1404e-eac2-4bf6-f0f2-e6a02ba236fa"
   },
   "outputs": [
    {
     "data": {
      "text/plain": [
       "VisionTransformer(\n",
       "  (patch_embed): PatchEmbed(\n",
       "    (proj): Conv2d(3, 192, kernel_size=(16, 16), stride=(16, 16))\n",
       "    (norm): Identity()\n",
       "  )\n",
       "  (pos_drop): Dropout(p=0.0, inplace=False)\n",
       "  (blocks): Sequential(\n",
       "    (0): Block(\n",
       "      (norm1): LayerNorm((192,), eps=1e-06, elementwise_affine=True)\n",
       "      (attn): Attention(\n",
       "        (qkv): Linear(in_features=192, out_features=576, bias=True)\n",
       "        (attn_drop): Dropout(p=0.0, inplace=False)\n",
       "        (proj): Linear(in_features=192, out_features=192, bias=True)\n",
       "        (proj_drop): Dropout(p=0.0, inplace=False)\n",
       "      )\n",
       "      (ls1): Identity()\n",
       "      (drop_path1): Identity()\n",
       "      (norm2): LayerNorm((192,), eps=1e-06, elementwise_affine=True)\n",
       "      (mlp): Mlp(\n",
       "        (fc1): Linear(in_features=192, out_features=768, bias=True)\n",
       "        (act): GELU(approximate=none)\n",
       "        (drop1): Dropout(p=0.0, inplace=False)\n",
       "        (fc2): Linear(in_features=768, out_features=192, bias=True)\n",
       "        (drop2): Dropout(p=0.0, inplace=False)\n",
       "      )\n",
       "      (ls2): Identity()\n",
       "      (drop_path2): Identity()\n",
       "    )\n",
       "    (1): Block(\n",
       "      (norm1): LayerNorm((192,), eps=1e-06, elementwise_affine=True)\n",
       "      (attn): Attention(\n",
       "        (qkv): Linear(in_features=192, out_features=576, bias=True)\n",
       "        (attn_drop): Dropout(p=0.0, inplace=False)\n",
       "        (proj): Linear(in_features=192, out_features=192, bias=True)\n",
       "        (proj_drop): Dropout(p=0.0, inplace=False)\n",
       "      )\n",
       "      (ls1): Identity()\n",
       "      (drop_path1): Identity()\n",
       "      (norm2): LayerNorm((192,), eps=1e-06, elementwise_affine=True)\n",
       "      (mlp): Mlp(\n",
       "        (fc1): Linear(in_features=192, out_features=768, bias=True)\n",
       "        (act): GELU(approximate=none)\n",
       "        (drop1): Dropout(p=0.0, inplace=False)\n",
       "        (fc2): Linear(in_features=768, out_features=192, bias=True)\n",
       "        (drop2): Dropout(p=0.0, inplace=False)\n",
       "      )\n",
       "      (ls2): Identity()\n",
       "      (drop_path2): Identity()\n",
       "    )\n",
       "    (2): Block(\n",
       "      (norm1): LayerNorm((192,), eps=1e-06, elementwise_affine=True)\n",
       "      (attn): Attention(\n",
       "        (qkv): Linear(in_features=192, out_features=576, bias=True)\n",
       "        (attn_drop): Dropout(p=0.0, inplace=False)\n",
       "        (proj): Linear(in_features=192, out_features=192, bias=True)\n",
       "        (proj_drop): Dropout(p=0.0, inplace=False)\n",
       "      )\n",
       "      (ls1): Identity()\n",
       "      (drop_path1): Identity()\n",
       "      (norm2): LayerNorm((192,), eps=1e-06, elementwise_affine=True)\n",
       "      (mlp): Mlp(\n",
       "        (fc1): Linear(in_features=192, out_features=768, bias=True)\n",
       "        (act): GELU(approximate=none)\n",
       "        (drop1): Dropout(p=0.0, inplace=False)\n",
       "        (fc2): Linear(in_features=768, out_features=192, bias=True)\n",
       "        (drop2): Dropout(p=0.0, inplace=False)\n",
       "      )\n",
       "      (ls2): Identity()\n",
       "      (drop_path2): Identity()\n",
       "    )\n",
       "    (3): Block(\n",
       "      (norm1): LayerNorm((192,), eps=1e-06, elementwise_affine=True)\n",
       "      (attn): Attention(\n",
       "        (qkv): Linear(in_features=192, out_features=576, bias=True)\n",
       "        (attn_drop): Dropout(p=0.0, inplace=False)\n",
       "        (proj): Linear(in_features=192, out_features=192, bias=True)\n",
       "        (proj_drop): Dropout(p=0.0, inplace=False)\n",
       "      )\n",
       "      (ls1): Identity()\n",
       "      (drop_path1): Identity()\n",
       "      (norm2): LayerNorm((192,), eps=1e-06, elementwise_affine=True)\n",
       "      (mlp): Mlp(\n",
       "        (fc1): Linear(in_features=192, out_features=768, bias=True)\n",
       "        (act): GELU(approximate=none)\n",
       "        (drop1): Dropout(p=0.0, inplace=False)\n",
       "        (fc2): Linear(in_features=768, out_features=192, bias=True)\n",
       "        (drop2): Dropout(p=0.0, inplace=False)\n",
       "      )\n",
       "      (ls2): Identity()\n",
       "      (drop_path2): Identity()\n",
       "    )\n",
       "    (4): Block(\n",
       "      (norm1): LayerNorm((192,), eps=1e-06, elementwise_affine=True)\n",
       "      (attn): Attention(\n",
       "        (qkv): Linear(in_features=192, out_features=576, bias=True)\n",
       "        (attn_drop): Dropout(p=0.0, inplace=False)\n",
       "        (proj): Linear(in_features=192, out_features=192, bias=True)\n",
       "        (proj_drop): Dropout(p=0.0, inplace=False)\n",
       "      )\n",
       "      (ls1): Identity()\n",
       "      (drop_path1): Identity()\n",
       "      (norm2): LayerNorm((192,), eps=1e-06, elementwise_affine=True)\n",
       "      (mlp): Mlp(\n",
       "        (fc1): Linear(in_features=192, out_features=768, bias=True)\n",
       "        (act): GELU(approximate=none)\n",
       "        (drop1): Dropout(p=0.0, inplace=False)\n",
       "        (fc2): Linear(in_features=768, out_features=192, bias=True)\n",
       "        (drop2): Dropout(p=0.0, inplace=False)\n",
       "      )\n",
       "      (ls2): Identity()\n",
       "      (drop_path2): Identity()\n",
       "    )\n",
       "    (5): Block(\n",
       "      (norm1): LayerNorm((192,), eps=1e-06, elementwise_affine=True)\n",
       "      (attn): Attention(\n",
       "        (qkv): Linear(in_features=192, out_features=576, bias=True)\n",
       "        (attn_drop): Dropout(p=0.0, inplace=False)\n",
       "        (proj): Linear(in_features=192, out_features=192, bias=True)\n",
       "        (proj_drop): Dropout(p=0.0, inplace=False)\n",
       "      )\n",
       "      (ls1): Identity()\n",
       "      (drop_path1): Identity()\n",
       "      (norm2): LayerNorm((192,), eps=1e-06, elementwise_affine=True)\n",
       "      (mlp): Mlp(\n",
       "        (fc1): Linear(in_features=192, out_features=768, bias=True)\n",
       "        (act): GELU(approximate=none)\n",
       "        (drop1): Dropout(p=0.0, inplace=False)\n",
       "        (fc2): Linear(in_features=768, out_features=192, bias=True)\n",
       "        (drop2): Dropout(p=0.0, inplace=False)\n",
       "      )\n",
       "      (ls2): Identity()\n",
       "      (drop_path2): Identity()\n",
       "    )\n",
       "    (6): Block(\n",
       "      (norm1): LayerNorm((192,), eps=1e-06, elementwise_affine=True)\n",
       "      (attn): Attention(\n",
       "        (qkv): Linear(in_features=192, out_features=576, bias=True)\n",
       "        (attn_drop): Dropout(p=0.0, inplace=False)\n",
       "        (proj): Linear(in_features=192, out_features=192, bias=True)\n",
       "        (proj_drop): Dropout(p=0.0, inplace=False)\n",
       "      )\n",
       "      (ls1): Identity()\n",
       "      (drop_path1): Identity()\n",
       "      (norm2): LayerNorm((192,), eps=1e-06, elementwise_affine=True)\n",
       "      (mlp): Mlp(\n",
       "        (fc1): Linear(in_features=192, out_features=768, bias=True)\n",
       "        (act): GELU(approximate=none)\n",
       "        (drop1): Dropout(p=0.0, inplace=False)\n",
       "        (fc2): Linear(in_features=768, out_features=192, bias=True)\n",
       "        (drop2): Dropout(p=0.0, inplace=False)\n",
       "      )\n",
       "      (ls2): Identity()\n",
       "      (drop_path2): Identity()\n",
       "    )\n",
       "    (7): Block(\n",
       "      (norm1): LayerNorm((192,), eps=1e-06, elementwise_affine=True)\n",
       "      (attn): Attention(\n",
       "        (qkv): Linear(in_features=192, out_features=576, bias=True)\n",
       "        (attn_drop): Dropout(p=0.0, inplace=False)\n",
       "        (proj): Linear(in_features=192, out_features=192, bias=True)\n",
       "        (proj_drop): Dropout(p=0.0, inplace=False)\n",
       "      )\n",
       "      (ls1): Identity()\n",
       "      (drop_path1): Identity()\n",
       "      (norm2): LayerNorm((192,), eps=1e-06, elementwise_affine=True)\n",
       "      (mlp): Mlp(\n",
       "        (fc1): Linear(in_features=192, out_features=768, bias=True)\n",
       "        (act): GELU(approximate=none)\n",
       "        (drop1): Dropout(p=0.0, inplace=False)\n",
       "        (fc2): Linear(in_features=768, out_features=192, bias=True)\n",
       "        (drop2): Dropout(p=0.0, inplace=False)\n",
       "      )\n",
       "      (ls2): Identity()\n",
       "      (drop_path2): Identity()\n",
       "    )\n",
       "    (8): Block(\n",
       "      (norm1): LayerNorm((192,), eps=1e-06, elementwise_affine=True)\n",
       "      (attn): Attention(\n",
       "        (qkv): Linear(in_features=192, out_features=576, bias=True)\n",
       "        (attn_drop): Dropout(p=0.0, inplace=False)\n",
       "        (proj): Linear(in_features=192, out_features=192, bias=True)\n",
       "        (proj_drop): Dropout(p=0.0, inplace=False)\n",
       "      )\n",
       "      (ls1): Identity()\n",
       "      (drop_path1): Identity()\n",
       "      (norm2): LayerNorm((192,), eps=1e-06, elementwise_affine=True)\n",
       "      (mlp): Mlp(\n",
       "        (fc1): Linear(in_features=192, out_features=768, bias=True)\n",
       "        (act): GELU(approximate=none)\n",
       "        (drop1): Dropout(p=0.0, inplace=False)\n",
       "        (fc2): Linear(in_features=768, out_features=192, bias=True)\n",
       "        (drop2): Dropout(p=0.0, inplace=False)\n",
       "      )\n",
       "      (ls2): Identity()\n",
       "      (drop_path2): Identity()\n",
       "    )\n",
       "    (9): Block(\n",
       "      (norm1): LayerNorm((192,), eps=1e-06, elementwise_affine=True)\n",
       "      (attn): Attention(\n",
       "        (qkv): Linear(in_features=192, out_features=576, bias=True)\n",
       "        (attn_drop): Dropout(p=0.0, inplace=False)\n",
       "        (proj): Linear(in_features=192, out_features=192, bias=True)\n",
       "        (proj_drop): Dropout(p=0.0, inplace=False)\n",
       "      )\n",
       "      (ls1): Identity()\n",
       "      (drop_path1): Identity()\n",
       "      (norm2): LayerNorm((192,), eps=1e-06, elementwise_affine=True)\n",
       "      (mlp): Mlp(\n",
       "        (fc1): Linear(in_features=192, out_features=768, bias=True)\n",
       "        (act): GELU(approximate=none)\n",
       "        (drop1): Dropout(p=0.0, inplace=False)\n",
       "        (fc2): Linear(in_features=768, out_features=192, bias=True)\n",
       "        (drop2): Dropout(p=0.0, inplace=False)\n",
       "      )\n",
       "      (ls2): Identity()\n",
       "      (drop_path2): Identity()\n",
       "    )\n",
       "    (10): Block(\n",
       "      (norm1): LayerNorm((192,), eps=1e-06, elementwise_affine=True)\n",
       "      (attn): Attention(\n",
       "        (qkv): Linear(in_features=192, out_features=576, bias=True)\n",
       "        (attn_drop): Dropout(p=0.0, inplace=False)\n",
       "        (proj): Linear(in_features=192, out_features=192, bias=True)\n",
       "        (proj_drop): Dropout(p=0.0, inplace=False)\n",
       "      )\n",
       "      (ls1): Identity()\n",
       "      (drop_path1): Identity()\n",
       "      (norm2): LayerNorm((192,), eps=1e-06, elementwise_affine=True)\n",
       "      (mlp): Mlp(\n",
       "        (fc1): Linear(in_features=192, out_features=768, bias=True)\n",
       "        (act): GELU(approximate=none)\n",
       "        (drop1): Dropout(p=0.0, inplace=False)\n",
       "        (fc2): Linear(in_features=768, out_features=192, bias=True)\n",
       "        (drop2): Dropout(p=0.0, inplace=False)\n",
       "      )\n",
       "      (ls2): Identity()\n",
       "      (drop_path2): Identity()\n",
       "    )\n",
       "    (11): Block(\n",
       "      (norm1): LayerNorm((192,), eps=1e-06, elementwise_affine=True)\n",
       "      (attn): Attention(\n",
       "        (qkv): Linear(in_features=192, out_features=576, bias=True)\n",
       "        (attn_drop): Dropout(p=0.0, inplace=False)\n",
       "        (proj): Linear(in_features=192, out_features=192, bias=True)\n",
       "        (proj_drop): Dropout(p=0.0, inplace=False)\n",
       "      )\n",
       "      (ls1): Identity()\n",
       "      (drop_path1): Identity()\n",
       "      (norm2): LayerNorm((192,), eps=1e-06, elementwise_affine=True)\n",
       "      (mlp): Mlp(\n",
       "        (fc1): Linear(in_features=192, out_features=768, bias=True)\n",
       "        (act): GELU(approximate=none)\n",
       "        (drop1): Dropout(p=0.0, inplace=False)\n",
       "        (fc2): Linear(in_features=768, out_features=192, bias=True)\n",
       "        (drop2): Dropout(p=0.0, inplace=False)\n",
       "      )\n",
       "      (ls2): Identity()\n",
       "      (drop_path2): Identity()\n",
       "    )\n",
       "  )\n",
       "  (norm): LayerNorm((192,), eps=1e-06, elementwise_affine=True)\n",
       "  (fc_norm): Identity()\n",
       "  (head): Linear(in_features=192, out_features=1000, bias=True)\n",
       ")"
      ]
     },
     "execution_count": 13,
     "metadata": {},
     "output_type": "execute_result"
    }
   ],
   "source": [
    "model = to_device(deit_tiny_patch16_224, device)\n",
    "model"
   ]
  },
  {
   "cell_type": "code",
   "execution_count": 14,
   "id": "kM5MtHQoMIk3",
   "metadata": {
    "id": "kM5MtHQoMIk3"
   },
   "outputs": [],
   "source": [
    "from sklearn.metrics import precision_recall_fscore_support\n",
    "\n",
    "# class ImageClassificationBase(nn.Module):\n",
    "device = torch.device('cuda' if torch.cuda.is_available() else 'cpu')\n",
    "def training_step(criterion, model,batch):\n",
    "    images, labels = batch \n",
    "    \n",
    "#     -------- We gonna use LabelSmoothingCrossEntropy instead of cross entropy ---------\n",
    "    out = model(images)                  # Generate predictions\n",
    "    loss = criterion(out, labels)  # criterion is already to device GPU\n",
    "    return loss\n",
    "\n",
    "def validation_step(criterion, model,batch):\n",
    "    images, labels = batch \n",
    "    out = model(images)                    # Generate predictions\n",
    "    loss = criterion(out, labels)   # Calculate loss\n",
    "    acc = accuracy(out, labels)           # Calculate accuracy (return a tensor)\n",
    "    \n",
    "#     ------------------- calculate fscore for each batch ----------------\n",
    "    _, y_preds = torch.max(out, dim=1)    \n",
    "    threeMetrics = precision_recall_fscore_support(torch.Tensor.cpu(labels), torch.Tensor.cpu(y_preds), average=None,labels=[i for i in range(7)])\n",
    "    fscore = torch.tensor(threeMetrics[2]) # fscore (return a tensor of a list: tensor([1,2,3]))\n",
    "\n",
    "    return {'val_loss': loss.detach(), 'val_acc': acc, 'val_fscore': fscore}\n",
    "    \n",
    "def validation_epoch_end(outputs):\n",
    "    batch_losses = [x['val_loss'] for x in outputs] \n",
    "    epoch_loss = torch.stack(batch_losses).mean()   # Combine losses (mean loss for n batches)\n",
    "    \n",
    "    batch_accs = [x['val_acc'] for x in outputs]   # [ each element is a tensor ]\n",
    "    epoch_acc = torch.stack(batch_accs).mean()      # Combine accuracies (mean acc for n batches)\n",
    "    \n",
    "    batch_fscores = [x['val_fscore'] for x in outputs] \n",
    "    epoch_fscore = torch.stack(batch_fscores).mean(0)\n",
    "\n",
    "    return {'val_loss': epoch_loss.item(), 'val_acc': epoch_acc.item(), 'val_fscore': epoch_fscore.tolist()}\n",
    "\n",
    "def epoch_end(epoch, result):\n",
    "    print(\"Epoch [{}], train_loss: {:.4f}, val_loss: {:.4f}, val_acc: {:.4f}, val_fscore: {} \".format(\n",
    "        epoch, result['train_loss'], result['val_loss'], result['val_acc'], result['val_fscore']))"
   ]
  },
  {
   "cell_type": "code",
   "execution_count": 15,
   "id": "38cde5c3",
   "metadata": {
    "id": "38cde5c3"
   },
   "outputs": [],
   "source": [
    "criterion = LabelSmoothingCrossEntropy()\n",
    "criterion = criterion.to(device)\n",
    "\n",
    "# optimizer = torch.optim.AdamW(model.parameters(), lr=0.001)\n",
    "optimizer = torch.optim.AdamW(model.parameters(), lr=5e-4, eps=1e-8, weight_decay=0.05)"
   ]
  },
  {
   "cell_type": "code",
   "execution_count": 16,
   "id": "2c06ebd3",
   "metadata": {
    "id": "2c06ebd3"
   },
   "outputs": [],
   "source": [
    "@torch.no_grad()\n",
    "def evaluate(criterion, model, val_loader):\n",
    "    model.eval()\n",
    "    outputs = [validation_step(criterion, model, batch) for batch in val_loader]\n",
    "    return validation_epoch_end(outputs) # outputs = []\n",
    "\n",
    "def fit_one_cycle(num_epochs, model, train_loader, val_loader, optimizer, criterion):\n",
    "    torch.cuda.empty_cache()\n",
    "    history = []\n",
    "\n",
    "    # sched = torch.optim.lr_scheduler.StepLR(optimizer, step_size=3, gamma=0.97)\n",
    "    sched = torch.optim.lr_scheduler.CosineAnnealingLR(optimizer, T_max=10, eta_min=1e-5)\n",
    "\n",
    "    for epoch in range(num_epochs):\n",
    "        # Training Phase \n",
    "        model.train()\n",
    "        train_losses = []\n",
    "        for batch in train_loader:\n",
    "            loss = training_step(criterion,model,batch)\n",
    "            train_losses.append(loss)\n",
    "            loss.backward()\n",
    "            \n",
    "            optimizer.step()\n",
    "            optimizer.zero_grad()\n",
    "\n",
    "            sched.step()\n",
    "        \n",
    "        # Validation phase\n",
    "        result = evaluate(criterion, model, val_loader)\n",
    "        result['train_loss'] = torch.stack(train_losses).mean().item()\n",
    "        epoch_end(epoch, result)\n",
    "        history.append(result)\n",
    "    return history"
   ]
  },
  {
   "cell_type": "code",
   "execution_count": 17,
   "id": "Ew-bhVRXKf-d",
   "metadata": {
    "id": "Ew-bhVRXKf-d"
   },
   "outputs": [],
   "source": [
    "# remove warnings\n",
    "import warnings\n",
    "warnings.filterwarnings(\"ignore\")"
   ]
  },
  {
   "cell_type": "code",
   "execution_count": 18,
   "id": "836a5eed",
   "metadata": {
    "colab": {
     "base_uri": "https://localhost:8080/"
    },
    "executionInfo": {
     "elapsed": 406097,
     "status": "ok",
     "timestamp": 1659977342585,
     "user": {
      "displayName": "JUJIE YANG",
      "userId": "07067934053918991332"
     },
     "user_tz": -60
    },
    "id": "836a5eed",
    "outputId": "0d3d840e-3896-47e0-a189-b2589bc10c0e"
   },
   "outputs": [
    {
     "data": {
      "text/plain": [
       "[{'val_loss': 5.349807262420654,\n",
       "  'val_acc': 0.04335937649011612,\n",
       "  'val_fscore': [0.0, 0.0, 0.0, 0.0, 0.0, 0.1129464323720985, 0.0]}]"
      ]
     },
     "execution_count": 18,
     "metadata": {},
     "output_type": "execute_result"
    }
   ],
   "source": [
    "history = [evaluate(criterion, model, valid_dl)]\n",
    "history"
   ]
  },
  {
   "cell_type": "code",
   "execution_count": 19,
   "id": "a47ed2b1",
   "metadata": {
    "id": "a47ed2b1",
    "outputId": "c96a4e7c-8344-4b68-af38-016c54bccf81"
   },
   "outputs": [
    {
     "name": "stdout",
     "output_type": "stream",
     "text": [
      "Epoch [0], train_loss: 1.9468, val_loss: 1.6873, val_acc: 0.7354, val_fscore: [0.0, 0.4240313755087362, 0.46011710602719785, 0.0, 0.09935203685203686, 0.8771609463937724, 0.0] \n",
      "Epoch [1], train_loss: 1.7082, val_loss: 1.5965, val_acc: 0.7698, val_fscore: [0.33906024531024526, 0.4818995684398161, 0.5299483455251639, 0.0, 0.14691527029472076, 0.8937746653307783, 0.6041666666666666] \n",
      "Epoch [2], train_loss: 1.6167, val_loss: 1.5149, val_acc: 0.7853, val_fscore: [0.2974702380952381, 0.5519052893741193, 0.48575113669543013, 0.03125, 0.36786979467900516, 0.9013019272411011, 0.6458333333333333] \n",
      "Epoch [3], train_loss: 1.5639, val_loss: 1.5590, val_acc: 0.7747, val_fscore: [0.5142721861471862, 0.5572609668677444, 0.5700096731784994, 0.0, 0.46886865495254115, 0.8910140737867198, 0.32575757575757575] \n",
      "Epoch [4], train_loss: 1.5303, val_loss: 1.4999, val_acc: 0.8090, val_fscore: [0.4001391700404858, 0.5731965585584007, 0.5998545925438578, 0.0, 0.40188747226285926, 0.9123219284930146, 0.5952380952380952] \n",
      "Epoch [5], train_loss: 1.4844, val_loss: 1.5168, val_acc: 0.8010, val_fscore: [0.32036860198624906, 0.6012460839598998, 0.5257338581572545, 0.18958333333333333, 0.23212552357772945, 0.9037775779414652, 0.7791666666666667] \n",
      "Epoch [6], train_loss: 1.4595, val_loss: 1.5162, val_acc: 0.8037, val_fscore: [0.27569444444444446, 0.6089422809891161, 0.5940703326887538, 0.3052083333333333, 0.4774482028057543, 0.9168758149400444, 0.7145833333333333] \n",
      "Epoch [7], train_loss: 1.4273, val_loss: 1.4876, val_acc: 0.8066, val_fscore: [0.40979090354090353, 0.6025006243756243, 0.5666470142597053, 0.18541666666666667, 0.37758692492148377, 0.9011766089919742, 0.7077380952380952] \n"
     ]
    }
   ],
   "source": [
    "num_epochs=8\n",
    "history += fit_one_cycle(num_epochs, model, train_dl, valid_dl, optimizer, criterion)"
   ]
  },
  {
   "cell_type": "code",
   "execution_count": 20,
   "id": "ec6ed3f2",
   "metadata": {
    "id": "ec6ed3f2",
    "outputId": "8ab155cc-2df1-4597-e7fb-c1a31f0f4fc1"
   },
   "outputs": [
    {
     "name": "stdout",
     "output_type": "stream",
     "text": [
      "Epoch [0], train_loss: 1.4028, val_loss: 1.5018, val_acc: 0.8094, val_fscore: [0.3252567693744164, 0.6041748048133496, 0.6000658376746614, 0.3083333333333333, 0.42273284947336803, 0.9139340299826161, 0.7239583333333333] \n",
      "Epoch [1], train_loss: 1.3708, val_loss: 1.4812, val_acc: 0.8031, val_fscore: [0.3097357503607504, 0.5941832977123309, 0.4942619531746873, 0.23898809523809522, 0.4545028605967999, 0.9015182896219593, 0.7354166666666666] \n",
      "Epoch [2], train_loss: 1.3487, val_loss: 1.5084, val_acc: 0.8112, val_fscore: [0.4070175578205764, 0.6604046130168421, 0.5145360009371645, 0.3416666666666667, 0.46221990463358753, 0.917819818644191, 0.7645833333333334] \n",
      "Epoch [3], train_loss: 1.3255, val_loss: 1.5576, val_acc: 0.8046, val_fscore: [0.3053446553446553, 0.6066926859690018, 0.5375339070207892, 0.21666666666666667, 0.5354244598001368, 0.9139080916429543, 0.7322916666666666] \n"
     ]
    }
   ],
   "source": [
    "num_epochs=4\n",
    "history += fit_one_cycle(num_epochs, model, train_dl, valid_dl, optimizer, criterion)"
   ]
  },
  {
   "cell_type": "code",
   "execution_count": 21,
   "id": "0e0v3yKXmld-",
   "metadata": {
    "id": "0e0v3yKXmld-"
   },
   "outputs": [],
   "source": [
    "# num_epochs=2\n",
    "# history += fit_one_cycle(num_epochs, model, train_dl, valid_dl, optimizer, criterion)"
   ]
  },
  {
   "cell_type": "code",
   "execution_count": 22,
   "id": "47va3-wDmlDT",
   "metadata": {
    "id": "47va3-wDmlDT"
   },
   "outputs": [],
   "source": [
    "# num_epochs=4\n",
    "# history += fit_one_cycle(num_epochs, model, train_dl, valid_dl, optimizer, criterion)"
   ]
  },
  {
   "cell_type": "code",
   "execution_count": 23,
   "id": "ddcb09c5",
   "metadata": {
    "id": "ddcb09c5"
   },
   "outputs": [],
   "source": [
    "# torch.save(model.state_dict(), 'deit_tiny_patch16_224.pth')\n",
    "torch.save(model.state_dict(), '../../kaggle/ubuntu_save_model/ubuntu_sourceCode_size82_deit_tiny_patch16_224.pth')"
   ]
  },
  {
   "cell_type": "code",
   "execution_count": 24,
   "id": "be280df2",
   "metadata": {
    "id": "be280df2"
   },
   "outputs": [],
   "source": [
    "def plot_accuracies(history):\n",
    "    accuracies = [x['val_acc'] for x in history]\n",
    "    plt.plot(accuracies, '-x')\n",
    "    plt.xlabel('epoch')\n",
    "    plt.ylabel('accuracy')\n",
    "    plt.title('Accuracy vs. No. of epochs')\n",
    "def plot_losses(history):\n",
    "    train_losses = [x.get('train_loss') for x in history]\n",
    "    val_losses = [x['val_loss'] for x in history]\n",
    "    plt.plot(train_losses, '-bx')\n",
    "    plt.plot(val_losses, '-rx')\n",
    "    plt.xlabel('epoch')\n",
    "    plt.ylabel('loss')\n",
    "    plt.legend(['Training', 'Validation'])\n",
    "    plt.title('Loss vs. No. of epochs')"
   ]
  },
  {
   "cell_type": "code",
   "execution_count": 25,
   "id": "90844238",
   "metadata": {
    "colab": {
     "base_uri": "https://localhost:8080/",
     "height": 295
    },
    "executionInfo": {
     "elapsed": 680,
     "status": "ok",
     "timestamp": 1659983844444,
     "user": {
      "displayName": "JUJIE YANG",
      "userId": "07067934053918991332"
     },
     "user_tz": -60
    },
    "id": "90844238",
    "outputId": "ba9c6b5d-ae61-43d6-90f6-2414b5fe57e6"
   },
   "outputs": [
    {
     "data": {
      "image/png": "[encoded data removed]",
      "text/plain": [
       "<Figure size 432x288 with 1 Axes>"
      ]
     },
     "metadata": {
      "needs_background": "light"
     },
     "output_type": "display_data"
    }
   ],
   "source": [
    "plot_accuracies(history)"
   ]
  },
  {
   "cell_type": "code",
   "execution_count": 26,
   "id": "7056b789",
   "metadata": {
    "colab": {
     "base_uri": "https://localhost:8080/",
     "height": 295
    },
    "executionInfo": {
     "elapsed": 341,
     "status": "ok",
     "timestamp": 1659983845222,
     "user": {
      "displayName": "JUJIE YANG",
      "userId": "07067934053918991332"
     },
     "user_tz": -60
    },
    "id": "7056b789",
    "outputId": "20905be3-ea4c-421f-9314-74798b340480"
   },
   "outputs": [
    {
     "data": {
      "image/png": "[encoded data removed]",
      "text/plain": [
       "<Figure size 432x288 with 1 Axes>"
      ]
     },
     "metadata": {
      "needs_background": "light"
     },
     "output_type": "display_data"
    }
   ],
   "source": [
    "plot_losses(history)"
   ]
  },
  {
   "cell_type": "code",
   "execution_count": null,
   "id": "AcL5DHLOJje0",
   "metadata": {
    "id": "AcL5DHLOJje0"
   },
   "outputs": [],
   "source": []
  }
 ],
 "metadata": {
  "accelerator": "GPU",
  "colab": {
   "collapsed_sections": [],
   "name": "ubuntu_sourceCode_size82_deit_tiny_patch16_224.ipynb",
   "provenance": [
    {
     "file_id": "1bwApTqQr727UA55rWHILoPvxHxId8i2e",
     "timestamp": 1660479533792
    },
    {
     "file_id": "1NcFIoMe4Q5F4jPW8PWv7RY93EF-oi2Me",
     "timestamp": 1658701827649
    }
   ]
  },
  "gpuClass": "standard",
  "kernelspec": {
   "display_name": "Python 3 (ipykernel)",
   "language": "python",
   "name": "python3"
  },
  "language_info": {
   "codemirror_mode": {
    "name": "ipython",
    "version": 3
   },
   "file_extension": ".py",
   "mimetype": "text/x-python",
   "name": "python",
   "nbconvert_exporter": "python",
   "pygments_lexer": "ipython3",
   "version": "3.9.12"
  },
  "papermill": {
   "default_parameters": {},
   "duration": 4365.069848,
   "end_time": "2022-07-11T18:36:24.839486",
   "environment_variables": {},
   "exception": null,
   "input_path": "__notebook__.ipynb",
   "output_path": "__notebook__.ipynb",
   "parameters": {},
   "start_time": "2022-07-11T17:23:39.769638",
   "version": "2.3.4"
  },
  "widgets": {
   "application/vnd.jupyter.widget-state+json": {
    "1242b62da14e4f45b1ad7796554a5b69": {
     "model_module": "@jupyter-widgets/controls",
     "model_module_version": "1.5.0",
     "model_name": "DescriptionStyleModel",
     "state": {
      "_model_module": "@jupyter-widgets/controls",
      "_model_module_version": "1.5.0",
      "_model_name": "DescriptionStyleModel",
      "_view_count": null,
      "_view_module": "@jupyter-widgets/base",
      "_view_module_version": "1.2.0",
      "_view_name": "StyleView",
      "description_width": ""
     }
    },
    "3553af12e98e4002a14b92dc83e437f1": {
     "model_module": "@jupyter-widgets/controls",
     "model_module_version": "1.5.0",
     "model_name": "FloatProgressModel",
     "state": {
      "_dom_classes": [],
      "_model_module": "@jupyter-widgets/controls",
      "_model_module_version": "1.5.0",
      "_model_name": "FloatProgressModel",
      "_view_count": null,
      "_view_module": "@jupyter-widgets/controls",
      "_view_module_version": "1.5.0",
      "_view_name": "ProgressView",
      "bar_style": "success",
      "description": "",
      "description_tooltip": null,
      "layout": "IPY_MODEL_9d23bd0a57e74edfac0d8e04ed8efce3",
      "max": 22917895,
      "min": 0,
      "orientation": "horizontal",
      "style": "IPY_MODEL_6520689c1d804babac65d0e93d5c55ab",
      "value": 22917895
     }
    },
    "5778a789ba9547d18d6d2c228d9fbb54": {
     "model_module": "@jupyter-widgets/controls",
     "model_module_version": "1.5.0",
     "model_name": "DescriptionStyleModel",
     "state": {
      "_model_module": "@jupyter-widgets/controls",
      "_model_module_version": "1.5.0",
      "_model_name": "DescriptionStyleModel",
      "_view_count": null,
      "_view_module": "@jupyter-widgets/base",
      "_view_module_version": "1.2.0",
      "_view_name": "StyleView",
      "description_width": ""
     }
    },
    "5ef6465adba34049b214f6ad9b831e9b": {
     "model_module": "@jupyter-widgets/base",
     "model_module_version": "1.2.0",
     "model_name": "LayoutModel",
     "state": {
      "_model_module": "@jupyter-widgets/base",
      "_model_module_version": "1.2.0",
      "_model_name": "LayoutModel",
      "_view_count": null,
      "_view_module": "@jupyter-widgets/base",
      "_view_module_version": "1.2.0",
      "_view_name": "LayoutView",
      "align_content": null,
      "align_items": null,
      "align_self": null,
      "border": null,
      "bottom": null,
      "display": null,
      "flex": null,
      "flex_flow": null,
      "grid_area": null,
      "grid_auto_columns": null,
      "grid_auto_flow": null,
      "grid_auto_rows": null,
      "grid_column": null,
      "grid_gap": null,
      "grid_row": null,
      "grid_template_areas": null,
      "grid_template_columns": null,
      "grid_template_rows": null,
      "height": null,
      "justify_content": null,
      "justify_items": null,
      "left": null,
      "margin": null,
      "max_height": null,
      "max_width": null,
      "min_height": null,
      "min_width": null,
      "object_fit": null,
      "object_position": null,
      "order": null,
      "overflow": null,
      "overflow_x": null,
      "overflow_y": null,
      "padding": null,
      "right": null,
      "top": null,
      "visibility": null,
      "width": null
     }
    },
    "6125da89ca7b425f9efff9157bad3101": {
     "model_module": "@jupyter-widgets/base",
     "model_module_version": "1.2.0",
     "model_name": "LayoutModel",
     "state": {
      "_model_module": "@jupyter-widgets/base",
      "_model_module_version": "1.2.0",
      "_model_name": "LayoutModel",
      "_view_count": null,
      "_view_module": "@jupyter-widgets/base",
      "_view_module_version": "1.2.0",
      "_view_name": "LayoutView",
      "align_content": null,
      "align_items": null,
      "align_self": null,
      "border": null,
      "bottom": null,
      "display": null,
      "flex": null,
      "flex_flow": null,
      "grid_area": null,
      "grid_auto_columns": null,
      "grid_auto_flow": null,
      "grid_auto_rows": null,
      "grid_column": null,
      "grid_gap": null,
      "grid_row": null,
      "grid_template_areas": null,
      "grid_template_columns": null,
      "grid_template_rows": null,
      "height": null,
      "justify_content": null,
      "justify_items": null,
      "left": null,
      "margin": null,
      "max_height": null,
      "max_width": null,
      "min_height": null,
      "min_width": null,
      "object_fit": null,
      "object_position": null,
      "order": null,
      "overflow": null,
      "overflow_x": null,
      "overflow_y": null,
      "padding": null,
      "right": null,
      "top": null,
      "visibility": null,
      "width": null
     }
    },
    "6520689c1d804babac65d0e93d5c55ab": {
     "model_module": "@jupyter-widgets/controls",
     "model_module_version": "1.5.0",
     "model_name": "ProgressStyleModel",
     "state": {
      "_model_module": "@jupyter-widgets/controls",
      "_model_module_version": "1.5.0",
      "_model_name": "ProgressStyleModel",
      "_view_count": null,
      "_view_module": "@jupyter-widgets/base",
      "_view_module_version": "1.2.0",
      "_view_name": "StyleView",
      "bar_color": null,
      "description_width": ""
     }
    },
    "8359d77ede744ca99cb9bc6341c814b9": {
     "model_module": "@jupyter-widgets/controls",
     "model_module_version": "1.5.0",
     "model_name": "HBoxModel",
     "state": {
      "_dom_classes": [],
      "_model_module": "@jupyter-widgets/controls",
      "_model_module_version": "1.5.0",
      "_model_name": "HBoxModel",
      "_view_count": null,
      "_view_module": "@jupyter-widgets/controls",
      "_view_module_version": "1.5.0",
      "_view_name": "HBoxView",
      "box_style": "",
      "children": [
       "IPY_MODEL_d7dd04e34d7b4caf9067b525a36beff1",
       "IPY_MODEL_3553af12e98e4002a14b92dc83e437f1",
       "IPY_MODEL_d1b4ed7261304f8d91382ecae82c10d3"
      ],
      "layout": "IPY_MODEL_6125da89ca7b425f9efff9157bad3101"
     }
    },
    "9d23bd0a57e74edfac0d8e04ed8efce3": {
     "model_module": "@jupyter-widgets/base",
     "model_module_version": "1.2.0",
     "model_name": "LayoutModel",
     "state": {
      "_model_module": "@jupyter-widgets/base",
      "_model_module_version": "1.2.0",
      "_model_name": "LayoutModel",
      "_view_count": null,
      "_view_module": "@jupyter-widgets/base",
      "_view_module_version": "1.2.0",
      "_view_name": "LayoutView",
      "align_content": null,
      "align_items": null,
      "align_self": null,
      "border": null,
      "bottom": null,
      "display": null,
      "flex": null,
      "flex_flow": null,
      "grid_area": null,
      "grid_auto_columns": null,
      "grid_auto_flow": null,
      "grid_auto_rows": null,
      "grid_column": null,
      "grid_gap": null,
      "grid_row": null,
      "grid_template_areas": null,
      "grid_template_columns": null,
      "grid_template_rows": null,
      "height": null,
      "justify_content": null,
      "justify_items": null,
      "left": null,
      "margin": null,
      "max_height": null,
      "max_width": null,
      "min_height": null,
      "min_width": null,
      "object_fit": null,
      "object_position": null,
      "order": null,
      "overflow": null,
      "overflow_x": null,
      "overflow_y": null,
      "padding": null,
      "right": null,
      "top": null,
      "visibility": null,
      "width": null
     }
    },
    "ba322e8a29a94b8b838a7c09e79feebc": {
     "model_module": "@jupyter-widgets/base",
     "model_module_version": "1.2.0",
     "model_name": "LayoutModel",
     "state": {
      "_model_module": "@jupyter-widgets/base",
      "_model_module_version": "1.2.0",
      "_model_name": "LayoutModel",
      "_view_count": null,
      "_view_module": "@jupyter-widgets/base",
      "_view_module_version": "1.2.0",
      "_view_name": "LayoutView",
      "align_content": null,
      "align_items": null,
      "align_self": null,
      "border": null,
      "bottom": null,
      "display": null,
      "flex": null,
      "flex_flow": null,
      "grid_area": null,
      "grid_auto_columns": null,
      "grid_auto_flow": null,
      "grid_auto_rows": null,
      "grid_column": null,
      "grid_gap": null,
      "grid_row": null,
      "grid_template_areas": null,
      "grid_template_columns": null,
      "grid_template_rows": null,
      "height": null,
      "justify_content": null,
      "justify_items": null,
      "left": null,
      "margin": null,
      "max_height": null,
      "max_width": null,
      "min_height": null,
      "min_width": null,
      "object_fit": null,
      "object_position": null,
      "order": null,
      "overflow": null,
      "overflow_x": null,
      "overflow_y": null,
      "padding": null,
      "right": null,
      "top": null,
      "visibility": null,
      "width": null
     }
    },
    "d1b4ed7261304f8d91382ecae82c10d3": {
     "model_module": "@jupyter-widgets/controls",
     "model_module_version": "1.5.0",
     "model_name": "HTMLModel",
     "state": {
      "_dom_classes": [],
      "_model_module": "@jupyter-widgets/controls",
      "_model_module_version": "1.5.0",
      "_model_name": "HTMLModel",
      "_view_count": null,
      "_view_module": "@jupyter-widgets/controls",
      "_view_module_version": "1.5.0",
      "_view_name": "HTMLView",
      "description": "",
      "description_tooltip": null,
      "layout": "IPY_MODEL_ba322e8a29a94b8b838a7c09e79feebc",
      "placeholder": "​",
      "style": "IPY_MODEL_5778a789ba9547d18d6d2c228d9fbb54",
      "value": " 21.9M/21.9M [00:00&lt;00:00, 74.1MB/s]"
     }
    },
    "d7dd04e34d7b4caf9067b525a36beff1": {
     "model_module": "@jupyter-widgets/controls",
     "model_module_version": "1.5.0",
     "model_name": "HTMLModel",
     "state": {
      "_dom_classes": [],
      "_model_module": "@jupyter-widgets/controls",
      "_model_module_version": "1.5.0",
      "_model_name": "HTMLModel",
      "_view_count": null,
      "_view_module": "@jupyter-widgets/controls",
      "_view_module_version": "1.5.0",
      "_view_name": "HTMLView",
      "description": "",
      "description_tooltip": null,
      "layout": "IPY_MODEL_5ef6465adba34049b214f6ad9b831e9b",
      "placeholder": "​",
      "style": "IPY_MODEL_1242b62da14e4f45b1ad7796554a5b69",
      "value": "100%"
     }
    }
   }
  }
 },
 "nbformat": 4,
 "nbformat_minor": 5
}
